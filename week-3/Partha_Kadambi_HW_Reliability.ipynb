{
 "cells": [
  {
   "cell_type": "markdown",
   "source": [
    "# Week 2 - Sampling & Reliability\n",
    "\n",
    "Up until this week, we have assumed that the corpus you have used for analysis assignments represented a *meaningful* assemblage of texts from which reasonable inferences could be drawn about the social game, social world and social actors that produced it. \n",
    "\n",
    "This week, we ask you to build a corpus for preliminary analysis and articulate what your sample represents in context of your final project. We begin by exploring how we can get *human* readings of content at scale. We want to gather and utilize human responses for several reasons. First, we may want to use crowdsourced human scores as the primary method of coding, extracting or organizing content (as it was in two of the assigned readings). Second, we may want to validate or tune a computational algorithm we may have developed in terms of how it is associated with human meanings or experience. Finally, we may want to use human coding on a sample of data as the basis for training a model or algorithm to then extrapolate *human-like* annotations to the entire population. Here intelligent sampling is critical to maximize effective maching training. \n",
    "\n",
    "For this notebook we will be using the following packages"
   ],
   "metadata": {
    "collapsed": false
   }
  },
  {
   "cell_type": "code",
   "execution_count": null,
   "outputs": [],
   "source": [
    "#Special module written for this class\n",
    "#This provides access to data and to helper functions from previous weeks\n",
    "#Make sure you update it before starting this notebook\n",
    "import lucem_illud_2020 #pip install -U git+git://github.com/Computational-Content-Analysis-2020/lucem_illud_2020.git\n",
    "\n",
    "#All these packages need to be installed from pip\n",
    "import numpy as np #For arrays\n",
    "import scipy as sp #For some stats\n",
    "import pandas #Gives us DataFrames\n",
    "import matplotlib.pyplot as plt #For graphics\n",
    "import seaborn #Makes the graphics look nicer\n",
    "import pyanno #On python3 make sure to pip install pyanno3\n",
    "\n",
    "#We need to import these this way due to how pyanno is setup\n",
    "from pyanno.measures import pairwise_matrix, agreement, cohens_kappa, cohens_weighted_kappa, fleiss_kappa, krippendorffs_alpha, pearsons_rho, scotts_pi, spearmans_rho\n",
    "from pyanno.annotations import AnnotationsContainer\n",
    "from pyanno.models import ModelA, ModelBt, ModelB\n",
    "\n",
    "from functools import reduce\n",
    "from itertools import permutations\n",
    "import math\n",
    "\n",
    "\n",
    "#This 'magic' command makes the plots work better\n",
    "#in the notebook, don't use it outside of a notebook.\n",
    "#Also you can ignore the warning\n",
    "%matplotlib inline\n",
    "\n",
    "import os #For looking through files\n",
    "import os.path #For managing file paths"
   ],
   "metadata": {
    "collapsed": false,
    "pycharm": {
     "name": "#%%\n"
    }
   }
  },
  {
   "cell_type": "markdown",
   "source": [
    "## <span style=\"color:red\">*Pitch the Domain of your Project*</span>\n",
    "\n",
    "<span style=\"color:red\">In the two cells immediately following, describe **WHAT** you are planning to analyze for your final project (i.e., texts, contexts and the social game, world and actors you intend to learn about through your analysis) (<200 words) and **WHY** you are going to do it (i.e., why would theory and/or the average person benefit from knowing the results of your investigation) (<200 words)? [**Note**: your individual or collective project can change over the course of the quarter if new data and/or analysis opportunities arise or if old ones fade away.]"
   ],
   "metadata": {
    "collapsed": false
   }
  },
  {
   "cell_type": "markdown",
   "source": [
    "## ***What?*** \n",
    "\n",
    "I'm planning to analyze online profiles (likely from Twitter) to predict their behavioral traits.\n",
    "I will be analyzing behaviour by using a Jungian personality archetype framework - in which\n",
    "personality can be classified into 16 types. The profile data I plan to collect will consist of\n",
    "a persons \"likes\", own tweets and retweets, and the list of followers. Crucially, the profiles\n",
    "that I plan to scrape will be self-tagged by personality (ie they declare their type), which is one\n",
    "of 16 possible. This provides us the labels needed for a classifier."
   ],
   "metadata": {
    "collapsed": false
   }
  },
  {
   "cell_type": "markdown",
   "source": [
    "## ***Why?***\n",
    "Jungian personality archetypes are enormously popular in popular culture as many see them as accurate\n",
    "in their analysis. The trait framework is similar to that of the Big-5 and can be used for\n",
    "predictive analysis of behavior (t is also highly popular in organizational psychology/industry).\n",
    "As this conception of personality type is regarded as 'innate' by theorists, this online-profile based\n",
    "methodology to predict type would serve as a useful theoretical construct to understand social behaviour and\n",
    "causality in online social networks."
   ],
   "metadata": {
    "collapsed": false
   }
  },
  {
   "cell_type": "markdown",
   "source": [
    "## <span style=\"color:red\">*Pitch Your Sample*</span>\n",
    "\n",
    "<span style=\"color:red\">In the cell immediately following, describe the rationale behind your proposed sample design for your final project. What is the social game, social work, or social actors about whom you are seeking to make inferences? What are its virtues with respect to your research questions? What are its limitations? What are alternatives? What would be a reasonable path to \"scale up\" your sample for further analysis (i.e., high-profile publication)? (<200 words)."
   ],
   "metadata": {
    "collapsed": false
   }
  },
  {
   "cell_type": "markdown",
   "source": [
    "The sample I plan to collect is profile data from Twitter which includes a person's \"likes\",\n",
    "tweets and followers. Personality traits would theoretically heavily influence a person's\n",
    "interests, information consumption patterns, and choice of social sphere in which they participate in.\n",
    "These factors would at least be partially captures by the kind of tweets people consume (and hence like),\n",
    "the kind of people they follow (the social game they participate in), and the kind of tweets they write.\n",
    "These should help us classify people's personalities. The primary limitations arise from the data\n",
    "being biased by the choice of social platform (as the choice of platform is linked with the social\n",
    "game being played). The alternative would be to include profiles from other websites as well (Reddit).\n",
    "Collecting more samples from a variety of different websites would be the best way to scale up the\n",
    "sample for further analysis."
   ],
   "metadata": {
    "collapsed": false
   }
  },
  {
   "cell_type": "markdown",
   "source": [
    "# Example Annotation Dataset"
   ],
   "metadata": {
    "collapsed": false
   }
  },
  {
   "cell_type": "markdown",
   "source": [
    "Load Rzhetsky et al (2009)'s sample dataset, which can be found [here](https://github.com/enthought/uchicago-pyanno/tree/master/data). This data is the result of a content analytic / content extraction study in which Andrey Rzhetsky and colleagues from the National Library of Medicine, published [here](http://journals.plos.org/ploscompbiol/article?id=10.1371/journal.pcbi.1000391) in [PLOS Computational Biology](http://journals.plos.org/ploscompbiol/), gave eight annotators 10,000 sentence chunks from biomedical text in biomedical abstracts and articles, then asked them, in a loop design schematically illustrated below that provided 3 independent codings for each document. The sampling strategy pursued diversity by drawing from PubMed abstracts (1000) and full-text articles (9000: 20% from abstracts, 10% from introductions, 20% from methods, 25% from results, and 25% from discussions.) The dataset extract here involves respondents codes for sentences in terms of their *Evidence*: {0, 1, 2, 3, -1} where 0 is the complete lack of evidence, 3 is direct evidence present within the sentence, and -1 is didn't respond. (They also crowdsourced and analyzed *polarity*, *certainty*, and *number*). For example, consider the following two abutting sentence chunks: *\"Because null mutations in toxR and toxT abolish CT and TcpA expression in the El Tor biotype and also attenuate virulence...\"* [i.e., average certainty = 0], *\"...it is likely that the ToxR regulon has functional similarities between the two biotypes despite the clear differences in the inducing parameters observed in vitro\"* [i.e., average certainty = 1].\""
   ],
   "metadata": {
    "collapsed": false
   }
  },
  {
   "cell_type": "code",
   "execution_count": null,
   "outputs": [],
   "source": [
    "%%html\n",
    "<img source=\"loopdesign.png\">"
   ],
   "metadata": {
    "collapsed": false,
    "pycharm": {
     "name": "#%%\n"
    }
   }
  },
  {
   "cell_type": "markdown",
   "source": [
    "[Click here for loop design](loopdesign.png)"
   ],
   "metadata": {
    "collapsed": false
   }
  },
  {
   "cell_type": "code",
   "execution_count": null,
   "outputs": [],
   "source": [
    "x = np.loadtxt(\"../data/pyAnno/testdata_numerical.txt\")\n",
    "anno = AnnotationsContainer.from_array(x, missing_values=[-1])"
   ],
   "metadata": {
    "collapsed": false,
    "pycharm": {
     "name": "#%%\n"
    }
   }
  },
  {
   "cell_type": "markdown",
   "source": [
    "Interrogate the AnnotationsContainer object."
   ],
   "metadata": {
    "collapsed": false
   }
  },
  {
   "cell_type": "code",
   "execution_count": null,
   "outputs": [],
   "source": [
    "anno.annotations"
   ],
   "metadata": {
    "collapsed": false,
    "pycharm": {
     "name": "#%%\n"
    }
   }
  },
  {
   "cell_type": "code",
   "execution_count": null,
   "outputs": [],
   "source": [
    "anno.labels"
   ],
   "metadata": {
    "collapsed": false,
    "pycharm": {
     "name": "#%%\n"
    }
   }
  },
  {
   "cell_type": "code",
   "execution_count": null,
   "outputs": [],
   "source": [
    "anno.missing_values"
   ],
   "metadata": {
    "collapsed": false,
    "pycharm": {
     "name": "#%%\n"
    }
   }
  },
  {
   "cell_type": "markdown",
   "source": [
    "# Annotation Statistics"
   ],
   "metadata": {
    "collapsed": false
   }
  },
  {
   "cell_type": "markdown",
   "source": [
    "First, we assume categorical codes...that each code is qualitatively distinct from each other. Two measures are primarily used for this: Scott's $\\pi$, Cohen's $\\kappa$, and Krippendorff's $\\alpha$ which each measure the extent of agreement between two annotators, but take into account the possibility of the agreement occurring by chance in slightly different ways. Any agreement measure begins with the frequency of codes:"
   ],
   "metadata": {
    "collapsed": false
   }
  },
  {
   "cell_type": "code",
   "execution_count": null,
   "outputs": [],
   "source": [
    "pyanno.measures.agreement.labels_frequency(anno.annotations,4)"
   ],
   "metadata": {
    "collapsed": false,
    "pycharm": {
     "name": "#%%\n"
    }
   }
  },
  {
   "cell_type": "markdown",
   "source": [
    "Now consider the \"confusion matrix\" or matrix of coded agreements between any two coders:"
   ],
   "metadata": {
    "collapsed": false
   }
  },
  {
   "cell_type": "code",
   "execution_count": null,
   "outputs": [],
   "source": [
    "c = pyanno.measures.agreement.confusion_matrix(anno.annotations[:,0], anno.annotations[:,1],4)\n",
    "print(c)\n",
    "ac = seaborn.heatmap(c)\n",
    "plt.show()"
   ],
   "metadata": {
    "collapsed": false,
    "pycharm": {
     "name": "#%%\n"
    }
   }
  },
  {
   "cell_type": "markdown",
   "source": [
    "Scott's $\\pi$ is computed as:\n",
    "\n",
    "$\\pi = \\frac{\\text{Pr}(a)-\\text{Pr}(e)}{1-\\text{Pr}(e)}$\n",
    "\n",
    "Where Pr($a$) is relative observed agreement, and Pr($e$) is expected agreement using joint proportions calculated from the confusion matrix or matrix of coded agreements between any two coders:"
   ],
   "metadata": {
    "collapsed": false
   }
  },
  {
   "cell_type": "code",
   "execution_count": null,
   "outputs": [],
   "source": [
    "scotts_pi(anno.annotations[:,0], anno.annotations[:,1])"
   ],
   "metadata": {
    "collapsed": false,
    "pycharm": {
     "name": "#%%\n"
    }
   }
  },
  {
   "cell_type": "markdown",
   "source": [
    "The generalization of Scott's $\\pi$ to $n$ coders is Fleiss' $\\kappa$ (Fleiss called it $\\kappa$ because he thought he was generalizing Cohen's $\\kappa$)"
   ],
   "metadata": {
    "collapsed": false
   }
  },
  {
   "cell_type": "code",
   "execution_count": null,
   "outputs": [],
   "source": [
    "fleiss_kappa(anno.annotations[::])"
   ],
   "metadata": {
    "collapsed": false,
    "pycharm": {
     "name": "#%%\n"
    }
   }
  },
  {
   "cell_type": "markdown",
   "source": [
    "Krippendorff's $\\alpha$ generalizes of Fleiss' $\\kappa$ to $n$ coders and takes into account the fact that annotations here are not categorically different, but ordinal, by adding a weight matrix in which off-diagonal cells contain weights indicating the seriousness of the disagreement between each score. When produced with no arguments, it simply produces an arithmetic distance (e.g., 3-1=2), such that cells one off the diagonal are weighted 1, two off 2, etc."
   ],
   "metadata": {
    "collapsed": false
   }
  },
  {
   "cell_type": "code",
   "execution_count": null,
   "outputs": [],
   "source": [
    "krippendorffs_alpha(anno.annotations[::])"
   ],
   "metadata": {
    "collapsed": false,
    "pycharm": {
     "name": "#%%\n"
    }
   }
  },
  {
   "cell_type": "markdown",
   "source": [
    "Like Scott's $\\pi$, Cohen's $\\kappa$ also takes into account the possibility of the agreement occurring by chance, but in the following way:\n",
    "\n",
    "$\\kappa = \\frac{p_o-p_e}{1-p_e}=1-\\frac{1-p_o}{p_e}$\n",
    "\n",
    "where $p_o$ is the relative observed agreement among raters, and $p_e$ is the hypothetical probability of chance agreement, using the observed data to calculate the probabilities of each observer randomly saying each category. If the raters are in complete agreement then $\\kappa = 1$. If there is no agreement among the raters other than what would be expected by chance (as given by $p_e$), $\\kappa ≤ 0 $. Here, Cohen's $\\kappa$ statistic for the first two annotators is computed. This is probably the most common metric of agreement."
   ],
   "metadata": {
    "collapsed": false
   }
  },
  {
   "cell_type": "code",
   "execution_count": null,
   "outputs": [],
   "source": [
    "cohens_kappa(anno.annotations[:,0], anno.annotations[:,1])"
   ],
   "metadata": {
    "collapsed": false,
    "pycharm": {
     "name": "#%%\n"
    }
   }
  },
  {
   "cell_type": "code",
   "execution_count": null,
   "outputs": [],
   "source": [
    "m = pairwise_matrix(cohens_kappa, anno.annotations)\n",
    "print(m)"
   ],
   "metadata": {
    "collapsed": false,
    "pycharm": {
     "name": "#%%\n"
    }
   }
  },
  {
   "cell_type": "code",
   "execution_count": null,
   "outputs": [],
   "source": [
    "ax = seaborn.heatmap(m)\n",
    "plt.show()"
   ],
   "metadata": {
    "collapsed": false,
    "pycharm": {
     "name": "#%%\n"
    }
   }
  },
  {
   "cell_type": "markdown",
   "source": [
    "You can see that this 8 by 3 loop design will be less stable than an 8 choose 3 combinatorial design, because each codes with more others. "
   ],
   "metadata": {
    "collapsed": false
   }
  },
  {
   "cell_type": "markdown",
   "source": [
    "One can also assess the average Cohen's $\\kappa$ for all pairs of coders that have coded against one another:"
   ],
   "metadata": {
    "collapsed": false
   }
  },
  {
   "cell_type": "code",
   "execution_count": null,
   "outputs": [],
   "source": [
    "def pairwise_metric_average(metric, array):\n",
    "    \"\"\"Calculate the pairwise metric average for the real elements of metric function run on an array of annotations\"\"\"\n",
    "    p = permutations(range(array[0,:].size),2)\n",
    "    m = [metric(array[:,x[0]], array[:,x[1]]) for x in p]\n",
    "    clean_m = [c for c in m if not math.isnan(c)]\n",
    "    return reduce(lambda a, b: a + b, clean_m)/len(clean_m)    \n",
    " \n",
    "pairwise_metric_average(cohens_kappa, anno.annotations)"
   ],
   "metadata": {
    "collapsed": false,
    "pycharm": {
     "name": "#%%\n"
    }
   }
  },
  {
   "cell_type": "markdown",
   "source": [
    "As recognized with Krippendorff's flexible $\\alpha$, our scores are *not* categorical, but rather ordered and her considered metric. Weighted $\\kappa$ allows you to count disagreements differently and is useful when codes are ordered as they are here. Here a weight matrix is added to the calculation, in which off-diagonal cells contain weights indicating the seriousness of the disagreement between each score. When automatically produced, it simply produces an arithmetic distance (e.g., 3-1=2), such that cells one off the diagonal are weighted 1, two off 2, etc. Here\n",
    "\n",
    "$\\kappa = 1-\\frac{\\sum^k_{i=1}\\sum^k_{j=1}w_{ij}x_{ij}}{\\sum^k_{i=1}\\sum^k_{j=1}w_{ij}m_{ij}}$\n",
    "\n",
    "where $\\kappa$ = $n$ codes and $w_{ij}$,$x_{ij}$, and $m_{ij}$ represent elements in the weight, observed, and expected matrices, respectively. (Obviously, when diagonal cells contain weights of 0 and off-diagonal cells weights of 1, this equals $\\kappa$)."
   ],
   "metadata": {
    "collapsed": false
   }
  },
  {
   "cell_type": "code",
   "execution_count": null,
   "outputs": [],
   "source": [
    "cohens_weighted_kappa(anno.annotations[:,0], anno.annotations[:,1])"
   ],
   "metadata": {
    "collapsed": false,
    "pycharm": {
     "name": "#%%\n"
    }
   }
  },
  {
   "cell_type": "markdown",
   "source": [
    "Or averaged over the total:"
   ],
   "metadata": {
    "collapsed": false
   }
  },
  {
   "cell_type": "code",
   "execution_count": null,
   "outputs": [],
   "source": [
    "pairwise_metric_average(cohens_weighted_kappa,anno.annotations)"
   ],
   "metadata": {
    "collapsed": false,
    "pycharm": {
     "name": "#%%\n"
    }
   }
  },
  {
   "cell_type": "markdown",
   "source": [
    "Alternatively, if the annontation data can be understood as indicating real values, we can assess not agreement, but rather the correlation of values (Pearson's $\\rho$) or correlation of ranks (Spearman's $\\rho$) for pairs of coders:"
   ],
   "metadata": {
    "collapsed": false
   }
  },
  {
   "cell_type": "code",
   "execution_count": null,
   "outputs": [],
   "source": [
    "n = pairwise_matrix(pearsons_rho, anno.annotations)\n",
    "m = pairwise_matrix(spearmans_rho, anno.annotations)\n",
    "an = seaborn.heatmap(n)\n",
    "plt.show()\n",
    "am = seaborn.heatmap(m)\n",
    "plt.show()"
   ],
   "metadata": {
    "collapsed": false,
    "pycharm": {
     "name": "#%%\n"
    }
   }
  },
  {
   "cell_type": "markdown",
   "source": [
    "Or averaged over all comparable pairs:"
   ],
   "metadata": {
    "collapsed": false
   }
  },
  {
   "cell_type": "code",
   "execution_count": null,
   "outputs": [],
   "source": [
    "print(pairwise_metric_average(pearsons_rho,anno.annotations), pairwise_metric_average(spearmans_rho,anno.annotations))"
   ],
   "metadata": {
    "collapsed": false,
    "pycharm": {
     "name": "#%%\n"
    }
   }
  },
  {
   "cell_type": "markdown",
   "source": [
    "## <span style=\"color:red\">*Your turn*</span>\n",
    "\n",
    "<span style=\"color:red\">Perform a content annotation survey of some kind in which at least 3 people evaluate and code each piece of content, using Amazon Mechanical Turk as described in the MTurk slides in the Assignment link on Canvas, or by hand with friends.  With the resulting data, calculate, visualize and discuss inter-coder agreement or covariation with appropriate metrics. What does this means for the reliability of human assessments regarding content in your domain?"
   ],
   "metadata": {
    "collapsed": false
   }
  },
  {
   "cell_type": "markdown",
   "source": [
    "The data for this section was obtained from MTurk. The HIT was to rate Twitter profiles on a five point scale\n",
    "where 1 corresponded to \"highly artificial/possibly a bot\" to 5 - natural, highly life-like, realistic.\n",
    "\n",
    "A total of 8 profiles was rated by 5 coders, who could classify them into 5 classes as described above."
   ],
   "metadata": {
    "collapsed": false
   }
  },
  {
   "cell_type": "code",
   "execution_count": 170,
   "outputs": [],
   "source": [
    "data = pandas.read_csv(\"Rate Twitter profile natural-ness (Responses) - Form Responses 1.csv\")\n",
    "data.drop('Timestamp', axis = 1, inplace= True)\n",
    "data.columns = [i for i in range(0,8)]"
   ],
   "metadata": {
    "collapsed": false,
    "pycharm": {
     "name": "#%%\n"
    }
   }
  },
  {
   "cell_type": "code",
   "execution_count": 171,
   "outputs": [
    {
     "name": "stdout",
     "output_type": "stream",
     "text": [
      "   0  1  2  3  4  5  6  7\n",
      "0  4  1  5  3  1  3  5  3\n",
      "1  3  2  2  3  4  2  2  1\n",
      "2  4  2  3  4  5  3  2  3\n",
      "3  4  4  3  4  2  4  3  2\n",
      "4  4  3  3  5  5  4  3  4\n"
     ]
    }
   ],
   "source": [
    "print(data)\n",
    "x = np.array(data).T\n",
    "mtAnno = AnnotationsContainer.from_array(x)"
   ],
   "metadata": {
    "collapsed": false,
    "pycharm": {
     "name": "#%%\n"
    }
   }
  },
  {
   "cell_type": "code",
   "execution_count": 172,
   "outputs": [
    {
     "data": {
      "text/plain": "[1, 2, 3, 4, 5]"
     },
     "execution_count": 172,
     "metadata": {},
     "output_type": "execute_result"
    }
   ],
   "source": [
    "mtAnno.labels"
   ],
   "metadata": {
    "collapsed": false,
    "pycharm": {
     "name": "#%%\n"
    }
   }
  },
  {
   "cell_type": "markdown",
   "source": [
    "# Statistics"
   ],
   "metadata": {
    "collapsed": false
   }
  },
  {
   "cell_type": "code",
   "execution_count": 173,
   "outputs": [
    {
     "data": {
      "text/plain": "array([0.075, 0.2  , 0.325, 0.275, 0.125])"
     },
     "execution_count": 173,
     "metadata": {},
     "output_type": "execute_result"
    }
   ],
   "source": [
    "pyanno.measures.agreement.labels_frequency(mtAnno.annotations, 5)"
   ],
   "metadata": {
    "collapsed": false,
    "pycharm": {
     "name": "#%%\n"
    }
   }
  },
  {
   "cell_type": "markdown",
   "source": [
    "Confusion matrix between #2 and #3"
   ],
   "metadata": {
    "collapsed": false
   }
  },
  {
   "cell_type": "code",
   "execution_count": 174,
   "outputs": [
    {
     "name": "stdout",
     "output_type": "stream",
     "text": [
      "[[0. 0. 0. 0. 0.]\n",
      " [0. 2. 0. 0. 0.]\n",
      " [1. 2. 0. 0. 0.]\n",
      " [0. 0. 2. 0. 0.]\n",
      " [0. 0. 0. 1. 0.]]\n"
     ]
    },
    {
     "data": {
      "text/plain": "<Figure size 432x288 with 2 Axes>",
      "image/png": "[encoded data removed]"
     },
     "metadata": {
      "needs_background": "light"
     },
     "output_type": "display_data"
    }
   ],
   "source": [
    "c = pyanno.measures.agreement.confusion_matrix(mtAnno.annotations[:,2], mtAnno.annotations[:,1],5)\n",
    "print(c)\n",
    "ac = seaborn.heatmap(c)\n",
    "plt.show()"
   ],
   "metadata": {
    "collapsed": false,
    "pycharm": {
     "name": "#%%\n"
    }
   }
  },
  {
   "cell_type": "markdown",
   "source": [
    "Scott's Pi pairwise plot:"
   ],
   "metadata": {
    "collapsed": false
   }
  },
  {
   "cell_type": "code",
   "execution_count": 175,
   "outputs": [
    {
     "name": "stdout",
     "output_type": "stream",
     "text": [
      "[[ 1.         -0.13131313  0.17525773 -0.15463918 -0.2173913 ]\n",
      " [-0.13131313  1.         -0.04347826 -0.43820225 -0.31958763]\n",
      " [ 0.17525773 -0.04347826  1.          0.1011236   0.12087912]\n",
      " [-0.15463918 -0.43820225  0.1011236   1.          0.26436782]\n",
      " [-0.2173913  -0.31958763  0.12087912  0.26436782  1.        ]]\n"
     ]
    }
   ],
   "source": [
    "m = pairwise_matrix(scotts_pi, mtAnno.annotations)\n",
    "print(m)"
   ],
   "metadata": {
    "collapsed": false,
    "pycharm": {
     "name": "#%%\n"
    }
   }
  },
  {
   "cell_type": "code",
   "execution_count": 176,
   "outputs": [
    {
     "data": {
      "text/plain": "<Figure size 432x288 with 2 Axes>",
      "image/png": "[encoded data removed]"
     },
     "metadata": {
      "needs_background": "light"
     },
     "output_type": "display_data"
    }
   ],
   "source": [
    "ax = seaborn.heatmap(m)\n",
    "plt.show()"
   ],
   "metadata": {
    "collapsed": false,
    "pycharm": {
     "name": "#%%\n"
    }
   }
  },
  {
   "cell_type": "markdown",
   "source": [
    "Fleiss Kappa:"
   ],
   "metadata": {
    "collapsed": false
   }
  },
  {
   "cell_type": "code",
   "execution_count": 177,
   "outputs": [
    {
     "data": {
      "text/plain": "-0.02310231023102316"
     },
     "execution_count": 177,
     "metadata": {},
     "output_type": "execute_result"
    }
   ],
   "source": [
    "fleiss_kappa(mtAnno.annotations[::])"
   ],
   "metadata": {
    "collapsed": false,
    "pycharm": {
     "name": "#%%\n"
    }
   }
  },
  {
   "cell_type": "markdown",
   "source": [
    "Krippendorff's Alpha:\n",
    "This is the most relevant one for our sample, as we use a Likert scale (closer numbers are closer categories)"
   ],
   "metadata": {
    "collapsed": false
   }
  },
  {
   "cell_type": "code",
   "execution_count": 178,
   "outputs": [
    {
     "data": {
      "text/plain": "0.001004520341536752"
     },
     "execution_count": 178,
     "metadata": {},
     "output_type": "execute_result"
    }
   ],
   "source": [
    "krippendorffs_alpha(mtAnno.annotations[:,:])"
   ],
   "metadata": {
    "collapsed": false,
    "pycharm": {
     "name": "#%%\n"
    }
   }
  },
  {
   "cell_type": "markdown",
   "source": [
    "Cohen's Kappa pairwise plot:"
   ],
   "metadata": {
    "collapsed": false
   }
  },
  {
   "cell_type": "code",
   "execution_count": 179,
   "outputs": [
    {
     "name": "stdout",
     "output_type": "stream",
     "text": [
      "[[ 1.         -0.01818182  0.21568627 -0.03703704 -0.16666667]\n",
      " [-0.01818182  1.          0.         -0.33333333 -0.16363636]\n",
      " [ 0.21568627  0.          1.          0.13043478  0.14893617]\n",
      " [-0.03703704 -0.33333333  0.13043478  1.          0.30434783]\n",
      " [-0.16666667 -0.16363636  0.14893617  0.30434783  1.        ]]\n"
     ]
    }
   ],
   "source": [
    "m = pairwise_matrix(cohens_kappa, mtAnno.annotations)\n",
    "print(m)"
   ],
   "metadata": {
    "collapsed": false,
    "pycharm": {
     "name": "#%%\n"
    }
   }
  },
  {
   "cell_type": "code",
   "execution_count": 180,
   "outputs": [
    {
     "data": {
      "text/plain": "<Figure size 432x288 with 2 Axes>",
      "image/png": "[encoded data removed]"
     },
     "metadata": {
      "needs_background": "light"
     },
     "output_type": "display_data"
    }
   ],
   "source": [
    "ax = seaborn.heatmap(m)\n",
    "plt.show()"
   ],
   "metadata": {
    "collapsed": false,
    "pycharm": {
     "name": "#%%\n"
    }
   }
  },
  {
   "cell_type": "markdown",
   "source": [
    "Cohen's weighted kappa average:"
   ],
   "metadata": {
    "collapsed": false
   }
  },
  {
   "cell_type": "code",
   "execution_count": 181,
   "outputs": [
    {
     "name": "stdout",
     "output_type": "stream",
     "text": [
      "[[ 1.         -0.14285714  0.02222222  0.         -0.24444444]\n",
      " [-0.14285714  1.          0.28205128 -0.15789474  0.05882353]\n",
      " [ 0.02222222  0.28205128  1.          0.          0.42857143]\n",
      " [ 0.         -0.15789474  0.          1.          0.125     ]\n",
      " [-0.24444444  0.05882353  0.42857143  0.125       1.        ]]\n"
     ]
    }
   ],
   "source": [
    "m = pairwise_matrix(cohens_weighted_kappa, mtAnno.annotations)\n",
    "print(m)"
   ],
   "metadata": {
    "collapsed": false,
    "pycharm": {
     "name": "#%%\n"
    }
   }
  },
  {
   "cell_type": "code",
   "execution_count": 182,
   "outputs": [
    {
     "data": {
      "text/plain": "<Figure size 432x288 with 2 Axes>",
      "image/png": "[encoded data removed]"
     },
     "metadata": {
      "needs_background": "light"
     },
     "output_type": "display_data"
    }
   ],
   "source": [
    "ax = seaborn.heatmap(m)\n",
    "plt.show()"
   ],
   "metadata": {
    "collapsed": false,
    "pycharm": {
     "name": "#%%\n"
    }
   }
  },
  {
   "cell_type": "markdown",
   "source": [
    "Average:"
   ],
   "metadata": {
    "collapsed": false
   }
  },
  {
   "cell_type": "code",
   "execution_count": 183,
   "outputs": [
    {
     "data": {
      "text/plain": "0.037147213811300504"
     },
     "execution_count": 183,
     "metadata": {},
     "output_type": "execute_result"
    }
   ],
   "source": [
    "pairwise_metric_average(cohens_weighted_kappa,mtAnno.annotations)"
   ],
   "metadata": {
    "collapsed": false,
    "pycharm": {
     "name": "#%%\n"
    }
   }
  },
  {
   "cell_type": "markdown",
   "source": [
    "Pearson and spearman correlation plots:"
   ],
   "metadata": {
    "collapsed": false
   }
  },
  {
   "cell_type": "code",
   "execution_count": 184,
   "outputs": [
    {
     "data": {
      "text/plain": "<Figure size 432x288 with 2 Axes>",
      "image/png": "[encoded data removed]"
     },
     "metadata": {
      "needs_background": "light"
     },
     "output_type": "display_data"
    },
    {
     "data": {
      "text/plain": "<Figure size 432x288 with 2 Axes>",
      "image/png": "[encoded data removed]"
     },
     "metadata": {
      "needs_background": "light"
     },
     "output_type": "display_data"
    }
   ],
   "source": [
    "n = pairwise_matrix(pearsons_rho, mtAnno.annotations)\n",
    "m = pairwise_matrix(spearmans_rho, mtAnno.annotations)\n",
    "an = seaborn.heatmap(n)\n",
    "plt.show()\n",
    "am = seaborn.heatmap(m)\n",
    "plt.show()"
   ],
   "metadata": {
    "collapsed": false,
    "pycharm": {
     "name": "#%%\n"
    }
   }
  },
  {
   "cell_type": "markdown",
   "source": [
    "Averages:"
   ],
   "metadata": {
    "collapsed": false
   }
  },
  {
   "cell_type": "code",
   "execution_count": 185,
   "outputs": [
    {
     "name": "stdout",
     "output_type": "stream",
     "text": [
      "0.09781499214804448 0.12641434797744167\n"
     ]
    }
   ],
   "source": [
    "print(pairwise_metric_average(pearsons_rho,mtAnno.annotations), pairwise_metric_average(spearmans_rho,mtAnno.annotations))"
   ],
   "metadata": {
    "collapsed": false,
    "pycharm": {
     "name": "#%%\n"
    }
   }
  },
  {
   "cell_type": "markdown",
   "source": [
    "# Discussion\n",
    "\n",
    "The statistics above indicate that overall, the coders do not seem to agree with one another very much. The average correlation and similarity coefficients are not very high,\n",
    "even when the distances are weighted to account for closer and larger dissimilarities.\n",
    "\n",
    "Fleiss kappa: -0.02310231023102316 - indicates worse than chance agreement (!), when classes are considered equally dissimilar.\n",
    "\n",
    "Krippendoff's alpha: 0.001004520341536752 - not much improvement over Fleiss Kappa. This is not a good sign for our data as this metric weights distances (which is necessary for our task). The low number indicates that coders are not in much agreement with one another.\n",
    "\n",
    "Cohen's weighted kappa: 0.037147213811300504.\n",
    "\n",
    "The low values of values of these coefficient could be because of 1-2 highly bad-quality analysts and should not mean that there is no useful information in the data. We explore this possibility in the next section.\n",
    "\n",
    "The pairwise plots show that while some of the coders agree with each other consistently over others (2 & 3, 4 & 5), the average is brought down\n",
    "due to highly dissimilar scoring by #1 and the other coders, and also a general lack of agreement between others.\n",
    "\n",
    "The spearman correlation coeffient (calulated below) (which is more appropriate than the pearson correlation coefficient in this scenario),\n",
    "indicates that there is certainly some sense of ordinality amongst the coders. This is especially important for this task.\n",
    "\n",
    "# Implications\n",
    "\n",
    "This lack of agreement has two primary sources: Poor efforts by the MTurk workers and general subjectivity of the\n",
    "task which leads to different opinions.\n",
    "\n",
    "1) Much of the variation in the codings could be attributed to different (but valid) interpretations of the instructions\n",
    "given for the task (the meaning of 'realistic', 'fake' has multiple meanings. Some of the variation could, of course, have been random error.\n",
    "\n",
    "Note that despite the lack of agreement, a manual inspection revealed that most (4/5) made accurate, or otherwise justifiable choices that contained useful information.\n",
    "Overall, the implications for this domain are that:\n",
    "\n",
    "1) A large amount of 'natural' variation resulting due to participant subjectivity is expected, more so than that expected from, say, visual object classification tasks.\n",
    "\n",
    "2) Focussing on identifying and excluding coders who consistently make 'obviously' wrong responses is necessary as low quality analysts are common on MTurk.\n",
    "\n",
    "3) Despite these drawbacks, it appears that the coders were (reasonably) consistent for some estimations and provided some useful classifications.\n",
    "This should demonstrate that if the task instructions were more refined, it might be quite feasible to use human workers for mass-annotations for this task."
   ],
   "metadata": {
    "collapsed": false
   }
  },
  {
   "cell_type": "markdown",
   "source": [
    "# Models"
   ],
   "metadata": {
    "collapsed": false
   }
  },
  {
   "cell_type": "markdown",
   "source": [
    "However, what if some coders are better than others. The prior measures all rely on the assumption that all coders are equally good. What if some are worse than others? Now we use Rzhetsky et al (2009) and Dawid & Skene's models to make inference about true label classes by downweighting bad or deviant coders. Pyanno provides three relevant models: ModelA, ModelB, and ModelBt. Model A can only be currently run on a balanced 8-coder design, but assesses accuracy purely based on agreement. Model B with $\\theta$s models the relationship between each coder and code. Model B is the Dawid & Skene model from the reading. The following image schematically suggests the relationship between the models. <img src=\"../data/models.png\">"
   ],
   "metadata": {
    "collapsed": false
   }
  },
  {
   "cell_type": "markdown",
   "source": [
    "The models should provide similar results. To estimate the parameters for any models, we first need to create a new model. "
   ],
   "metadata": {
    "collapsed": false
   }
  },
  {
   "cell_type": "code",
   "execution_count": null,
   "outputs": [],
   "source": [
    "# create a new instance of model A, with 4 label classes\n",
    "model = ModelB.create_initial_state(4, 8)\n",
    "# other model parameters are initialized from the model prior\n",
    "print(model.theta)\n",
    "print(model.log_likelihood(anno.annotations))"
   ],
   "metadata": {
    "collapsed": false,
    "pycharm": {
     "name": "#%%\n"
    }
   }
  },
  {
   "cell_type": "code",
   "execution_count": null,
   "outputs": [],
   "source": [
    "samples = model.sample_posterior_over_accuracy(anno.annotations, 200, burn_in_samples=100, thin_samples=3)"
   ],
   "metadata": {
    "collapsed": false,
    "pycharm": {
     "name": "#%%\n"
    }
   }
  },
  {
   "cell_type": "markdown",
   "source": [
    "Pyanno allows one to use either MLE (maximum likelihood estimation) or MAP (maximum a posteriori estimation) to estimate model parameters. Note that the parameters here correspond to our estimation of the accuracy of each annotator."
   ],
   "metadata": {
    "collapsed": false
   }
  },
  {
   "cell_type": "code",
   "execution_count": null,
   "outputs": [],
   "source": [
    "model.map(anno.annotations)\n",
    "print(model.theta)\n",
    "print(model.log_likelihood(anno.annotations))"
   ],
   "metadata": {
    "collapsed": false,
    "pycharm": {
     "name": "#%%\n"
    }
   }
  },
  {
   "cell_type": "code",
   "execution_count": null,
   "outputs": [],
   "source": [
    "model = ModelB.create_initial_state(4, 8)\n",
    "model.map(anno.annotations)\n",
    "print(model.theta)\n",
    "print(model.log_likelihood(anno.annotations))"
   ],
   "metadata": {
    "collapsed": false,
    "pycharm": {
     "name": "#%%\n"
    }
   }
  },
  {
   "cell_type": "markdown",
   "source": [
    "Once we have model parameters estimated, we can now make inferences about the true label classes. We can calculate the posterior distribution over the true label classes."
   ],
   "metadata": {
    "collapsed": false
   }
  },
  {
   "cell_type": "code",
   "execution_count": null,
   "outputs": [],
   "source": [
    "posterior = model.infer_labels(anno.annotations)\n",
    "print(posterior)"
   ],
   "metadata": {
    "collapsed": false,
    "pycharm": {
     "name": "#%%\n"
    }
   }
  },
  {
   "cell_type": "markdown",
   "source": [
    "Let's turn the posterior of the first 100 samples into a heatmap."
   ],
   "metadata": {
    "collapsed": false
   }
  },
  {
   "cell_type": "code",
   "execution_count": null,
   "outputs": [],
   "source": [
    "votes = []\n",
    "for r in anno.annotations:\n",
    "    v = [0] * len(anno.labels)\n",
    "    votes.append(v)\n",
    "    for a in r:\n",
    "        if a > -1:\n",
    "            v[a] += 1\n",
    "votes_array = np.array(votes)"
   ],
   "metadata": {
    "collapsed": false,
    "pycharm": {
     "name": "#%%\n"
    }
   }
  },
  {
   "cell_type": "code",
   "execution_count": null,
   "outputs": [],
   "source": [
    "fig, (ax1, ax2) = plt.subplots(ncols=2, figsize = (15, 10), sharey=True)\n",
    "num_questions = 20\n",
    "\n",
    "seaborn.heatmap(votes_array[:num_questions], annot = True, ax=ax2)\n",
    "seaborn.heatmap(posterior[:num_questions], annot=True, ax =ax1)\n",
    "ax1.set_title(\"Model\")\n",
    "ax2.set_title(\"Votes\")\n",
    "plt.show()"
   ],
   "metadata": {
    "collapsed": false,
    "pycharm": {
     "name": "#%%\n"
    }
   }
  },
  {
   "cell_type": "markdown",
   "source": [
    "This differs markedly from taking annotator scores at face value (Add comparison of average values)"
   ],
   "metadata": {
    "collapsed": false
   }
  },
  {
   "cell_type": "code",
   "execution_count": null,
   "outputs": [],
   "source": [
    "samples = model.sample_posterior_over_accuracy(anno.annotations, 200, burn_in_samples=100, thin_samples=3)"
   ],
   "metadata": {
    "collapsed": false,
    "pycharm": {
     "name": "#%%\n"
    }
   }
  },
  {
   "cell_type": "code",
   "execution_count": null,
   "outputs": [],
   "source": [
    "print(samples[0].mean(axis=0))\n",
    "print(samples[0].std(axis=0))"
   ],
   "metadata": {
    "collapsed": false,
    "pycharm": {
     "name": "#%%\n"
    }
   }
  },
  {
   "cell_type": "markdown",
   "source": [
    "Let's try everything again with ModelBt"
   ],
   "metadata": {
    "collapsed": false
   }
  },
  {
   "cell_type": "code",
   "execution_count": null,
   "outputs": [],
   "source": [
    "# create a new instance of model B, with 4 label classes and 8 annotators.\n",
    "model = ModelBt.create_initial_state(4, 8)\n",
    "print(model.theta)\n",
    "print(model.log_likelihood(anno.annotations))"
   ],
   "metadata": {
    "collapsed": false,
    "pycharm": {
     "name": "#%%\n"
    }
   }
  },
  {
   "cell_type": "code",
   "execution_count": null,
   "outputs": [],
   "source": [
    "model.map(anno.annotations)\n",
    "print(model.theta)\n",
    "print(model.log_likelihood(anno.annotations))"
   ],
   "metadata": {
    "collapsed": false,
    "pycharm": {
     "name": "#%%\n"
    }
   }
  },
  {
   "cell_type": "code",
   "execution_count": null,
   "outputs": [],
   "source": [
    "posterior = model.infer_labels(anno.annotations)\n",
    "print(posterior)"
   ],
   "metadata": {
    "collapsed": false,
    "pycharm": {
     "name": "#%%\n"
    }
   }
  },
  {
   "cell_type": "markdown",
   "source": [
    "Let's visualize the posterior of the first 10 samples according to ModelBt."
   ],
   "metadata": {
    "collapsed": false
   }
  },
  {
   "cell_type": "code",
   "execution_count": null,
   "outputs": [],
   "source": [
    "ax = seaborn.heatmap(posterior[:10,])\n",
    "plt.show()"
   ],
   "metadata": {
    "collapsed": false,
    "pycharm": {
     "name": "#%%\n"
    }
   }
  },
  {
   "cell_type": "markdown",
   "source": [
    "The property of these scores is that they enable us to identify the most likely code assuming coders of unequal quality, which also allows us to break ties when we know coder identity. For some analyses, we may simply use the posterior themselves rather than the most probably code outcome."
   ],
   "metadata": {
    "collapsed": false
   }
  },
  {
   "cell_type": "markdown",
   "source": [
    "# Generating Annotations"
   ],
   "metadata": {
    "collapsed": false
   }
  },
  {
   "cell_type": "markdown",
   "source": [
    "Pyanno also allows one to generate artificial data from a model."
   ],
   "metadata": {
    "collapsed": false
   }
  },
  {
   "cell_type": "code",
   "execution_count": null,
   "outputs": [],
   "source": [
    "model = ModelBt.create_initial_state(4, 3, theta=[0.99,0.75,0.25])\n",
    "#randome generate annotations with 4 label classes and 3 annotators. The accuracy of the three annotators are 0.99, 0.75, and 0.25 respectively.\n",
    "model.generate_annotations(20)"
   ],
   "metadata": {
    "collapsed": false,
    "pycharm": {
     "name": "#%%\n"
    }
   }
  },
  {
   "cell_type": "markdown",
   "source": [
    "## Visualizing coder accuracy"
   ],
   "metadata": {
    "collapsed": false
   }
  },
  {
   "cell_type": "markdown",
   "source": [
    "Pyanno provides a [graphical user interface](http://docs.enthought.com/uchicago-pyanno/user_guide.html) for making plots. However, it is not compatible with ipython notebooks. Nevertheless, nothing prevents us from making plots using matplotlib. Let's make a plot of the accuracy of each annotator inferred from ModelA."
   ],
   "metadata": {
    "collapsed": false
   }
  },
  {
   "cell_type": "code",
   "execution_count": null,
   "outputs": [],
   "source": [
    "model = ModelBt.create_initial_state(4, 8)\n",
    "model.mle(anno.annotations)\n",
    "samples = model.sample_posterior_over_accuracy(anno.annotations, 200, burn_in_samples=100, thin_samples=3)\n",
    "y =  samples.mean(axis=0)#.mean(axis = 1).mean(axis = 1)\n",
    "y_ci = samples.std(axis=0)#.mean(axis = 1).mean(axis = 1)"
   ],
   "metadata": {
    "collapsed": false,
    "pycharm": {
     "name": "#%%\n"
    }
   }
  },
  {
   "cell_type": "code",
   "execution_count": null,
   "outputs": [],
   "source": [
    "plt.figure()\n",
    "plt.errorbar(range(8),y, yerr = y_ci)\n",
    "plt.show()"
   ],
   "metadata": {
    "collapsed": false,
    "pycharm": {
     "name": "#%%\n"
    }
   }
  },
  {
   "cell_type": "markdown",
   "source": [
    "# Example with articles that use the General Social Survey"
   ],
   "metadata": {
    "collapsed": false
   }
  },
  {
   "cell_type": "markdown",
   "source": [
    "I performed a recent study in which the variables from thousands of articles were associated with those used in the General Social Survey, a widely used population sample, in order to interrogate how social science analyses are performed. Each article was reread and coded by a balanced set of three student coders using a 6 choose 3 design, such that all possible 3-coder-subsets (20) coded an equal number of articles. Coding was performed through a website that allowed students access to the digital article. To evaluate the validity of the student codes, we also recruited a sample of authors associated with 97 of our published articles to fill out the same online survey. \n",
    "\n",
    "Because not all coders coded items with equal accuracy, and because “don’t know” was an optional answer, leading to potential ties, we used a generative, probabilistic model to estimate the maximum a posteriori probability (MAP) prediction that an item’s code is true, which integrates over the estimated accuracy of coders, assuming only that the entire population of coders is slightly more often right than wrong. The model (“Model B”) is based on a simple underlying generation process that directly accounts for the probability that coded values are correct (Rzhetsky et al. 2009). For each coded value j, a set of parameters, denoted γj, represents the probability that each coded value is correct. For the ith coder (i = 1, 2, …, 6), we introduce a matrix of probabilities, denoted λ(i)x|y, that defines the probability that she assigns code x (e.g., Dependent variable) to a GSS variable with correct annotation y. For a perfect coder, the matrix λ(i)x|y would equal the identity matrix and her vote would count most toward the total. For a coder that always codes incorrectly—a “troll”—her matrix λ(i)x|y will have all its value off the diagonal and will only minimally influence the posterior. We co-authored the open source pyanno software that implements this model."
   ],
   "metadata": {
    "collapsed": false
   }
  },
  {
   "cell_type": "markdown",
   "source": [
    "Getting the data for each content analysis survey regarding how GSS variables were used in a large population of social science articles."
   ],
   "metadata": {
    "collapsed": false
   }
  },
  {
   "cell_type": "code",
   "execution_count": null,
   "outputs": [],
   "source": [
    "#anno_vdep = AnnotationsContainer.from_file(missing_values=[-1], filename=\"GSSvariable_testSdependent.csv\")\n",
    "dev = np.loadtxt(fname=\"../data/dataforgssstudy/n7GSSvariable_testSdependent.csv\", dtype=int, delimiter=\",\")\n",
    "anno_dv = AnnotationsContainer.from_array(dev)\n",
    "\n",
    "ind = np.loadtxt(fname=\"../data/dataforgssstudy/n7GSSvariable_testSindependent.csv\", dtype=int, delimiter=\",\")\n",
    "anno_iv = AnnotationsContainer.from_array(ind)\n",
    "\n",
    "cent = np.loadtxt(fname=\"../data/dataforgssstudy/n7GSSvariable_testScentral.csv\", dtype=int, delimiter=\",\")\n",
    "anno_cv = AnnotationsContainer.from_array(cent)\n",
    "\n",
    "cont = np.loadtxt(fname=\"../data/dataforgssstudy/n7GSSvariable_testScontrol.csv\", dtype=int, delimiter=\",\")\n",
    "anno_ctv = AnnotationsContainer.from_array(cont)\n",
    "\n",
    "test = np.loadtxt(fname=\"../data/dataforgssstudy/testH.csv\", dtype=int, delimiter=\",\")\n",
    "anno_test = AnnotationsContainer.from_array(test)"
   ],
   "metadata": {
    "collapsed": false,
    "pycharm": {
     "name": "#%%\n"
    }
   }
  },
  {
   "cell_type": "markdown",
   "source": [
    "Let's examine the data structure."
   ],
   "metadata": {
    "collapsed": false
   }
  },
  {
   "cell_type": "code",
   "execution_count": null,
   "outputs": [],
   "source": [
    "dev.shape"
   ],
   "metadata": {
    "collapsed": false,
    "pycharm": {
     "name": "#%%\n"
    }
   }
  },
  {
   "cell_type": "code",
   "execution_count": null,
   "outputs": [],
   "source": [
    "anno_dv.labels"
   ],
   "metadata": {
    "collapsed": false,
    "pycharm": {
     "name": "#%%\n"
    }
   }
  },
  {
   "cell_type": "code",
   "execution_count": null,
   "outputs": [],
   "source": [
    "anno_dv.missing_values"
   ],
   "metadata": {
    "collapsed": false,
    "pycharm": {
     "name": "#%%\n"
    }
   }
  },
  {
   "cell_type": "code",
   "execution_count": null,
   "outputs": [],
   "source": [
    "anno_dv.annotations.shape"
   ],
   "metadata": {
    "collapsed": false,
    "pycharm": {
     "name": "#%%\n"
    }
   }
  },
  {
   "cell_type": "markdown",
   "source": [
    "First, let's use Cohen's $\\kappa$ to measure agreement between coders..."
   ],
   "metadata": {
    "collapsed": false
   }
  },
  {
   "cell_type": "code",
   "execution_count": null,
   "outputs": [],
   "source": [
    "m = pairwise_matrix(cohens_kappa, anno_dv.annotations)\n",
    "print(m)"
   ],
   "metadata": {
    "collapsed": false,
    "pycharm": {
     "name": "#%%\n"
    }
   }
  },
  {
   "cell_type": "markdown",
   "source": [
    "Let's visualize that..."
   ],
   "metadata": {
    "collapsed": false
   }
  },
  {
   "cell_type": "code",
   "execution_count": null,
   "outputs": [],
   "source": [
    "ax = seaborn.heatmap(m)\n",
    "plt.show()"
   ],
   "metadata": {
    "collapsed": false,
    "pycharm": {
     "name": "#%%\n"
    }
   }
  },
  {
   "cell_type": "code",
   "execution_count": null,
   "outputs": [],
   "source": [
    "pairwise_metric_average(cohens_kappa, anno_dv.annotations)"
   ],
   "metadata": {
    "collapsed": false,
    "pycharm": {
     "name": "#%%\n"
    }
   }
  },
  {
   "cell_type": "markdown",
   "source": [
    "Let's compute the statistics on each of the datasets and with Pearson's $\\rho$. "
   ],
   "metadata": {
    "collapsed": false
   }
  },
  {
   "cell_type": "code",
   "execution_count": null,
   "outputs": [],
   "source": [
    "datasets = [anno_dv.annotations, anno_iv.annotations, anno_cv.annotations, anno_ctv.annotations]\n",
    "ck = [pairwise_matrix(cohens_kappa, anno) for anno in datasets]\n",
    "pr = [pairwise_matrix(pearsons_rho, anno) for anno in datasets]\n",
    "titles = ['DV', 'IV', 'Central Variable', \"Control Variable\"]"
   ],
   "metadata": {
    "collapsed": false,
    "pycharm": {
     "name": "#%%\n"
    }
   }
  },
  {
   "cell_type": "code",
   "execution_count": null,
   "outputs": [],
   "source": [
    "fig, axs = plt.subplots(2,4)\n",
    "fig.set_size_inches(18, 7)\n",
    "for k, ax, title in zip(ck,axs[0], titles):\n",
    "    seaborn.heatmap(k, ax = ax)\n",
    "    ax.set_title(title)\n",
    "    ax.set_xticks(())\n",
    "    ax.set_yticks(())\n",
    "for r, ax in zip(pr,axs[1]):\n",
    "    seaborn.heatmap(r, ax = ax)\n",
    "    ax.set_xticks(())\n",
    "    ax.set_yticks(())\n",
    "plt.show()"
   ],
   "metadata": {
    "collapsed": false,
    "pycharm": {
     "name": "#%%\n"
    }
   }
  },
  {
   "cell_type": "markdown",
   "source": [
    "Now we will compare the student coders."
   ],
   "metadata": {
    "collapsed": false
   }
  },
  {
   "cell_type": "code",
   "execution_count": null,
   "outputs": [],
   "source": [
    "nondiag = (np.eye(6)-np.ones(6))*-1.0"
   ],
   "metadata": {
    "collapsed": false,
    "pycharm": {
     "name": "#%%\n"
    }
   }
  },
  {
   "cell_type": "code",
   "execution_count": null,
   "outputs": [],
   "source": [
    "xdevck = pairwise_matrix(cohens_kappa, anno_dv.annotations)\n",
    "xdevpr = pairwise_matrix(pearsons_rho, anno_dv.annotations)\n",
    "\n",
    "xindck = pairwise_matrix(cohens_kappa, anno_iv.annotations)\n",
    "xindpr = pairwise_matrix(pearsons_rho, anno_iv.annotations)\n",
    "\n",
    "xcenck = pairwise_matrix(cohens_kappa, anno_cv.annotations)\n",
    "xcenpr = pairwise_matrix(pearsons_rho, anno_cv.annotations)\n",
    "\n",
    "xconck = pairwise_matrix(cohens_kappa, anno_ctv.annotations)\n",
    "xconpr = pairwise_matrix(pearsons_rho, anno_ctv.annotations)\n",
    "\n",
    "print(np.average(xdevck, weights=nondiag))\n",
    "print(np.average(xdevpr, weights=nondiag))\n",
    "print(np.average(xindck, weights=nondiag))\n",
    "print(np.average(xindpr, weights=nondiag))\n",
    "print(np.average(xcenck, weights=nondiag))\n",
    "print(np.average(xcenpr, weights=nondiag))\n",
    "print(np.average(xconck, weights=nondiag))\n",
    "print(np.average(xconpr, weights=nondiag))"
   ],
   "metadata": {
    "collapsed": false,
    "pycharm": {
     "name": "#%%\n"
    }
   }
  },
  {
   "cell_type": "markdown",
   "source": [
    "Now we are going to bring in \"gold standard\" data. In this case, this is where we asked authors of the articles to code their own article's variables and compare with our student coders."
   ],
   "metadata": {
    "collapsed": false
   }
  },
  {
   "cell_type": "code",
   "execution_count": null,
   "outputs": [],
   "source": [
    "mergedata = np.loadtxt(fname=\"../data/dataforgssstudy/gss_mergedataC.txt\", dtype=int, delimiter=\"\\t\")"
   ],
   "metadata": {
    "collapsed": false,
    "pycharm": {
     "name": "#%%\n"
    }
   }
  },
  {
   "cell_type": "code",
   "execution_count": null,
   "outputs": [],
   "source": [
    "anno_merge_dep = AnnotationsContainer.from_array(mergedata[:,0:2])\n",
    "anno_merge_ind = AnnotationsContainer.from_array(mergedata[:,2:4])\n",
    "anno_merge_cen = AnnotationsContainer.from_array(mergedata[:,4:6])\n",
    "anno_merge_con = AnnotationsContainer.from_array(mergedata[:,6:8])\n",
    "anno_merge_dkn = AnnotationsContainer.from_array(mergedata[:,8:10])"
   ],
   "metadata": {
    "collapsed": false,
    "pycharm": {
     "name": "#%%\n"
    }
   }
  },
  {
   "cell_type": "code",
   "execution_count": null,
   "outputs": [],
   "source": [
    "print(\"\"\"Dependent variable -- kappa & rho\"\"\")\n",
    "print(cohens_kappa(anno_merge_dep.annotations[:,0], anno_merge_dep.annotations[:,1]))\n",
    "print(pearsons_rho(anno_merge_dep.annotations[:,0], anno_merge_dep.annotations[:,1]))\n",
    "\n",
    "print(\"\\nIndependent variable\")\n",
    "print(cohens_kappa(anno_merge_ind.annotations[:,0], anno_merge_ind.annotations[:,1]))\n",
    "print(pearsons_rho(anno_merge_ind.annotations[:,0], anno_merge_ind.annotations[:,1]))\n",
    "\n",
    "print(\"\\nCentral variable\")\n",
    "print(cohens_kappa(anno_merge_cen.annotations[:,0], anno_merge_cen.annotations[:,1]))\n",
    "print(pearsons_rho(anno_merge_cen.annotations[:,0], anno_merge_cen.annotations[:,1]))\n",
    "\n",
    "print(\"\\nControl variable\")\n",
    "print(cohens_kappa(anno_merge_con.annotations[:,0], anno_merge_con.annotations[:,1]))\n",
    "print(pearsons_rho(anno_merge_con.annotations[:,0], anno_merge_con.annotations[:,1]))"
   ],
   "metadata": {
    "collapsed": false,
    "pycharm": {
     "name": "#%%\n"
    }
   }
  },
  {
   "cell_type": "markdown",
   "source": [
    "Whoah! Student coders and authors viewed articles that were \"central\" or critical to the published argument as fundamentally different (exhibiting negative agreement and correlation). Why? Likely because that researchers recalled what they had _intended_ as their central variables before analysis, but those that _worked out_ became central in the text."
   ],
   "metadata": {
    "collapsed": false
   }
  },
  {
   "cell_type": "markdown",
   "source": [
    "Now for the assessment of the relative values of authors, then student coders."
   ],
   "metadata": {
    "collapsed": false
   }
  },
  {
   "cell_type": "code",
   "execution_count": null,
   "outputs": [],
   "source": [
    "print(\"Dependent\")\n",
    "print(np.average(anno_merge_dep.annotations[:,0]))\n",
    "print(np.average(anno_merge_dep.annotations[:,1]))\n",
    "\n",
    "print(\"\\nIndependent\")\n",
    "print(np.average(anno_merge_ind.annotations[:,0]))\n",
    "print(np.average(anno_merge_ind.annotations[:,1]))\n",
    "\n",
    "print(\"\\nCentral\")\n",
    "print(np.average(anno_merge_cen.annotations[:,0]))\n",
    "print(np.average(anno_merge_cen.annotations[:,1]))\n",
    "\n",
    "print(\"\\nControl\")\n",
    "print(np.average(anno_merge_con.annotations[:,0]))\n",
    "print(np.average(anno_merge_con.annotations[:,1]))"
   ],
   "metadata": {
    "collapsed": false,
    "pycharm": {
     "name": "#%%\n"
    }
   }
  },
  {
   "cell_type": "markdown",
   "source": [
    "## Now we are going to use models to predict the correct annotations\n",
    "\n",
    "Recall that Model A is built for 8 coders, but we have 6. We're going to *hack* it by adding two blank columns."
   ],
   "metadata": {
    "collapsed": false
   }
  },
  {
   "cell_type": "code",
   "execution_count": null,
   "outputs": [],
   "source": [
    "dev.shape"
   ],
   "metadata": {
    "collapsed": false,
    "pycharm": {
     "name": "#%%\n"
    }
   }
  },
  {
   "cell_type": "code",
   "execution_count": null,
   "outputs": [],
   "source": [
    "negs2 = np.ones((21461, 2), dtype=np.int)*(-1)\n",
    "devA = np.concatenate((dev, negs2), axis=1)\n",
    "devA"
   ],
   "metadata": {
    "collapsed": false,
    "pycharm": {
     "name": "#%%\n"
    }
   }
  },
  {
   "cell_type": "code",
   "execution_count": null,
   "outputs": [],
   "source": [
    "anno_dvA = AnnotationsContainer.from_array(devA)\n",
    "model_devA = ModelA.create_initial_state(2)\n",
    "model_devA.theta"
   ],
   "metadata": {
    "collapsed": false,
    "pycharm": {
     "name": "#%%\n"
    }
   }
  },
  {
   "cell_type": "code",
   "execution_count": null,
   "outputs": [],
   "source": [
    "model_dvB = ModelB.create_initial_state(2, 6)\n",
    "print(model_dvB.pi)\n",
    "print(model_dvB.log_likelihood(anno_dv.annotations))"
   ],
   "metadata": {
    "collapsed": false,
    "pycharm": {
     "name": "#%%\n"
    }
   }
  },
  {
   "cell_type": "code",
   "execution_count": null,
   "outputs": [],
   "source": [
    "model_dvB.map(anno_dv.annotations)\n",
    "print(model_dvB.pi)\n",
    "print(model_dvB.log_likelihood(anno_dv.annotations))"
   ],
   "metadata": {
    "collapsed": false,
    "pycharm": {
     "name": "#%%\n"
    }
   }
  },
  {
   "cell_type": "code",
   "execution_count": null,
   "outputs": [],
   "source": [
    "# compute the posterior distribution over true annotations\n",
    "posterior_dvB = model_dvB.infer_labels(anno_dv.annotations)\n",
    "# each row show the probability of each label class for the\n",
    "# corresponding item\n",
    "print(posterior)"
   ],
   "metadata": {
    "collapsed": false,
    "pycharm": {
     "name": "#%%\n"
    }
   }
  },
  {
   "cell_type": "code",
   "execution_count": null,
   "outputs": [],
   "source": [
    "samples_dvB = model_dvB.sample_posterior_over_accuracy(anno_dv.annotations, 200, burn_in_samples=100, thin_samples=3)"
   ],
   "metadata": {
    "collapsed": false,
    "pycharm": {
     "name": "#%%\n"
    }
   }
  },
  {
   "cell_type": "code",
   "execution_count": null,
   "outputs": [],
   "source": [
    "# we can then compute a credible interval for the parameters:\n",
    "ci_dv_mean = samples_dvB[0].mean(axis=0)\n",
    "print(\"Mean\")\n",
    "print(ci_dv_mean)\n",
    "\n",
    "ci_dv_stdev = samples_dvB[0].std(axis=0)\n",
    "print(\"\\nSTD\")\n",
    "print(ci_dv_stdev)\n"
   ],
   "metadata": {
    "collapsed": false,
    "pycharm": {
     "name": "#%%\n"
    }
   }
  },
  {
   "cell_type": "markdown",
   "source": [
    "We will use Model B estimates for other variable assessments."
   ],
   "metadata": {
    "collapsed": false
   }
  },
  {
   "cell_type": "code",
   "execution_count": null,
   "outputs": [],
   "source": [
    "#test\n",
    "model_testB = ModelB.create_initial_state(2, 6)\n",
    "print(model_testB.log_likelihood(anno_test.annotations))\n",
    "model_testB.map(anno_test.annotations)\n",
    "print(model_testB.pi)\n",
    "print(model_testB.log_likelihood(anno_test.annotations))\n",
    "print(anno_test.annotations.shape)\n",
    "posterior_testB = model_testB.infer_labels(anno_test.annotations)\n",
    "print(posterior_testB.shape)\n",
    "samples_testB = model_testB.sample_posterior_over_accuracy(anno_test.annotations, 200, burn_in_samples=100, thin_samples=3)\n",
    "ci_test_mean = samples_testB[0].mean(axis=0)\n",
    "print(ci_test_mean)"
   ],
   "metadata": {
    "collapsed": false,
    "pycharm": {
     "name": "#%%\n"
    }
   }
  },
  {
   "cell_type": "code",
   "execution_count": null,
   "outputs": [],
   "source": [
    "#indepedent variables\n",
    "model_ivB = ModelB.create_initial_state(2, 6)\n",
    "print(model_ivB.log_likelihood(anno_iv.annotations))\n",
    "model_ivB.map(anno_iv.annotations)\n",
    "print(model_ivB.pi)\n",
    "print(model_ivB.log_likelihood(anno_iv.annotations))\n",
    "print(anno_iv.annotations.shape)\n",
    "posterior_ivB = model_ivB.infer_labels(anno_iv.annotations)\n",
    "print(posterior_ivB.shape)\n",
    "samples_ivB = model_ivB.sample_posterior_over_accuracy(anno_iv.annotations, 200, burn_in_samples=100, thin_samples=3)\n",
    "ci_iv_mean = samples_ivB[0].mean(axis=0)\n",
    "print(ci_iv_mean)\n",
    "\n",
    "#central variables\n",
    "model_cvB = ModelB.create_initial_state(2, 6)\n",
    "print(model_cvB.log_likelihood(anno_cv.annotations))\n",
    "model_cvB.map(anno_cv.annotations)\n",
    "print(model_cvB.pi)\n",
    "print(model_cvB.log_likelihood(anno_cv.annotations))\n",
    "print(anno_cv.annotations.shape)\n",
    "posterior_cvB = model_cvB.infer_labels(anno_cv.annotations)\n",
    "print(posterior_cvB.shape)\n",
    "samples_cvB = model_cvB.sample_posterior_over_accuracy(anno_cv.annotations, 200, burn_in_samples=100, thin_samples=3)\n",
    "ci_cv_mean = samples_cvB[0].mean(axis=0)\n",
    "print(ci_cv_mean)\n",
    "\n",
    "#control variables\n",
    "model_ctvB = ModelB.create_initial_state(2, 6)\n",
    "print(model_ctvB.log_likelihood(anno_ctv.annotations))\n",
    "model_ctvB.map(anno_ctv.annotations)\n",
    "print(model_ctvB.pi)\n",
    "print(model_ctvB.log_likelihood(anno_ctv.annotations))\n",
    "print(anno_ctv.annotations.shape)\n",
    "posterior_ctvB = model_ctvB.infer_labels(anno_ctv.annotations)\n",
    "print(posterior_ctvB.shape)\n",
    "samples_ctvB = model_ctvB.sample_posterior_over_accuracy(anno_iv.annotations, 200, burn_in_samples=100, thin_samples=3)\n",
    "ci_ctv_mean = samples_ctvB[0].mean(axis=0)\n",
    "print(ci_ctv_mean)"
   ],
   "metadata": {
    "collapsed": false,
    "pycharm": {
     "name": "#%%\n"
    }
   }
  },
  {
   "cell_type": "markdown",
   "source": [
    "Now we will package up the predicted data into a format we can use for other, subsequent analysis:"
   ],
   "metadata": {
    "collapsed": false
   }
  },
  {
   "cell_type": "code",
   "execution_count": null,
   "outputs": [],
   "source": [
    "print(posterior_dvB.shape)\n",
    "print(posterior_ivB.shape)\n",
    "print(posterior_cvB.shape)\n",
    "print(posterior_ctvB.shape)"
   ],
   "metadata": {
    "collapsed": false,
    "pycharm": {
     "name": "#%%\n"
    }
   }
  },
  {
   "cell_type": "code",
   "execution_count": null,
   "outputs": [],
   "source": [
    "predicted_annotations = np.concatenate((posterior_dvB, posterior_ivB, posterior_cvB, posterior_ctvB), axis=1) # posterior_dvBt, posterior_ivBt, posterior_cvBt, posterior_ctvBt), axis=1)"
   ],
   "metadata": {
    "collapsed": false,
    "pycharm": {
     "name": "#%%\n"
    }
   }
  },
  {
   "cell_type": "code",
   "execution_count": null,
   "outputs": [],
   "source": [
    "predicted_annotations.shape"
   ],
   "metadata": {
    "collapsed": false,
    "pycharm": {
     "name": "#%%\n"
    }
   }
  },
  {
   "cell_type": "markdown",
   "source": [
    "These annotations allowed us to uncover the degree to which social scientists alter their models to achieve a better fit...undocumented data mining. The answer was that social scientists did mine their data, but that it likely improved their analysis because change in the social world was the result of greater distortion than undocumented data mining."
   ],
   "metadata": {
    "collapsed": false
   }
  },
  {
   "cell_type": "markdown",
   "source": [
    "## Another example analysis looks at a different data set of Hotel Reviews by a variety of patrons."
   ],
   "metadata": {
    "collapsed": false
   }
  },
  {
   "cell_type": "code",
   "execution_count": null,
   "outputs": [],
   "source": [
    "df_hotels = pandas.read_csv('../data/hot_Reviews.csv', index_col=0)\n",
    "df_hotels[:5]"
   ],
   "metadata": {
    "collapsed": false,
    "pycharm": {
     "name": "#%%\n"
    }
   }
  },
  {
   "cell_type": "markdown",
   "source": [
    "Here a rank of 0 is a missing value and to simplify things more we will convert from a 1-10 scale to a 1-5 scale, with 0 as missing"
   ],
   "metadata": {
    "collapsed": false
   }
  },
  {
   "cell_type": "code",
   "execution_count": null,
   "outputs": [],
   "source": [
    "df_hotels = df_hotels.apply(lambda x: x // 2) #integer divide by 2 rounds all values"
   ],
   "metadata": {
    "collapsed": false,
    "pycharm": {
     "name": "#%%\n"
    }
   }
  },
  {
   "cell_type": "markdown",
   "source": [
    "And we can visualize all the reviews as a heatmap with the missing values greyed out"
   ],
   "metadata": {
    "collapsed": false
   }
  },
  {
   "cell_type": "code",
   "execution_count": null,
   "outputs": [],
   "source": [
    "fig, ax = plt.subplots(figsize = (20,20))\n",
    "seaborn.heatmap(df_hotels, cmap='rainbow', ax = ax)\n",
    "plt.show()"
   ],
   "metadata": {
    "collapsed": false,
    "pycharm": {
     "name": "#%%\n"
    }
   }
  },
  {
   "cell_type": "markdown",
   "source": [
    "To give the dataframe to pyanno we need to convert to np array and change the nans to intergers, lets use -1"
   ],
   "metadata": {
    "collapsed": false
   }
  },
  {
   "cell_type": "code",
   "execution_count": null,
   "outputs": [],
   "source": [
    "hot_mat = np.array(df_hotels.fillna(-1).as_matrix())\n",
    "anno_hot = AnnotationsContainer.from_array(hot_mat, missing_values=[-1])"
   ],
   "metadata": {
    "collapsed": false,
    "pycharm": {
     "name": "#%%\n"
    }
   }
  },
  {
   "cell_type": "code",
   "execution_count": null,
   "outputs": [],
   "source": [
    "anno_hot.annotations"
   ],
   "metadata": {
    "collapsed": false,
    "pycharm": {
     "name": "#%%\n"
    }
   }
  },
  {
   "cell_type": "code",
   "execution_count": null,
   "outputs": [],
   "source": [
    "anno_hot.labels"
   ],
   "metadata": {
    "collapsed": false,
    "pycharm": {
     "name": "#%%\n"
    }
   }
  },
  {
   "cell_type": "code",
   "execution_count": null,
   "outputs": [],
   "source": [
    "anno_hot.missing_values"
   ],
   "metadata": {
    "collapsed": false,
    "pycharm": {
     "name": "#%%\n"
    }
   }
  },
  {
   "cell_type": "markdown",
   "source": [
    "Look at coder agreement"
   ],
   "metadata": {
    "collapsed": false
   }
  },
  {
   "cell_type": "code",
   "execution_count": null,
   "outputs": [],
   "source": [
    "pyanno.measures.agreement.labels_frequency(anno_hot.annotations, 6)#6 possible catagories"
   ],
   "metadata": {
    "collapsed": false,
    "pycharm": {
     "name": "#%%\n"
    }
   }
  },
  {
   "cell_type": "code",
   "execution_count": null,
   "outputs": [],
   "source": [
    "c = pyanno.measures.agreement.confusion_matrix(anno_hot.annotations[:,0], anno_hot.annotations[:,1], 6) #6 possible catagories\n",
    "print(c)\n",
    "ac = seaborn.heatmap(c)\n",
    "plt.show()"
   ],
   "metadata": {
    "collapsed": false,
    "pycharm": {
     "name": "#%%\n"
    }
   }
  },
  {
   "cell_type": "markdown",
   "source": [
    "Most agreement is on 2 i.e. an average hotel and there's little agreement as rating go higher, likely due to scarcity in the sample"
   ],
   "metadata": {
    "collapsed": false
   }
  },
  {
   "cell_type": "code",
   "execution_count": null,
   "outputs": [],
   "source": [
    "scotts_pi(anno_hot.annotations[:,0], anno_hot.annotations[:,1])"
   ],
   "metadata": {
    "collapsed": false,
    "pycharm": {
     "name": "#%%\n"
    }
   }
  },
  {
   "cell_type": "code",
   "execution_count": null,
   "outputs": [],
   "source": [
    "krippendorffs_alpha(anno_hot.annotations[::])"
   ],
   "metadata": {
    "collapsed": false,
    "pycharm": {
     "name": "#%%\n"
    }
   }
  },
  {
   "cell_type": "code",
   "execution_count": null,
   "outputs": [],
   "source": [
    "cohens_kappa(anno_hot.annotations[:,0], anno_hot.annotations[:,1])"
   ],
   "metadata": {
    "collapsed": false,
    "pycharm": {
     "name": "#%%\n"
    }
   }
  },
  {
   "cell_type": "code",
   "execution_count": null,
   "outputs": [],
   "source": [
    "m = pairwise_matrix(cohens_kappa, anno_hot.annotations)\n",
    "fig, ax = plt.subplots(figsize = (15, 15))\n",
    "seaborn.heatmap(m, ax =ax)"
   ],
   "metadata": {
    "collapsed": false,
    "pycharm": {
     "name": "#%%\n"
    }
   }
  },
  {
   "cell_type": "code",
   "execution_count": null,
   "outputs": [],
   "source": [
    "model_hot = ModelBt.create_initial_state(6, 49)\n",
    "model_hot.mle(anno_hot.annotations)\n",
    "print(model.theta)\n",
    "print(model_hot.log_likelihood(anno_hot.annotations))"
   ],
   "metadata": {
    "collapsed": false,
    "pycharm": {
     "name": "#%%\n"
    }
   }
  },
  {
   "cell_type": "code",
   "execution_count": null,
   "outputs": [],
   "source": [
    "def makeQuestionComparison(model, anno_target, num_questions = 20):\n",
    "    votes = []\n",
    "    for r in anno_target.annotations:\n",
    "        v = [0] * len(anno_target.labels)\n",
    "        votes.append(v)\n",
    "        for a in r:\n",
    "            if a > -1:\n",
    "                v[a] += 1\n",
    "    votes_array = np.array(votes)\n",
    "    posterior = model.infer_labels(anno_target.annotations)\n",
    "    fig, (ax1, ax2) = plt.subplots(ncols=2, figsize = (15, 10), sharey=True)\n",
    "\n",
    "    seaborn.heatmap(votes_array[:num_questions], annot = True, ax=ax2)\n",
    "    seaborn.heatmap(np.nan_to_num(posterior,0)[:num_questions], annot=True, ax =ax1)\n",
    "    ax1.set_title(\"Model\")\n",
    "    ax2.set_title(\"Votes\")\n",
    "    return fig, (ax1, ax2)"
   ],
   "metadata": {
    "collapsed": false,
    "pycharm": {
     "name": "#%%\n"
    }
   }
  },
  {
   "cell_type": "code",
   "execution_count": null,
   "outputs": [],
   "source": [
    "makeQuestionComparison(model_hot, anno_hot)"
   ],
   "metadata": {
    "collapsed": false,
    "pycharm": {
     "name": "#%%\n"
    }
   }
  },
  {
   "cell_type": "markdown",
   "source": [
    "## <span style=\"color:red\">*Your turn*</span>\n",
    "\n",
    "<span style=\"color:red\">In the cells immediately following, use the results of your content annotation survey to predict high and low-quality analysts, then predict MAP estimates for your codes in question. What do these estimates suggest about the distribution of skill among your coders? How different are these estimates from a majority vote?"
   ],
   "metadata": {
    "collapsed": false
   }
  },
  {
   "cell_type": "markdown",
   "source": [
    "After running two models to predict high and low quality analysts and predicting the posterior\n",
    "labels, we find some interesting results.\n",
    "\n",
    "1) An analysis of the thetas of Model B and model Bt demonstrate that analysts * widely *\n",
    "diverge in skill. Model Bt even assigns coder #3 .9999 accuracy while assigning others'\n",
    "to be <50%. Model B - looking at the diagonal elements on the theta matrix - is more generous\n",
    "to the other coders and tends to not overweight any one coder. But Model B clearly distinguishes skill\n",
    "enough to the point where it is confident in overruling majority vote (sample #2 - pls look at heatmap. Model B assigns (3) despite (2) getting more votes). This is indeed a surprising\n",
    "result as it even assigns a rounded probability of 1 to its bold prediction (!).\n",
    "\n",
    "2) The models do NOT give the same results. Model Bt, after inspecting codes manually, could be said to\n",
    "have slightly more accurate results than model B. Model Bt theta credible intervals are quite large, as graphed below.\n",
    "\n",
    "3) The overall output, from both models, was surprisingly good at capturing the data - much better than,\n",
    "say, an averaging of the scores would achieve.\n",
    "\n",
    "4) These models do not appear to weight distances between the codes. This is clearly not efficient for\n",
    "the specific purposes of this data. But despite this drawback, the accuracy is quite good.\n",
    "\n",
    "5) In all cases for Bt, and in all cases but one for model B, a class with the most number of votes is the posterior estimate.\n",
    "This is not surprising. Ties between classes seem to be broken decisively - with wide disparities in assigned\n",
    "probablities in most cases for model B, and all cases for model Bt. Note that some ties are broken differently between B and Bt."
   ],
   "metadata": {
    "collapsed": false
   }
  },
  {
   "cell_type": "markdown",
   "source": [
    "Let us run two models: Model B and Model Bt (which is more efficient due to lesser number of parameters)\n",
    "\n",
    "# Model B\n",
    "First we estimate the thetas by fitting the data to distinguish between low and high quality coders:"
   ],
   "metadata": {
    "collapsed": false
   }
  },
  {
   "cell_type": "code",
   "execution_count": 135,
   "outputs": [
    {
     "name": "stdout",
     "output_type": "stream",
     "text": [
      "[[[7.89473684e-001 1.57894737e-001 5.26315789e-002 0.00000000e+000\n",
      "   0.00000000e+000]\n",
      "  [1.36363636e-001 6.81818182e-001 1.36363636e-001 4.54545455e-002\n",
      "   3.59709119e-112]\n",
      "  [7.18326800e-002 1.05973396e-001 6.09757152e-001 1.06508554e-001\n",
      "   1.05928218e-001]\n",
      "  [2.34664589e-019 4.21644876e-002 1.57308785e-001 6.73979339e-001\n",
      "   1.26547388e-001]\n",
      "  [4.83864756e-002 0.00000000e+000 5.04423384e-002 1.50208733e-001\n",
      "   7.50962453e-001]]\n",
      "\n",
      " [[7.89473684e-001 1.57894737e-001 5.26315789e-002 0.00000000e+000\n",
      "   0.00000000e+000]\n",
      "  [1.36363636e-001 6.81818182e-001 1.36363636e-001 4.54545455e-002\n",
      "   0.00000000e+000]\n",
      "  [7.06489305e-002 2.45739545e-001 5.41129914e-001 1.07157145e-001\n",
      "   3.53244653e-002]\n",
      "  [7.59466093e-041 4.39927910e-002 1.97046432e-001 6.32467314e-001\n",
      "   1.26493463e-001]\n",
      "  [1.06693054e-075 1.73415159e-072 5.04585811e-002 1.98578966e-001\n",
      "   7.50962453e-001]]\n",
      "\n",
      " [[7.89473684e-001 1.57894737e-001 5.26315789e-002 0.00000000e+000\n",
      "   0.00000000e+000]\n",
      "  [1.36363636e-001 6.81818182e-001 1.36363636e-001 4.54545455e-002\n",
      "   0.00000000e+000]\n",
      "  [3.53244653e-002 1.76597861e-001 6.34333128e-001 1.17236331e-001\n",
      "   3.65082148e-002]\n",
      "  [0.00000000e+000 4.21936904e-002 1.28292563e-001 7.03020283e-001\n",
      "   1.26493463e-001]\n",
      "  [0.00000000e+000 0.00000000e+000 5.00641635e-002 1.50586908e-001\n",
      "   7.99348928e-001]]\n",
      "\n",
      " [[7.89473684e-001 1.57894737e-001 5.26315789e-002 0.00000000e+000\n",
      "   0.00000000e+000]\n",
      "  [1.36363636e-001 6.81818182e-001 1.36363636e-001 4.54545455e-002\n",
      "   0.00000000e+000]\n",
      "  [3.53244653e-002 1.42481611e-001 6.00470732e-001 1.86398727e-001\n",
      "   3.53244653e-002]\n",
      "  [0.00000000e+000 4.21644876e-002 1.26547388e-001 7.04794661e-001\n",
      "   1.26493463e-001]\n",
      "  [0.00000000e+000 4.83864756e-002 5.00641635e-002 1.50586908e-001\n",
      "   7.50962453e-001]]\n",
      "\n",
      " [[7.89473684e-001 1.57894737e-001 5.26315789e-002 0.00000000e+000\n",
      "   0.00000000e+000]\n",
      "  [1.36363636e-001 6.81818182e-001 1.36363636e-001 4.54545455e-002\n",
      "   8.54352858e-156]\n",
      "  [3.53244653e-002 1.05973396e-001 6.35795197e-001 1.75670950e-001\n",
      "   4.72359919e-002]\n",
      "  [0.00000000e+000 4.21644876e-002 1.26547388e-001 6.75753717e-001\n",
      "   1.55534407e-001]\n",
      "  [0.00000000e+000 0.00000000e+000 5.00641635e-002 1.50208733e-001\n",
      "   7.99727103e-001]]]\n"
     ]
    },
    {
     "name": "stderr",
     "output_type": "stream",
     "text": [
      "c:\\users\\partha\\pycharmprojects\\companalysis\\venv\\lib\\site-packages\\pyanno\\util.py:80: RuntimeWarning: divide by zero encountered in log\n",
      "  log_theta = ninf_to_num(log(theta))\n"
     ]
    }
   ],
   "source": [
    "model = ModelB.create_initial_state(5, 5)\n",
    "model.map(mtAnno.annotations)\n",
    "\n",
    "print(model.theta)"
   ],
   "metadata": {
    "collapsed": false,
    "pycharm": {
     "name": "#%%\n"
    }
   }
  },
  {
   "cell_type": "markdown",
   "source": [
    "We then infer the posterior MAP estimates of the labels and produce a heatmap:"
   ],
   "metadata": {
    "collapsed": false,
    "pycharm": {
     "name": "#%% md\n"
    }
   }
  },
  {
   "cell_type": "code",
   "execution_count": 137,
   "outputs": [],
   "source": [
    "posterior = model.infer_labels(mtAnno.annotations)"
   ],
   "metadata": {
    "collapsed": false,
    "pycharm": {
     "name": "#%%\n"
    }
   }
  },
  {
   "cell_type": "code",
   "execution_count": 138,
   "outputs": [],
   "source": [
    "votes = []\n",
    "for r in mtAnno.annotations:\n",
    "    v = [0] * len(mtAnno.labels)\n",
    "    votes.append(v)\n",
    "    for a in r:\n",
    "        if a > -1:\n",
    "            v[a] += 1\n",
    "votes_array = np.array(votes)"
   ],
   "metadata": {
    "collapsed": false,
    "pycharm": {
     "name": "#%%\n"
    }
   }
  },
  {
   "cell_type": "code",
   "execution_count": 139,
   "outputs": [
    {
     "data": {
      "text/plain": "<Figure size 1080x720 with 4 Axes>",
      "image/png": "[encoded data removed]"
     },
     "metadata": {
      "needs_background": "light"
     },
     "output_type": "display_data"
    }
   ],
   "source": [
    "fig, (ax1, ax2) = plt.subplots(ncols=2, figsize = (15, 10), sharey=True)\n",
    "num_questions = 8\n",
    "\n",
    "seaborn.heatmap(votes_array[:num_questions], annot = True, ax=ax2)\n",
    "seaborn.heatmap(posterior[:num_questions], annot=True, ax =ax1)\n",
    "ax1.set_title(\"Model\")\n",
    "ax2.set_title(\"Votes\")\n",
    "plt.show()"
   ],
   "metadata": {
    "collapsed": false,
    "pycharm": {
     "name": "#%%\n"
    }
   }
  },
  {
   "cell_type": "markdown",
   "source": [
    "# Model Bt\n",
    "\n",
    "Let us compare the estimates from B to Bt. Employing the same methods as for B:"
   ],
   "metadata": {
    "collapsed": false
   }
  },
  {
   "cell_type": "code",
   "execution_count": 169,
   "outputs": [
    {
     "name": "stdout",
     "output_type": "stream",
     "text": [
      "[0.61328423 0.46264123 0.99999999 0.6415708  0.40183341]\n"
     ]
    }
   ],
   "source": [
    "\n",
    "model = ModelBt.create_initial_state(5, 5)\n",
    "model.map(mtAnno.annotations)\n",
    "\n",
    "print(model.theta)"
   ],
   "metadata": {
    "collapsed": false,
    "pycharm": {
     "name": "#%%\n"
    }
   }
  },
  {
   "cell_type": "code",
   "execution_count": 144,
   "outputs": [],
   "source": [
    "posterior = model.infer_labels(mtAnno.annotations)"
   ],
   "metadata": {
    "collapsed": false,
    "pycharm": {
     "name": "#%%\n"
    }
   }
  },
  {
   "cell_type": "markdown",
   "source": [
    "Let us analyze the heatmap for Bt:"
   ],
   "metadata": {
    "collapsed": false
   }
  },
  {
   "cell_type": "code",
   "execution_count": 145,
   "outputs": [],
   "source": [
    "votes = []\n",
    "for r in mtAnno.annotations:\n",
    "    v = [0] * len(mtAnno.labels)\n",
    "    votes.append(v)\n",
    "    for a in r:\n",
    "        if a > -1:\n",
    "            v[a] += 1\n",
    "votes_array = np.array(votes)"
   ],
   "metadata": {
    "collapsed": false,
    "pycharm": {
     "name": "#%%\n"
    }
   }
  },
  {
   "cell_type": "code",
   "execution_count": 146,
   "outputs": [
    {
     "data": {
      "text/plain": "<Figure size 1080x720 with 4 Axes>",
      "image/png": "[encoded data removed]"
     },
     "metadata": {
      "needs_background": "light"
     },
     "output_type": "display_data"
    }
   ],
   "source": [
    "fig, (ax1, ax2) = plt.subplots(ncols=2, figsize = (15, 10), sharey=True)\n",
    "num_questions = 8\n",
    "\n",
    "seaborn.heatmap(votes_array[:num_questions], annot = True, ax=ax2)\n",
    "seaborn.heatmap(posterior[:num_questions], annot=True, ax =ax1)\n",
    "ax1.set_title(\"Model\")\n",
    "ax2.set_title(\"Votes\")\n",
    "plt.show()"
   ],
   "metadata": {
    "collapsed": false,
    "pycharm": {
     "name": "#%%\n"
    }
   }
  },
  {
   "cell_type": "markdown",
   "source": [
    "Let us calculate the credible interval for our theta estimates:"
   ],
   "metadata": {
    "collapsed": false
   }
  },
  {
   "cell_type": "code",
   "execution_count": 156,
   "outputs": [],
   "source": [
    "model = ModelBt.create_initial_state(5, 5)\n",
    "model.map(mtAnno.annotations)\n",
    "samples = model.sample_posterior_over_accuracy(mtAnno.annotations, 200, burn_in_samples=100, thin_samples=3)\n",
    "y =  samples.mean(axis=0)#.mean(axis = 1).mean(axis = 1)\n",
    "y_ci = samples.std(axis=0)#.mean(axis = 1).mean(axis = 1)"
   ],
   "metadata": {
    "collapsed": false,
    "pycharm": {
     "name": "#%%\n"
    }
   }
  },
  {
   "cell_type": "code",
   "execution_count": 157,
   "outputs": [
    {
     "data": {
      "text/plain": "<Figure size 432x288 with 1 Axes>",
      "image/png": "[encoded data removed]"
     },
     "metadata": {
      "needs_background": "light"
     },
     "output_type": "display_data"
    }
   ],
   "source": [
    "plt.figure()\n",
    "plt.errorbar(range(5),y, yerr = y_ci)\n",
    "plt.show()"
   ],
   "metadata": {
    "collapsed": false,
    "pycharm": {
     "name": "#%%\n"
    }
   }
  },
  {
   "cell_type": "code",
   "execution_count": null,
   "outputs": [],
   "source": [],
   "metadata": {
    "collapsed": false,
    "pycharm": {
     "name": "#%%\n"
    }
   }
  }
 ],
 "metadata": {
  "anaconda-cloud": {},
  "kernelspec": {
   "display_name": "Python 3",
   "language": "python",
   "name": "python3"
  },
  "language_info": {
   "codemirror_mode": {
    "name": "ipython",
    "version": 3
   },
   "file_extension": ".py",
   "mimetype": "text/x-python",
   "name": "python",
   "nbconvert_exporter": "python",
   "pygments_lexer": "ipython3",
   "version": "3.6.10"
  }
 },
 "nbformat": 4,
 "nbformat_minor": 1
}