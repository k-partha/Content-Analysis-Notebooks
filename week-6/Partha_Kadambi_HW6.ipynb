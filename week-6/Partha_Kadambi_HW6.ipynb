{
 "cells": [
  {
   "cell_type": "markdown",
   "source": [
    "\n",
    "# Week 6 - Discovering Patterns: Clusters & Topics\n",
    "\n",
    "This week, we seek to seek to discover patterns in our text data. First, we take a text corpus that we have developed and discovery emergent clusters through a process known as clustering or partitioning. We pilot this here both with a well-known *flat* clustering method, `kmeans`, and also a *hierarchical* approach, `Ward's (minimum variance) method`. We will demonstrate a simple (graphical) approach to identifying optimal cluster number, the sillhouette method, and evaluate the quality of unsupervised clusters on labeled data. Next, we will explore a method of two dimensional content clustering called topic modeling (e.g., words cluster in topics; topics cluster in documents). This statistical technique models and computationally induces *topics* from data, which are sparse distributions over (nonexclusive clusters of) words, from which documents can formally be described as sparse mixtures. We will explore these topics and consider their utility for understanding trends within a corpus. We will consider how to construct models that take document cluster and topic loadings as predictive features, the basis of influence metrics and dynamically over time.\n",
    "\n",
    "For this notebook we will be using the following packages:"
   ],
   "metadata": {
    "collapsed": false
   }
  },
  {
   "cell_type": "code",
   "execution_count": null,
   "outputs": [],
   "source": [
    "#Special module written for this class\n",
    "#This provides access to data and to helper functions from previous weeks\n",
    "#Make sure you update it before starting this notebook\n",
    "import lucem_illud_2020 #pip install -U git+git://github.com/UChicago-Computational-Content-Analysis/lucem_illud.git\n",
    "\n",
    "\n",
    "#All these packages need to be installed from pip\n",
    "#These are all for the cluster detection\n",
    "import sklearn\n",
    "import sklearn.feature_extraction.text\n",
    "import sklearn.pipeline\n",
    "import sklearn.preprocessing\n",
    "import sklearn.datasets\n",
    "import sklearn.cluster\n",
    "import sklearn.decomposition\n",
    "import sklearn.metrics\n",
    "\n",
    "import scipy #For hierarchical clustering and some visuals\n",
    "#import scipy.cluster.hierarchy\n",
    "import gensim#For topic modeling\n",
    "import requests #For downloading our datasets\n",
    "import numpy as np #for arrays\n",
    "import pandas #gives us DataFrames\n",
    "import matplotlib.pyplot as plt #For graphics\n",
    "import matplotlib.cm #Still for graphics\n",
    "import seaborn as sns #Makes the graphics look nicer\n",
    "\n",
    "#This 'magic' command makes the plots work better\n",
    "#in the notebook, don't use it outside of a notebook.\n",
    "#Also you can ignore the warning, it\n",
    "%matplotlib inline\n",
    "\n",
    "import itertools\n",
    "import json"
   ],
   "metadata": {
    "collapsed": false,
    "pycharm": {
     "name": "#%%\n"
    }
   }
  },
  {
   "cell_type": "markdown",
   "source": [
    "***What?***\n",
    "\n",
    "\n",
    " ***Why?***\n",
    "\n",
    "\n",
    "How?\n"
   ],
   "metadata": {
    "collapsed": false,
    "pycharm": {
     "name": "#%% md\n"
    }
   }
  },
  {
   "cell_type": "markdown",
   "source": [
    "Cell 1:\n",
    "\n",
    "## <span style=\"color:red\">*Pitch Your Project*</span>\n",
    "\n",
    "<span style=\"color:red\">In the three cells immediately following, describe **WHAT** you are planning to analyze for your final project (i.e., texts, contexts and the social game, world and actors you intend to learn about through your analysis) (<200 words), **WHY** you are going to do it (i.e., why would theory and/or the average person benefit from knowing the results of your investigation) (<200 words), and **HOW** you plan to investigate it (i.e., what are the approaches and operations you plan to perform, in sequence, to yield this insight) (<400 words)."
   ],
   "metadata": {
    "collapsed": false
   }
  },
  {
   "cell_type": "markdown",
   "source": [
    "Cell 2:\n",
    "\n",
    "# ***What?*** \n",
    "\n",
    "I'm planning to analyze online profiles (likely from Twitter) to predict their behavioral traits.\n",
    "I will be analyzing behaviour by using a Jungian personality archetype framework - in which\n",
    "personality can be classified into 16 types. The profile data I plan to collect will consist of\n",
    "a person’s \"likes\", own tweets and retweets, and the list of followers. Crucially, the profiles\n",
    "that I plan to scrape will be self-tagged by personality (ie they declare their type), which is one\n",
    "of 16 possible. This provides us the labels needed for a classifier."
   ],
   "metadata": {
    "collapsed": false,
    "pycharm": {
     "name": "#%% md\n"
    }
   }
  },
  {
   "cell_type": "markdown",
   "source": [
    "Cell 3:\n",
    "\n",
    "## ***Why?***\n",
    "<200 words\n",
    "Jungian personality types are enormously popular in popular culture and organizational psychology\n",
    " as many see them as accurate\n",
    "in their analysis. The trait framework is similar to that of the Big-5 and can be used for\n",
    "predictive analysis of behavior. Personality traits would theoretically heavily influence a person's\n",
    "interests, information consumption patterns, and choice of social sphere in which they participate in.\n",
    "As this conception of personality type is regarded as partially 'innate' by theorists, this online-profile based\n",
    "methodology to predict type would serve as a useful theoretical construct to understand social behaviour and\n",
    "causality in online social networks."
   ],
   "metadata": {
    "collapsed": false,
    "pycharm": {
     "name": "#%% md\n"
    }
   }
  },
  {
   "cell_type": "markdown",
   "source": [
    "Cell 4:\n",
    "\n",
    "## ***How?***\n",
    "<400 words\n",
    "\n",
    "I plan to use network analysis, semantic analysis, classification methods (including deep learning) to execute this project.\n",
    "\n",
    "The sample I have collected is profile data from Twitter which includes a person's \"likes\".\n",
    "These factors would at least be partially captures by the kind of tweets people consume (and hence like),\n",
    "the kind of people they follow (the social game they participate in), and the kind of tweets they write.\n",
    "These should help us classify people's personalities. The primary limitations arise from the data\n",
    "being biased by the choice of social platform (as the choice of platform is linked with the social\n",
    "game being played). The alternative would be to include profiles from other websites as well (Reddit).\n",
    "Collecting more samples from a variety of different websites would be the best way to scale up the\n",
    "sample for further analysis."
   ],
   "metadata": {
    "collapsed": false,
    "pycharm": {
     "name": "#%% md\n"
    }
   }
  },
  {
   "cell_type": "markdown",
   "source": [
    "Cell 5:\n",
    "\n",
    "## <span style=\"color:red\">*Pitch Your Sample*</span>\n",
    "\n",
    "<span style=\"color:red\">In the cell immediately following, describe the rationale behind your proposed sample design for your final project. What is the social game, social work, or social actors you about whom you are seeking to make inferences? What are its virtues with respect to your research questions? What are its limitations? What are alternatives? What would be a reasonable path to \"scale up\" your sample for further analysis (i.e., high-profile publication) beyond this class? (<300 words).\n",
    "\n",
    "I am aiming to predict personality through a persons 'liked' tweets. The idea behind this is to understand how much of core behavioral tendencies are given away through an 'indirect' signal - that is likes of tweets and not own tweets. If this method is demonstrated as\n",
    "a feasible one to predict personality, it could be a very useful tool to accompany social media based quasi experiments/observational experiments Traditionally, personality is measured through a survey - this would obviate this logistical hurdle if mere likes could be used to predict personality.\n",
    "\n",
    "Limitations are that the sample will be very noisy, as this is a highly political website and likes in of themselves may contain a poor signal to noise ratio.\n",
    "\n",
    "Further analysis could include using own tweets and the following list to add more information that could be useful for the classifier. If further cleaning and MTurk based filtering of the profiles is done, the data may be useful for a publication.\n",
    "\n",
    "\n",
    "Cell 6:\n",
    "\n",
    "## ***Which (words)?***\n",
    "<300 words\n",
    "\n",
    "I am not looking for any specific words - I will use a classifier which will * find * the words that are best able to predict personality."
   ],
   "metadata": {
    "collapsed": false,
    "pycharm": {
     "name": "#%% md\n"
    }
   }
  },
  {
   "cell_type": "markdown",
   "source": [
    "# Getting our corpora\n",
    "\n",
    "To begin, we will use a well known corpus of testing documents from the *20 Newsgroups corpus*, a dataset commonly used to illustrate text applications of text clustering and classification. This comes packaged with sklearn and comprises approximately 20,000 newsgroup documents, partitioned (nearly) evenly across 20 newsgroups. It was originally collected by Ken Lang, probably for his 1995 *Newsweeder: Learning to filter netnews* paper. The data is organized into 20 distinct newsgroups, each corresponding to a different topic. Some of the newsgroups are very closely related (e.g. comp.sys.ibm.pc.hardware / comp.sys.mac.hardware), while others are unrelated (e.g misc.forsale / soc.religion.christian). "
   ],
   "metadata": {
    "collapsed": false
   }
  },
  {
   "cell_type": "code",
   "execution_count": null,
   "outputs": [],
   "source": [
    "newsgroups = sklearn.datasets.fetch_20newsgroups(subset='train', data_home = '../data/scikit_learn_data')\n",
    "print(dir(newsgroups))"
   ],
   "metadata": {
    "collapsed": false,
    "pycharm": {
     "name": "#%%\n"
    }
   }
  },
  {
   "cell_type": "markdown",
   "source": [
    "We can ascertain the categories with `target_names` or the actual files with `filenames`"
   ],
   "metadata": {
    "collapsed": false
   }
  },
  {
   "cell_type": "code",
   "execution_count": null,
   "outputs": [],
   "source": [
    "print(newsgroups.target_names)\n",
    "print(len(newsgroups.data))"
   ],
   "metadata": {
    "collapsed": false,
    "pycharm": {
     "name": "#%%\n"
    }
   }
  },
  {
   "cell_type": "markdown",
   "source": [
    "We will start by converting the provided data into pandas DataFrames.\n",
    "\n",
    "First we reduce our dataset for this analysis by dropping some extraneous information and converting it into a DataFrame."
   ],
   "metadata": {
    "collapsed": false
   }
  },
  {
   "cell_type": "code",
   "execution_count": null,
   "outputs": [],
   "source": [
    "newsgroupsCategories = ['comp.sys.mac.hardware', 'comp.windows.x', 'misc.forsale', 'rec.autos']\n",
    "\n",
    "newsgroupsDF = pandas.DataFrame(columns = ['text', 'category', 'source_file'])\n",
    "\n",
    "for category in newsgroupsCategories:\n",
    "    print(\"Fetching data for: {}\".format(category))\n",
    "    ng = sklearn.datasets.fetch_20newsgroups(subset='train', categories = [category], remove=['headers', 'footers', 'quotes'], data_home = '../data/scikit_learn_data/')\n",
    "    newsgroupsDF = newsgroupsDF.append(pandas.DataFrame({'text' : ng.data, 'category' : [category] * len(ng.data), 'source_file' : ng.filenames}), ignore_index=True)\n",
    "\n",
    "#Creating an explicit index column for later\n",
    "\n",
    "#newsgroupsDF['index'] = range(len(newsgroupsDF))\n",
    "#newsgroupsDF.set_index('index', inplace = True)\n",
    "print(len(newsgroupsDF))\n",
    "newsgroupsDF[:10]"
   ],
   "metadata": {
    "collapsed": false,
    "pycharm": {
     "name": "#%%\n"
    }
   }
  },
  {
   "cell_type": "markdown",
   "source": [
    "Next, we can convert the documents into word count vectors (e.g., *soc.religion.christian message a* might contain 3 mentions of \"church\", 2 of \"jesus\", 1 of \"religion\", etc., yielding a CountVector=[3,2,1,...])"
   ],
   "metadata": {
    "collapsed": false
   }
  },
  {
   "cell_type": "code",
   "execution_count": null,
   "outputs": [],
   "source": [
    "#First it needs to be initialized\n",
    "ngCountVectorizer = sklearn.feature_extraction.text.CountVectorizer()\n",
    "#Then trained\n",
    "newsgroupsVects = ngCountVectorizer.fit_transform(newsgroupsDF['text'])\n",
    "print(newsgroupsVects.shape)"
   ],
   "metadata": {
    "collapsed": false,
    "pycharm": {
     "name": "#%%\n"
    }
   }
  },
  {
   "cell_type": "markdown",
   "source": [
    "I'm pretty sure that you're very familiar with the cell above now, but let's go through the concepts again. \n",
    "\n",
    "What do we want to do here? We want to do vectorization, i.e., converting texts into numerical features (vectors) as required by machine learning algorithms. And this is what feature_extraction module does: to extract features from texts in a format as required by ML algorithms. feature_extraction module has four classes: CountVectorizer, DictVectorizer, TfidfVectorizer, and FeatureHasher. Here, we use CountVectorizer, but we'll also use TfidfVectorizer as well below.\n",
    "\n",
    "There are various strategies by which we extract features. Here, we use CountVectorizer, and, in particular, we use 'Bag of Words' representation. In other words, the features we hope to extract from the texts are each individual token occurrence frequency. We simply count the the occurrence of each token in each document. So, here, we get a document-term-matrix, in which documents are characterized by the occurrences of tokens. Other forms of features, such as the relative position information of words, are ignored. We'll see other types of representations and strategies as well soon, such as N-gram (by the way, we can do n-gram with CountVectorizer. CountVectorizer class takes a set of parameters, such as analyzer, which you can specify the n-gram). \n",
    "\n",
    "the first line of the cell above instantiate a class, CountVectorizer(). In other words, you created an instance, or realization of a class. What is a class and what does instantiation mean? That's a long story, maybe for next time."
   ],
   "metadata": {
    "collapsed": false
   }
  },
  {
   "cell_type": "markdown",
   "source": [
    "This gives us a matrix with row a document and each column a word. The matrix is mostly zeros, so we store it as a sparse matrix, a data structure that contains and indexes only the nonzero entries."
   ],
   "metadata": {
    "collapsed": false
   }
  },
  {
   "cell_type": "code",
   "execution_count": null,
   "outputs": [],
   "source": [
    "newsgroupsVects"
   ],
   "metadata": {
    "collapsed": false,
    "pycharm": {
     "name": "#%%\n"
    }
   }
  },
  {
   "cell_type": "markdown",
   "source": [
    "We can use the normal operations on this sparse matrix or convert it to normal matrix (not recommended for large sparse matrices :-)"
   ],
   "metadata": {
    "collapsed": false
   }
  },
  {
   "cell_type": "code",
   "execution_count": null,
   "outputs": [],
   "source": [
    "newsgroupsVects[:10,:20].toarray()"
   ],
   "metadata": {
    "collapsed": false,
    "pycharm": {
     "name": "#%%\n"
    }
   }
  },
  {
   "cell_type": "markdown",
   "source": [
    "What is the toarray() function here? It's similar to todense()--todense() and toarray() both returns a dense representation of a matrix; however, todense() returns a matrix representation while toarray() returns a ndarray representation."
   ],
   "metadata": {
    "collapsed": false
   }
  },
  {
   "cell_type": "markdown",
   "source": [
    "We can also lookup the indices of different words using the Vectorizer"
   ],
   "metadata": {
    "collapsed": false
   }
  },
  {
   "cell_type": "code",
   "execution_count": null,
   "outputs": [],
   "source": [
    "ngCountVectorizer.vocabulary_.get('vector')"
   ],
   "metadata": {
    "collapsed": false,
    "pycharm": {
     "name": "#%%\n"
    }
   }
  },
  {
   "cell_type": "markdown",
   "source": [
    "There are some more interesting things to do...\n",
    "\n",
    "Lets start with [term frequency–inverse document frequency](http://scikit-learn.org/stable/modules/generated/sklearn.feature_extraction.text.TfidfTransformer.html)(tf-idf), a method for weighting document-distinguishing words."
   ],
   "metadata": {
    "collapsed": false
   }
  },
  {
   "cell_type": "code",
   "execution_count": null,
   "outputs": [],
   "source": [
    "#initialize\n",
    "newsgroupsTFTransformer = sklearn.feature_extraction.text.TfidfTransformer().fit(newsgroupsVects)\n",
    "#train\n",
    "newsgroupsTF = newsgroupsTFTransformer.transform(newsgroupsVects)\n",
    "print(newsgroupsTF.shape)"
   ],
   "metadata": {
    "collapsed": false,
    "pycharm": {
     "name": "#%%\n"
    }
   }
  },
  {
   "cell_type": "markdown",
   "source": [
    "This gives us the tf-idf for each word in each text"
   ],
   "metadata": {
    "collapsed": false
   }
  },
  {
   "cell_type": "code",
   "execution_count": null,
   "outputs": [],
   "source": [
    "list(zip(ngCountVectorizer.vocabulary_.keys(), newsgroupsTF.data))[:20]"
   ],
   "metadata": {
    "collapsed": false,
    "pycharm": {
     "name": "#%%\n"
    }
   }
  },
  {
   "cell_type": "markdown",
   "source": [
    "Let's see what we're doing here. First, you need to know what vocabulary\\_ does. vocabulary\\_ is an attribute of the CountVectorizer, which gives you a mapping of terms to feature indices. It gives you all the terms and their feature indices, so it's a dictionary. So, by doing \"ngCountVectorizer.vocabulary\\_.keys()\", we get the keys of the dictionary, which are the terms. "
   ],
   "metadata": {
    "collapsed": false
   }
  },
  {
   "cell_type": "markdown",
   "source": [
    "At first glance, there appears to be a lot of garbage littering this unordered list with unique words and stopwords. Note, however, that words like *apple*, *rgb*, and *voltage* distinguish this newsgroup document, while stopwords post a much lower weight. Note that we could filter out stop words, stem and lem our data before vectorizering, or we can instead use tf-idf to filter our data (or **both**). For exact explanation of all options look [here](http://scikit-learn.org/stable/modules/generated/sklearn.feature_extraction.text.TfidfVectorizer.html). To prune this matrix of features, we now limit our word vector to 1000 words with at least 3 occurrences, which do not occur in more than half of the documents. There is an extensive science and art to feature engineering for machine learning applications like clustering."
   ],
   "metadata": {
    "collapsed": false
   }
  },
  {
   "cell_type": "code",
   "execution_count": null,
   "outputs": [],
   "source": [
    "#initialize\n",
    "ngTFVectorizer = sklearn.feature_extraction.text.TfidfVectorizer(max_df=0.5, max_features=1000, min_df=3, stop_words='english', norm='l2')\n",
    "#train\n",
    "newsgroupsTFVects = ngTFVectorizer.fit_transform(newsgroupsDF['text'])"
   ],
   "metadata": {
    "collapsed": false,
    "pycharm": {
     "name": "#%%\n"
    }
   }
  },
  {
   "cell_type": "markdown",
   "source": [
    "Lets look at the matrix"
   ],
   "metadata": {
    "collapsed": false
   }
  },
  {
   "cell_type": "code",
   "execution_count": null,
   "outputs": [],
   "source": [
    "newsgroupsDF['text']"
   ],
   "metadata": {
    "collapsed": false,
    "pycharm": {
     "name": "#%%\n"
    }
   }
  },
  {
   "cell_type": "markdown",
   "source": [
    "The matrix is much smaller now, only 1000 words, but the same number of documents\n",
    "\n",
    "We can still look at the words:"
   ],
   "metadata": {
    "collapsed": false
   }
  },
  {
   "cell_type": "code",
   "execution_count": null,
   "outputs": [],
   "source": [
    "try:\n",
    "    print(ngTFVectorizer.vocabulary_['vector'])\n",
    "except KeyError:\n",
    "    print('vector is missing')\n",
    "    print('The available words are: {} ...'.format(list(ngTFVectorizer.vocabulary_.keys())[:10]))"
   ],
   "metadata": {
    "collapsed": false,
    "pycharm": {
     "name": "#%%\n"
    }
   }
  },
  {
   "cell_type": "markdown",
   "source": [
    "This is a reasonable matrix of features with which to begin identifying clusters."
   ],
   "metadata": {
    "collapsed": false
   }
  },
  {
   "cell_type": "markdown",
   "source": [
    "# Flat Clustering with $K$-means\n",
    "\n",
    "Lets start with $k$-means, an approach that begins with random clusters of predefined number, then iterates cluster reassignment and evaluates the new clusters relative to an objective function, recursively.\n",
    "\n",
    "To do this we will need to know how many clusters we are looking for. Here the *true number* of clusters is 4. Of course, in most cases you would not know the number in advance."
   ],
   "metadata": {
    "collapsed": false
   }
  },
  {
   "cell_type": "code",
   "execution_count": null,
   "outputs": [],
   "source": [
    "numClusters = len(set(newsgroupsDF['category']))\n",
    "numClusters"
   ],
   "metadata": {
    "collapsed": false,
    "pycharm": {
     "name": "#%%\n"
    }
   }
  },
  {
   "cell_type": "markdown",
   "source": [
    "Then we can initialize our cluster finder"
   ],
   "metadata": {
    "collapsed": false
   }
  },
  {
   "cell_type": "code",
   "execution_count": null,
   "outputs": [],
   "source": [
    "#k-means++ is a better way of finding the starting points\n",
    "#We could also try providing our own\n",
    "km = sklearn.cluster.KMeans(n_clusters=numClusters, init='k-means++')"
   ],
   "metadata": {
    "collapsed": false,
    "pycharm": {
     "name": "#%%\n"
    }
   }
  },
  {
   "cell_type": "markdown",
   "source": [
    "And now we can calculate the clusters"
   ],
   "metadata": {
    "collapsed": false
   }
  },
  {
   "cell_type": "code",
   "execution_count": null,
   "outputs": [],
   "source": [
    "km.fit(newsgroupsTFVects)"
   ],
   "metadata": {
    "collapsed": false,
    "pycharm": {
     "name": "#%%\n"
    }
   }
  },
  {
   "cell_type": "markdown",
   "source": [
    "Once we have the clusters, we can evaluate them with a variety of metrics that sklearn provides. We will look at a few, including *Homogeneity*, *Completeness*, *V-measure* and *Adjusted Rand Score*. \n",
    "\n",
    "*Homogeneity* is a measure that grows (from 0 to 1) to the degree that all of its clusters contain only data points which are members of a single class (e.g., newsgroup). \n",
    "\n",
    "*Completeness* is *Homogeneity's* converse: a measure that grows (0 to 1) to the degree that all data points of a given class are also elements of the same cluster.\n",
    "\n",
    "The *V-measure* is the harmonic mean of *Homogeniety* and *Completeness* ($v = 2 * (homogeneity * completeness) / (homogeneity + completeness$).\n",
    "\n",
    "the *Adjusted Rand Score* is built atop the *Rand Index (RI)*, which computes the similarity between two clusterings by considering all pairs of samples and counting pairs assigned in the same or different clusters in the predicted and true clusterings (e.g., actual newsgroups). The *RI* is then adjusted for chance as follows:\n",
    "$ARI = (RI - RI_{expected}) / (max(RI) - RI_{expected})$.\n",
    "The Adjusted Rand Index is thus ensured to have a value close to 0.0 for random labeling independent of the number of clusters and samples, 1.0 when the clusterings are identical, and -1.0 when they are as bad (i.e., cross-cutting) as they can be."
   ],
   "metadata": {
    "collapsed": false
   }
  },
  {
   "cell_type": "code",
   "execution_count": null,
   "outputs": [],
   "source": [
    "print(\"The available metrics are: {}\".format([s for s in dir(sklearn.metrics) if s[0] != '_']))\n",
    "print(\"For our clusters:\")\n",
    "print(\"Homogeneity: {:0.3f}\".format(sklearn.metrics.homogeneity_score(newsgroupsDF['category'], km.labels_)))\n",
    "print(\"Completeness: {:0.3f}\".format(sklearn.metrics.completeness_score(newsgroupsDF['category'], km.labels_)))\n",
    "print(\"V-measure: {:0.3f}\".format(sklearn.metrics.v_measure_score(newsgroupsDF['category'], km.labels_)))\n",
    "print(\"Adjusted Rand Score: {:0.3f}\".format(sklearn.metrics.adjusted_rand_score(newsgroupsDF['category'], km.labels_)))"
   ],
   "metadata": {
    "collapsed": false,
    "pycharm": {
     "name": "#%%\n"
    }
   }
  },
  {
   "cell_type": "markdown",
   "source": [
    "You can evaluate these for different clustering solutions ($1-N$ clusters). You can also interrogate the alignment between specific documents and their cluster assignments by adding the cluster labels to the pandas dataframe."
   ],
   "metadata": {
    "collapsed": false
   }
  },
  {
   "cell_type": "code",
   "execution_count": null,
   "outputs": [],
   "source": [
    "newsgroupsDF['kmeans_predictions'] = km.labels_\n",
    "newsgroupsDF"
   ],
   "metadata": {
    "collapsed": false,
    "pycharm": {
     "name": "#%%\n"
    }
   }
  },
  {
   "cell_type": "markdown",
   "source": [
    "We can also look at the distinguishing features in each cluster:"
   ],
   "metadata": {
    "collapsed": false
   }
  },
  {
   "cell_type": "code",
   "execution_count": null,
   "outputs": [],
   "source": [
    "terms = ngTFVectorizer.get_feature_names()\n",
    "print(\"Top terms per cluster:\")\n",
    "order_centroids = km.cluster_centers_.argsort()[:, ::-1]\n",
    "for i in range(numClusters):\n",
    "    print(\"Cluster %d:\" % i)\n",
    "    for ind in order_centroids[i, :10]:\n",
    "        print(' %s' % terms[ind])\n",
    "    print('\\n')"
   ],
   "metadata": {
    "collapsed": false,
    "pycharm": {
     "name": "#%%\n"
    }
   }
  },
  {
   "cell_type": "markdown",
   "source": [
    "Let's construct a visualization of the clusters. First, we will first reduce the\n",
    "dimensionality of the data using principal components analysis (PCA)."
   ],
   "metadata": {
    "collapsed": false
   }
  },
  {
   "cell_type": "code",
   "execution_count": null,
   "outputs": [],
   "source": [
    "PCA = sklearn.decomposition.PCA\n",
    "pca = PCA(n_components = 2).fit(newsgroupsTFVects.toarray())\n",
    "reduced_data = pca.transform(newsgroupsTFVects.toarray())"
   ],
   "metadata": {
    "collapsed": false,
    "pycharm": {
     "name": "#%%\n"
    }
   }
  },
  {
   "cell_type": "markdown",
   "source": [
    "The cell below is optional. It allows you to do a biplot"
   ],
   "metadata": {
    "collapsed": false
   }
  },
  {
   "cell_type": "code",
   "execution_count": null,
   "outputs": [],
   "source": [
    "components = pca.components_\n",
    "keyword_ids = list(set(order_centroids[:,:10].flatten())) #Get the ids of the most distinguishing words(features) from your kmeans model.\n",
    "words = [terms[i] for i in keyword_ids]#Turn the ids into words.\n",
    "x = components[:,keyword_ids][0,:] #Find the coordinates of those words in your biplot.\n",
    "y = components[:,keyword_ids][1,:]"
   ],
   "metadata": {
    "collapsed": false,
    "pycharm": {
     "name": "#%%\n"
    }
   }
  },
  {
   "cell_type": "markdown",
   "source": [
    "Then, let's build a color map for the true labels."
   ],
   "metadata": {
    "collapsed": false
   }
  },
  {
   "cell_type": "code",
   "execution_count": null,
   "outputs": [],
   "source": [
    "colordict = {\n",
    "'comp.sys.mac.hardware': 'red',\n",
    "'comp.windows.x': 'orange',\n",
    "'misc.forsale': 'green',\n",
    "'rec.autos': 'blue',\n",
    "    }\n",
    "colors = [colordict[c] for c in newsgroupsDF['category']]\n",
    "print(\"The categories' colors are:\\n{}\".format(colordict.items()))"
   ],
   "metadata": {
    "collapsed": false,
    "pycharm": {
     "name": "#%%\n"
    }
   }
  },
  {
   "cell_type": "markdown",
   "source": [
    "Let's plot the data using the true labels as the colors of our data points."
   ],
   "metadata": {
    "collapsed": false
   }
  },
  {
   "cell_type": "code",
   "execution_count": null,
   "outputs": [],
   "source": [
    "fig = plt.figure(figsize = (10,6))\n",
    "ax = fig.add_subplot(111)\n",
    "ax.set_frame_on(False)\n",
    "ax.scatter(reduced_data[:, 0], reduced_data[:, 1], color = colors, alpha = 0.5, label = colors)\n",
    "plt.xticks(())\n",
    "plt.yticks(())\n",
    "plt.title('True Classes')\n",
    "plt.show()"
   ],
   "metadata": {
    "collapsed": false,
    "pycharm": {
     "name": "#%%\n"
    }
   }
  },
  {
   "cell_type": "markdown",
   "source": [
    "One nice thing about PCA is that we can also do a biplot and map our feature\n",
    "vectors to the same space."
   ],
   "metadata": {
    "collapsed": false
   }
  },
  {
   "cell_type": "code",
   "execution_count": null,
   "outputs": [],
   "source": [
    "fig = plt.figure(figsize = (16,9))\n",
    "ax = fig.add_subplot(111)\n",
    "ax.set_frame_on(False)\n",
    "ax.scatter(reduced_data[:, 0], reduced_data[:, 1], color = colors, alpha = 0.3, label = colors)\n",
    "for i, word in enumerate(words):\n",
    "    ax.annotate(word, (x[i],y[i]))\n",
    "plt.xticks(())\n",
    "plt.yticks(())\n",
    "plt.title('True Classes')\n",
    "plt.show()"
   ],
   "metadata": {
    "collapsed": false,
    "pycharm": {
     "name": "#%%\n"
    }
   }
  },
  {
   "cell_type": "markdown",
   "source": [
    "Let's do it again with predicted clusters."
   ],
   "metadata": {
    "collapsed": false
   }
  },
  {
   "cell_type": "code",
   "execution_count": null,
   "outputs": [],
   "source": [
    "colors_p = [colordict[newsgroupsCategories[l]] for l in km.labels_]"
   ],
   "metadata": {
    "collapsed": false,
    "pycharm": {
     "name": "#%%\n"
    }
   }
  },
  {
   "cell_type": "code",
   "execution_count": null,
   "outputs": [],
   "source": [
    "fig = plt.figure(figsize = (10,6))\n",
    "ax = fig.add_subplot(111)\n",
    "ax.set_frame_on(False)\n",
    "plt.scatter(reduced_data[:, 0], reduced_data[:, 1], color = colors_p, alpha = 0.5)\n",
    "plt.xticks(())\n",
    "plt.yticks(())\n",
    "plt.title('Predicted Clusters\\n k = 4')\n",
    "plt.show()"
   ],
   "metadata": {
    "collapsed": false,
    "pycharm": {
     "name": "#%%\n"
    }
   }
  },
  {
   "cell_type": "markdown",
   "source": [
    "Let's try with 3 clusters."
   ],
   "metadata": {
    "collapsed": false
   }
  },
  {
   "cell_type": "code",
   "execution_count": null,
   "outputs": [],
   "source": [
    "km3 = sklearn.cluster.KMeans(n_clusters= 3, init='k-means++')\n",
    "km3.fit(newsgroupsTFVects.toarray())"
   ],
   "metadata": {
    "collapsed": false,
    "pycharm": {
     "name": "#%%\n"
    }
   }
  },
  {
   "cell_type": "markdown",
   "source": [
    "# Selecting Cluster Number\n",
    "\n",
    "We can select an optimal cluster number by identifying the lowest of the metrics listed above (e.g., V-measure), but often you don't have \"ground truth\" or labeled data. For identifying the \"best\" number of clusters in an unsupervised way, we demonstrate the Silhouette method. Many other methods also exist (e.g., Bayesian Information Criteria or BIC, the visual \"elbow criteria\", etc.)\n",
    "\n",
    "First we will define a helper function:"
   ],
   "metadata": {
    "collapsed": false
   }
  },
  {
   "cell_type": "code",
   "execution_count": null,
   "outputs": [],
   "source": [
    "def plotSilhouette(n_clusters, X):\n",
    "    fig, (ax1, ax2) = plt.subplots(ncols=2, figsize = (15,5))\n",
    "    \n",
    "    ax1.set_xlim([-0.1, 1])\n",
    "    ax1.set_ylim([0, len(X) + (n_clusters + 1) * 10])\n",
    "    clusterer = sklearn.cluster.KMeans(n_clusters=n_clusters, random_state=10)\n",
    "    cluster_labels = clusterer.fit_predict(X)\n",
    "    \n",
    "    silhouette_avg = sklearn.metrics.silhouette_score(X, cluster_labels)\n",
    "\n",
    "    # Compute the silhouette scores for each sample\n",
    "    sample_silhouette_values = sklearn.metrics.silhouette_samples(X, cluster_labels)\n",
    "\n",
    "    y_lower = 10\n",
    "    \n",
    "    for i in range(n_clusters):\n",
    "        ith_cluster_silhouette_values = sample_silhouette_values[cluster_labels == i]\n",
    "\n",
    "        ith_cluster_silhouette_values.sort()\n",
    "\n",
    "        size_cluster_i = ith_cluster_silhouette_values.shape[0]\n",
    "        y_upper = y_lower + size_cluster_i\n",
    "        cmap = matplotlib.cm.get_cmap(\"nipy_spectral\")\n",
    "        color = cmap(float(i) / n_clusters)\n",
    "        ax1.fill_betweenx(np.arange(y_lower, y_upper),\n",
    "                          0, ith_cluster_silhouette_values,\n",
    "                          facecolor=color, edgecolor=color, alpha=0.7)\n",
    "\n",
    "        ax1.text(-0.05, y_lower + 0.5 * size_cluster_i, str(i))\n",
    "\n",
    "        y_lower = y_upper + 10\n",
    "    \n",
    "    ax1.set_title(\"The silhouette plot for the various clusters.\")\n",
    "    ax1.set_xlabel(\"The silhouette coefficient values\")\n",
    "    ax1.set_ylabel(\"Cluster label\")\n",
    "\n",
    "    ax1.axvline(x=silhouette_avg, color=\"red\", linestyle=\"--\")\n",
    "\n",
    "    ax1.set_yticks([])  # Clear the yaxis labels / ticks\n",
    "    ax1.set_xticks([-0.1, 0, 0.2, 0.4, 0.6, 0.8, 1])\n",
    "\n",
    "    # 2nd Plot showing the actual clusters formed\n",
    "    cmap = matplotlib.cm.get_cmap(\"nipy_spectral\")\n",
    "    colors = cmap(float(i) / n_clusters)\n",
    "    ax2.scatter(reduced_data[:, 0], reduced_data[:, 1], marker='.', s=30, lw=0, alpha=0.7,\n",
    "                c=colors)\n",
    "\n",
    "    # Labeling the clusters\n",
    "    centers = clusterer.cluster_centers_\n",
    "    projected_centers = pca.transform(centers)\n",
    "    # Draw white circles at cluster centers\n",
    "    ax2.scatter(projected_centers[:, 0], projected_centers[:, 1],\n",
    "                marker='o', c=\"white\", alpha=1, s=200)\n",
    "\n",
    "    for i, c in enumerate(projected_centers):\n",
    "        ax2.scatter(c[0], c[1], marker='$%d$' % i, alpha=1, s=50)\n",
    "\n",
    "    ax2.set_title(\"The visualization of the clustered data.\")\n",
    "    ax2.set_xlabel(\"PC 1\")\n",
    "    ax2.set_ylabel(\"PC 2\")\n",
    "\n",
    "    plt.suptitle((\"Silhouette analysis for KMeans clustering on sample data \"\n",
    "                  \"with n_clusters = %d\" % n_clusters),\n",
    "                 fontsize=14, fontweight='bold')\n",
    "    plt.show()\n",
    "    print(\"For n_clusters = {}, The average silhouette_score is : {:.3f}\".format(n_clusters, silhouette_avg))"
   ],
   "metadata": {
    "collapsed": false,
    "pycharm": {
     "name": "#%%\n"
    }
   }
  },
  {
   "cell_type": "markdown",
   "source": [
    "Now we can examine a few different numbers of clusters:"
   ],
   "metadata": {
    "collapsed": false
   }
  },
  {
   "cell_type": "code",
   "execution_count": null,
   "outputs": [],
   "source": [
    "X = newsgroupsTFVects.toarray()\n",
    "plotSilhouette(3, X)"
   ],
   "metadata": {
    "collapsed": false,
    "pycharm": {
     "name": "#%%\n"
    }
   }
  },
  {
   "cell_type": "code",
   "execution_count": null,
   "outputs": [],
   "source": [
    "X = newsgroupsTFVects.toarray()\n",
    "plotSilhouette(4, X)"
   ],
   "metadata": {
    "collapsed": false,
    "pycharm": {
     "name": "#%%\n"
    }
   }
  },
  {
   "cell_type": "code",
   "execution_count": null,
   "outputs": [],
   "source": [
    "X = newsgroupsTFVects.toarray()\n",
    "plotSilhouette(5, X)"
   ],
   "metadata": {
    "collapsed": false,
    "pycharm": {
     "name": "#%%\n"
    }
   }
  },
  {
   "cell_type": "code",
   "execution_count": null,
   "outputs": [],
   "source": [
    "X = newsgroupsTFVects.toarray()\n",
    "plotSilhouette(6, X)"
   ],
   "metadata": {
    "collapsed": false,
    "pycharm": {
     "name": "#%%\n"
    }
   }
  },
  {
   "cell_type": "markdown",
   "source": [
    "Interestingly, the silhouette scores above suggests that 3 is a better number of clusters than 4, which would be accurate if we (reasonsably) grouped the two computer-themed groups."
   ],
   "metadata": {
    "collapsed": false
   }
  },
  {
   "cell_type": "markdown",
   "source": [
    "# Getting new text data\n",
    "\n",
    "Lets start by using the same function as last lesson and loading a few press releases from 10 different senators into a DataFrame. The code to do this is below, but commented out as we've already downloaded the data to the data directory."
   ],
   "metadata": {
    "collapsed": false
   }
  },
  {
   "cell_type": "code",
   "execution_count": null,
   "outputs": [],
   "source": [
    "targetSenator = 'Kennedy'# = ['Voinovich', 'Obama', 'Whitehouse', 'Snowe', 'Rockefeller', 'Murkowski', 'McCain', 'Kyl', 'Baucus', 'Frist']\n",
    "\"\"\"\n",
    "#Uncomment this to download your own data\n",
    "senReleasesTraining = pandas.DataFrame()\n",
    "\n",
    "print(\"Fetching {}'s data\".format(targetSenator))\n",
    "targetDF = lucem_illud.getGithubFiles('https://api.github.com/repos/lintool/GrimmerSenatePressReleases/contents/raw/{}'.format(targetSenator), maxFiles = 2000)\n",
    "targetDF['targetSenator'] = targetSenator\n",
    "senReleasesTraining = senReleasesTraining.append(targetDF, ignore_index = True)\n",
    "\n",
    "#Watch out for weird lines when converting to csv\n",
    "#one of them had to be removed from the Kennedy data so it could be re-read\n",
    "senReleasesTraining.to_csv(\"data/senReleasesTraining.csv\")\n",
    "\"\"\"\n",
    "\n",
    "senReleasesTraining = pandas.read_csv(\"../data/senReleasesTraining.csv\")\n",
    "\n",
    "senReleasesTraining[:5]"
   ],
   "metadata": {
    "collapsed": false,
    "pycharm": {
     "name": "#%%\n"
    }
   }
  },
  {
   "cell_type": "markdown",
   "source": [
    "Now we have the files we can tokenize and normalize."
   ],
   "metadata": {
    "collapsed": false
   }
  },
  {
   "cell_type": "markdown",
   "source": [
    "The normalized text is good, but we know that the texts will have a large amount of overlap so we can use tf-idf to remove some of the most frequent words. Before doing that, there is one empty cell, let's remove that."
   ],
   "metadata": {
    "collapsed": false
   }
  },
  {
   "cell_type": "code",
   "execution_count": null,
   "outputs": [],
   "source": [
    "senReleasesTraining = senReleasesTraining.dropna(axis=0, how='any')"
   ],
   "metadata": {
    "collapsed": false,
    "pycharm": {
     "name": "#%%\n"
    }
   }
  },
  {
   "cell_type": "code",
   "execution_count": null,
   "outputs": [],
   "source": [
    "#Similar parameters to before, but stricter max df and no max num occurrences\n",
    "senTFVectorizer = sklearn.feature_extraction.text.TfidfVectorizer(max_df=100, min_df=2, stop_words='english', norm='l2')\n",
    "senTFVects = senTFVectorizer.fit_transform(senReleasesTraining['text'])\n",
    "senTFVectorizer.vocabulary_.get('senat', 'Missing \"Senate\"')"
   ],
   "metadata": {
    "collapsed": false,
    "pycharm": {
     "name": "#%%\n"
    }
   }
  },
  {
   "cell_type": "markdown",
   "source": [
    "# Clustering with our new data\n",
    "\n",
    "One nice thing about using DataFrames for everything is that we can quickly convert code from one input to another. Below we are redoing the cluster detection with our senate data. If you setup your DataFrame the same way it should be able to run on this code, without much work.\n",
    "\n",
    "First we will define what we will be working with"
   ],
   "metadata": {
    "collapsed": false
   }
  },
  {
   "cell_type": "code",
   "execution_count": null,
   "outputs": [],
   "source": [
    "targetDF = senReleasesTraining\n",
    "textColumn = 'text'\n",
    "numCategories = 3"
   ],
   "metadata": {
    "collapsed": false,
    "pycharm": {
     "name": "#%%\n"
    }
   }
  },
  {
   "cell_type": "markdown",
   "source": [
    "Tf-IDf vectorizing"
   ],
   "metadata": {
    "collapsed": false
   }
  },
  {
   "cell_type": "code",
   "execution_count": null,
   "outputs": [],
   "source": [
    "exampleTFVectorizer = sklearn.feature_extraction.text.TfidfVectorizer(max_df=0.5, max_features=1000, min_df=3, stop_words='english', norm='l2')\n",
    "#train\n",
    "exampleTFVects = ngTFVectorizer.fit_transform(targetDF[textColumn])"
   ],
   "metadata": {
    "collapsed": false,
    "pycharm": {
     "name": "#%%\n"
    }
   }
  },
  {
   "cell_type": "markdown",
   "source": [
    "Running k means"
   ],
   "metadata": {
    "collapsed": false
   }
  },
  {
   "cell_type": "code",
   "execution_count": null,
   "outputs": [],
   "source": [
    "exampleKM = sklearn.cluster.KMeans(n_clusters = numCategories, init='k-means++')\n",
    "exampleKM.fit(exampleTFVects)"
   ],
   "metadata": {
    "collapsed": false,
    "pycharm": {
     "name": "#%%\n"
    }
   }
  },
  {
   "cell_type": "markdown",
   "source": [
    "And visualize:"
   ],
   "metadata": {
    "collapsed": false
   }
  },
  {
   "cell_type": "code",
   "execution_count": null,
   "outputs": [],
   "source": [
    "examplePCA = sklearn.decomposition.PCA(n_components = 2).fit(exampleTFVects.toarray())\n",
    "reducedPCA_data = examplePCA.transform(exampleTFVects.toarray())\n",
    "\n",
    "colors = list(plt.cm.rainbow(np.linspace(0,1, numCategories)))\n",
    "colors_p = [colors[l] for l in exampleKM.labels_]"
   ],
   "metadata": {
    "collapsed": false,
    "pycharm": {
     "name": "#%%\n"
    }
   }
  },
  {
   "cell_type": "code",
   "execution_count": null,
   "outputs": [],
   "source": [
    "fig = plt.figure(1)\n",
    "ax = fig.add_subplot(111)\n",
    "ax.set_frame_on(False)\n",
    "plt.scatter(reducedPCA_data[:, 0], reducedPCA_data[:, 1], color = colors_p, alpha = 0.5)\n",
    "plt.xticks(())\n",
    "plt.yticks(())\n",
    "plt.title('Predicted Clusters\\n k = {}'.format(numCategories))\n",
    "plt.show()"
   ],
   "metadata": {
    "collapsed": false,
    "pycharm": {
     "name": "#%%\n"
    }
   }
  },
  {
   "cell_type": "markdown",
   "source": [
    "In this case, there may be two clusters that could be identified with Silhouette analysis or some of the metrics described above; although not having true classes makes that tricky. Below, we add these cluster assignments to the dataframe for individual perusal and evaluation."
   ],
   "metadata": {
    "collapsed": false
   }
  },
  {
   "cell_type": "code",
   "execution_count": null,
   "outputs": [],
   "source": [
    "targetDF['kmeans_predictions'] = exampleKM.labels_\n",
    "targetDF"
   ],
   "metadata": {
    "collapsed": false,
    "pycharm": {
     "name": "#%%\n"
    }
   }
  },
  {
   "cell_type": "markdown",
   "source": [
    "## <span style=\"color:red\">*Exercise 1*</span>\n",
    "\n",
    "<span style=\"color:red\">Construct cells immediately below this that construct features and cluster your documents using K-means and a variety of cluster numbers. Interrogate the cluster contents in terms of both documents and features. Identify the \"optimal\" cluster number with Silhouette analysis. Plot clusters and features after reducing with PCA. What does this cluster structure reveal about the organization of documents in your corpora? "
   ],
   "metadata": {
    "collapsed": false
   }
  },
  {
   "cell_type": "markdown",
   "source": [
    "The organization of the 2-cluster analysis revealed what should be an expected finding from twitter - there are persons who are\n",
    "very politically active and there are persons who are not. One of the biggest draws for Twitter is its political engagement. So this is unsurprising.\n",
    "\n",
    "\n",
    "We see weak correlations between the intuitiveness trait which divides this sample and clustering itself.\n",
    "Interestingly, the silhouette analysis revealed increasing scores as the dimensions rose through 5, 10 and even 20. It seems there are a lot of distinct subgroups of liked tweet patterns, which is in fact what one should expect as the persons vary across culture, geography etc, and not only personality.\n",
    "\n",
    "\n",
    "The cluster analysis reveals an interesting U shape which is not easily explanable - the intuitiveness trait seems to randomly spread across these dimensions. So essentially, we have learnt that personality is not the dominanat feature in the sample, as expected - politics is.\n"
   ],
   "metadata": {
    "collapsed": false,
    "pycharm": {
     "name": "#%% md\n"
    }
   }
  },
  {
   "cell_type": "code",
   "execution_count": 527,
   "outputs": [],
   "source": [
    "\n",
    "ofile = open('personality_likes_raw.csv', mode = 'r', errors= None)\n",
    "raw_personalityDF = pandas.read_csv(ofile)\n",
    "pDF = pandas.DataFrame()"
   ],
   "metadata": {
    "collapsed": false,
    "pycharm": {
     "name": "#%%\n"
    }
   }
  },
  {
   "cell_type": "code",
   "execution_count": 528,
   "outputs": [],
   "source": [
    "for type in set(raw_personalityDF['intuitive']):\n",
    "    pDF = pDF.append(raw_personalityDF[raw_personalityDF['intuitive']==type].sample(n = 240, random_state= 4434523))"
   ],
   "metadata": {
    "collapsed": false,
    "pycharm": {
     "name": "#%%\n"
    }
   }
  },
  {
   "cell_type": "code",
   "execution_count": 529,
   "outputs": [
    {
     "data": {
      "text/plain": "                liked_by                                               text  \\\n0               21962602  \"“FOLLOWED BY ALL” ACTION STEPS\" #GinoWickman,...   \n1    1046930262268006400  I’ve never been a cat person. We got Luna for ...   \n2               70901647  @manusia_jawa_1 @mahabintangjr @KompasTV https...   \n3               14218396  I miss having dinner parties. I miss going to ...   \n4               14088454  That may put someone over the $500 allowable t...   \n..                   ...                                                ...   \n475           2165526102  @SonicFox Thank you for the promotion@SonicFox...   \n476             25776263  Many have said that what transpired on Wednesd...   \n477             36419649  @rsosa8 Some great books!Best call of the year...   \n478             16494284  @danprimack @axios A good chunk of fintech see...   \n479            838301000  Today is Ted Danson’s birthday.Betsy DeVos has...   \n\n     type  extravert  intuitive  thinking  judging  \n0    ISTJ          0          0         1        1  \n1    ISTP          0          0         1        0  \n2    ISTP          0          0         1        0  \n3    ISTJ          0          0         1        1  \n4    ISTJ          0          0         1        1  \n..    ...        ...        ...       ...      ...  \n475  INFP          0          1         0        0  \n476  ENFP          1          1         0        0  \n477  ENFP          1          1         0        0  \n478  ENTJ          1          1         1        1  \n479  INTP          0          1         1        0  \n\n[480 rows x 7 columns]",
      "text/html": "<div>\n<style scoped>\n    .dataframe tbody tr th:only-of-type {\n        vertical-align: middle;\n    }\n\n    .dataframe tbody tr th {\n        vertical-align: top;\n    }\n\n    .dataframe thead th {\n        text-align: right;\n    }\n</style>\n<table border=\"1\" class=\"dataframe\">\n  <thead>\n    <tr style=\"text-align: right;\">\n      <th></th>\n      <th>liked_by</th>\n      <th>text</th>\n      <th>type</th>\n      <th>extravert</th>\n      <th>intuitive</th>\n      <th>thinking</th>\n      <th>judging</th>\n    </tr>\n  </thead>\n  <tbody>\n    <tr>\n      <th>0</th>\n      <td>21962602</td>\n      <td>\"“FOLLOWED BY ALL” ACTION STEPS\" #GinoWickman,...</td>\n      <td>ISTJ</td>\n      <td>0</td>\n      <td>0</td>\n      <td>1</td>\n      <td>1</td>\n    </tr>\n    <tr>\n      <th>1</th>\n      <td>1046930262268006400</td>\n      <td>I’ve never been a cat person. We got Luna for ...</td>\n      <td>ISTP</td>\n      <td>0</td>\n      <td>0</td>\n      <td>1</td>\n      <td>0</td>\n    </tr>\n    <tr>\n      <th>2</th>\n      <td>70901647</td>\n      <td>@manusia_jawa_1 @mahabintangjr @KompasTV https...</td>\n      <td>ISTP</td>\n      <td>0</td>\n      <td>0</td>\n      <td>1</td>\n      <td>0</td>\n    </tr>\n    <tr>\n      <th>3</th>\n      <td>14218396</td>\n      <td>I miss having dinner parties. I miss going to ...</td>\n      <td>ISTJ</td>\n      <td>0</td>\n      <td>0</td>\n      <td>1</td>\n      <td>1</td>\n    </tr>\n    <tr>\n      <th>4</th>\n      <td>14088454</td>\n      <td>That may put someone over the $500 allowable t...</td>\n      <td>ISTJ</td>\n      <td>0</td>\n      <td>0</td>\n      <td>1</td>\n      <td>1</td>\n    </tr>\n    <tr>\n      <th>...</th>\n      <td>...</td>\n      <td>...</td>\n      <td>...</td>\n      <td>...</td>\n      <td>...</td>\n      <td>...</td>\n      <td>...</td>\n    </tr>\n    <tr>\n      <th>475</th>\n      <td>2165526102</td>\n      <td>@SonicFox Thank you for the promotion@SonicFox...</td>\n      <td>INFP</td>\n      <td>0</td>\n      <td>1</td>\n      <td>0</td>\n      <td>0</td>\n    </tr>\n    <tr>\n      <th>476</th>\n      <td>25776263</td>\n      <td>Many have said that what transpired on Wednesd...</td>\n      <td>ENFP</td>\n      <td>1</td>\n      <td>1</td>\n      <td>0</td>\n      <td>0</td>\n    </tr>\n    <tr>\n      <th>477</th>\n      <td>36419649</td>\n      <td>@rsosa8 Some great books!Best call of the year...</td>\n      <td>ENFP</td>\n      <td>1</td>\n      <td>1</td>\n      <td>0</td>\n      <td>0</td>\n    </tr>\n    <tr>\n      <th>478</th>\n      <td>16494284</td>\n      <td>@danprimack @axios A good chunk of fintech see...</td>\n      <td>ENTJ</td>\n      <td>1</td>\n      <td>1</td>\n      <td>1</td>\n      <td>1</td>\n    </tr>\n    <tr>\n      <th>479</th>\n      <td>838301000</td>\n      <td>Today is Ted Danson’s birthday.Betsy DeVos has...</td>\n      <td>INTP</td>\n      <td>0</td>\n      <td>1</td>\n      <td>1</td>\n      <td>0</td>\n    </tr>\n  </tbody>\n</table>\n<p>480 rows × 7 columns</p>\n</div>"
     },
     "execution_count": 529,
     "metadata": {},
     "output_type": "execute_result"
    }
   ],
   "source": [
    "pDF.reset_index(inplace = True)\n",
    "pDF.drop(['Unnamed: 0', 'index'], axis = 1, inplace = True)\n",
    "pDF"
   ],
   "metadata": {
    "collapsed": false,
    "pycharm": {
     "name": "#%%\n"
    }
   }
  },
  {
   "cell_type": "markdown",
   "source": [
    "CountVectors:"
   ],
   "metadata": {
    "collapsed": false
   }
  },
  {
   "cell_type": "code",
   "execution_count": 530,
   "outputs": [
    {
     "name": "stdout",
     "output_type": "stream",
     "text": [
      "(480, 207662)\n"
     ]
    }
   ],
   "source": [
    "#First it needs to be initialized\n",
    "pCountVectorizer = sklearn.feature_extraction.text.CountVectorizer()\n",
    "#Then trained\n",
    "pVects = pCountVectorizer.fit_transform(pDF['text'])\n",
    "print(pVects.shape)"
   ],
   "metadata": {
    "collapsed": false,
    "pycharm": {
     "name": "#%%\n"
    }
   }
  },
  {
   "cell_type": "code",
   "execution_count": 531,
   "outputs": [
    {
     "data": {
      "text/plain": "array([[ 1,  0,  0,  0,  0,  0,  0,  0,  0,  0,  0,  0,  0,  0,  0,  0,\n         0,  0,  0,  0],\n       [ 1, 12,  0,  0,  0,  0,  0,  0,  0,  0,  0,  0,  0,  0,  0,  0,\n         0,  0,  0,  0],\n       [ 0,  0,  0,  0,  0,  0,  0,  0,  0,  0,  0,  0,  0,  0,  0,  0,\n         0,  0,  0,  0],\n       [ 0,  0,  0,  0,  0,  0,  0,  0,  0,  0,  0,  0,  0,  1,  0,  0,\n         0,  0,  0,  0],\n       [ 1,  0,  0,  0,  0,  0,  0,  0,  0,  0,  0,  0,  0,  0,  0,  0,\n         0,  0,  0,  0],\n       [ 0,  0,  0,  0,  0,  0,  0,  0,  0,  0,  0,  0,  0,  0,  0,  0,\n         0,  0,  0,  0],\n       [ 0,  0,  0,  0,  0,  0,  0,  0,  0,  0,  0,  0,  0,  0,  0,  0,\n         0,  0,  0,  0],\n       [ 0,  0,  0,  0,  0,  0,  0,  0,  0,  0,  0,  0,  0,  0,  0,  0,\n         0,  0,  0,  0],\n       [ 0,  0,  0,  0,  0,  0,  0,  0,  0,  0,  0,  0,  0,  0,  0,  0,\n         0,  0,  0,  0],\n       [ 0,  4,  0,  0,  0,  0,  0,  0,  0,  0,  0,  0,  0,  0,  1,  0,\n         0,  0,  0,  0]], dtype=int64)"
     },
     "execution_count": 531,
     "metadata": {},
     "output_type": "execute_result"
    }
   ],
   "source": [
    "pVects[:10,:20].toarray()"
   ],
   "metadata": {
    "collapsed": false,
    "pycharm": {
     "name": "#%%\n"
    }
   }
  },
  {
   "cell_type": "code",
   "execution_count": 532,
   "outputs": [
    {
     "data": {
      "text/plain": "188493"
     },
     "execution_count": 532,
     "metadata": {},
     "output_type": "execute_result"
    }
   ],
   "source": [
    "pCountVectorizer.vocabulary_.get('vector')"
   ],
   "metadata": {
    "collapsed": false,
    "pycharm": {
     "name": "#%%\n"
    }
   }
  },
  {
   "cell_type": "markdown",
   "source": [
    "Tfidf:"
   ],
   "metadata": {
    "collapsed": false
   }
  },
  {
   "cell_type": "code",
   "execution_count": 533,
   "outputs": [
    {
     "name": "stdout",
     "output_type": "stream",
     "text": [
      "(480, 207662)\n"
     ]
    }
   ],
   "source": [
    "#initialize\n",
    "pTFTransformer = sklearn.feature_extraction.text.TfidfTransformer().fit(pVects)\n",
    "#train\n",
    "pTF = pTFTransformer.transform(pVects)\n",
    "print(pTF.shape)"
   ],
   "metadata": {
    "collapsed": false,
    "pycharm": {
     "name": "#%%\n"
    }
   }
  },
  {
   "cell_type": "code",
   "execution_count": 534,
   "outputs": [
    {
     "data": {
      "text/plain": "[('followed', 0.012556841168368733),\n ('by', 0.004206948040405354),\n ('all', 0.012556841168368733),\n ('action', 0.012556841168368733),\n ('steps', 0.012556841168368733),\n ('ginowickman', 0.012556841168368733),\n ('traction', 0.012556841168368733),\n ('fba', 0.012556841168368733),\n ('leadership', 0.012556841168368733),\n ('eosworldwide', 0.012556841168368733),\n ('readwiseio', 0.012556841168368733),\n ('https', 0.012556841168368733),\n ('co', 0.014419702701784649),\n ('1jei1iv1muwho', 0.008466247446541932),\n ('wants', 0.07673084329147042),\n ('to', 0.012556841168368733),\n ('do', 0.1401225551623204),\n ('detox', 0.012556841168368733),\n ('exercise', 0.012556841168368733),\n ('days', 0.012556841168368733)]"
     },
     "execution_count": 534,
     "metadata": {},
     "output_type": "execute_result"
    }
   ],
   "source": [
    "list(zip(pCountVectorizer.vocabulary_.keys(), pTF.data))[:20]"
   ],
   "metadata": {
    "collapsed": false,
    "pycharm": {
     "name": "#%%\n"
    }
   }
  },
  {
   "cell_type": "code",
   "execution_count": 535,
   "outputs": [],
   "source": [
    "#initialize\n",
    "pTFVectorizer = sklearn.feature_extraction.text.TfidfVectorizer(max_df=0.5, max_features=1000, min_df=3, stop_words='english', norm='l2')\n",
    "#train\n",
    "pTFVects = pTFVectorizer.fit_transform(pDF['text'])"
   ],
   "metadata": {
    "collapsed": false,
    "pycharm": {
     "name": "#%%\n"
    }
   }
  },
  {
   "cell_type": "code",
   "execution_count": 536,
   "outputs": [
    {
     "name": "stdout",
     "output_type": "stream",
     "text": [
      "computation is missing\n",
      "The available words are: ['action', 'leadership', 'wants', 'phone', 'monday', 'vs', 'ad', 'campaign', 'playing', 'boys'] ...\n"
     ]
    }
   ],
   "source": [
    "try:\n",
    "    print(pTFVectorizer.vocabulary_['computation'])\n",
    "except KeyError:\n",
    "    print('computation is missing')\n",
    "    print('The available words are: {} ...'.format(list(pTFVectorizer.vocabulary_.keys())[:10]))"
   ],
   "metadata": {
    "collapsed": false,
    "pycharm": {
     "name": "#%%\n"
    }
   }
  },
  {
   "cell_type": "markdown",
   "source": [
    "# K Means"
   ],
   "metadata": {
    "collapsed": false
   }
  },
  {
   "cell_type": "code",
   "execution_count": 537,
   "outputs": [
    {
     "data": {
      "text/plain": "2"
     },
     "execution_count": 537,
     "metadata": {},
     "output_type": "execute_result"
    }
   ],
   "source": [
    "numClusters = len(set(pDF['intuitive']))\n",
    "numClusters"
   ],
   "metadata": {
    "collapsed": false,
    "pycharm": {
     "name": "#%%\n"
    }
   }
  },
  {
   "cell_type": "code",
   "execution_count": 538,
   "outputs": [],
   "source": [
    "#k-means++ is a better way of finding the starting points\n",
    "#We could also try providing our own\n",
    "km = sklearn.cluster.KMeans(n_clusters=numClusters, init='k-means++')"
   ],
   "metadata": {
    "collapsed": false,
    "pycharm": {
     "name": "#%%\n"
    }
   }
  },
  {
   "cell_type": "code",
   "execution_count": 539,
   "outputs": [
    {
     "data": {
      "text/plain": "KMeans(n_clusters=2)"
     },
     "execution_count": 539,
     "metadata": {},
     "output_type": "execute_result"
    }
   ],
   "source": [
    "km.fit(pTFVects)"
   ],
   "metadata": {
    "collapsed": false,
    "pycharm": {
     "name": "#%%\n"
    }
   }
  },
  {
   "cell_type": "code",
   "execution_count": 540,
   "outputs": [
    {
     "name": "stdout",
     "output_type": "stream",
     "text": [
      "The available metrics are: ['ConfusionMatrixDisplay', 'DetCurveDisplay', 'PrecisionRecallDisplay', 'RocCurveDisplay', 'SCORERS', 'accuracy_score', 'adjusted_mutual_info_score', 'adjusted_rand_score', 'auc', 'average_precision_score', 'balanced_accuracy_score', 'brier_score_loss', 'calinski_harabasz_score', 'check_scoring', 'classification_report', 'cluster', 'cohen_kappa_score', 'completeness_score', 'confusion_matrix', 'consensus_score', 'coverage_error', 'davies_bouldin_score', 'dcg_score', 'det_curve', 'euclidean_distances', 'explained_variance_score', 'f1_score', 'fbeta_score', 'fowlkes_mallows_score', 'get_scorer', 'hamming_loss', 'hinge_loss', 'homogeneity_completeness_v_measure', 'homogeneity_score', 'jaccard_score', 'label_ranking_average_precision_score', 'label_ranking_loss', 'log_loss', 'make_scorer', 'matthews_corrcoef', 'max_error', 'mean_absolute_error', 'mean_absolute_percentage_error', 'mean_gamma_deviance', 'mean_poisson_deviance', 'mean_squared_error', 'mean_squared_log_error', 'mean_tweedie_deviance', 'median_absolute_error', 'multilabel_confusion_matrix', 'mutual_info_score', 'nan_euclidean_distances', 'ndcg_score', 'normalized_mutual_info_score', 'pair_confusion_matrix', 'pairwise', 'pairwise_distances', 'pairwise_distances_argmin', 'pairwise_distances_argmin_min', 'pairwise_distances_chunked', 'pairwise_kernels', 'plot_confusion_matrix', 'plot_det_curve', 'plot_precision_recall_curve', 'plot_roc_curve', 'precision_recall_curve', 'precision_recall_fscore_support', 'precision_score', 'r2_score', 'rand_score', 'recall_score', 'roc_auc_score', 'roc_curve', 'silhouette_samples', 'silhouette_score', 'top_k_accuracy_score', 'v_measure_score', 'zero_one_loss']\n",
      "For our clusters:\n",
      "Homogeneity: 0.024\n",
      "Completeness: 0.032\n",
      "V-measure: 0.027\n",
      "Adjusted Rand Score: 0.020\n"
     ]
    }
   ],
   "source": [
    "print(\"The available metrics are: {}\".format([s for s in dir(sklearn.metrics) if s[0] != '_']))\n",
    "print(\"For our clusters:\")\n",
    "print(\"Homogeneity: {:0.3f}\".format(sklearn.metrics.homogeneity_score(pDF['intuitive'], km.labels_)))\n",
    "print(\"Completeness: {:0.3f}\".format(sklearn.metrics.completeness_score(pDF['intuitive'], km.labels_)))\n",
    "print(\"V-measure: {:0.3f}\".format(sklearn.metrics.v_measure_score(pDF['intuitive'], km.labels_)))\n",
    "print(\"Adjusted Rand Score: {:0.3f}\".format(sklearn.metrics.adjusted_rand_score(pDF['intuitive'], km.labels_)))"
   ],
   "metadata": {
    "collapsed": false,
    "pycharm": {
     "name": "#%%\n"
    }
   }
  },
  {
   "cell_type": "code",
   "execution_count": 541,
   "outputs": [
    {
     "data": {
      "text/plain": "                liked_by                                               text  \\\n0               21962602  \"“FOLLOWED BY ALL” ACTION STEPS\" #GinoWickman,...   \n1    1046930262268006400  I’ve never been a cat person. We got Luna for ...   \n2               70901647  @manusia_jawa_1 @mahabintangjr @KompasTV https...   \n3               14218396  I miss having dinner parties. I miss going to ...   \n4               14088454  That may put someone over the $500 allowable t...   \n..                   ...                                                ...   \n475           2165526102  @SonicFox Thank you for the promotion@SonicFox...   \n476             25776263  Many have said that what transpired on Wednesd...   \n477             36419649  @rsosa8 Some great books!Best call of the year...   \n478             16494284  @danprimack @axios A good chunk of fintech see...   \n479            838301000  Today is Ted Danson’s birthday.Betsy DeVos has...   \n\n     type  extravert  intuitive  thinking  judging  kmeans_predictions  \n0    ISTJ          0          0         1        1                   0  \n1    ISTP          0          0         1        0                   0  \n2    ISTP          0          0         1        0                   1  \n3    ISTJ          0          0         1        1                   0  \n4    ISTJ          0          0         1        1                   1  \n..    ...        ...        ...       ...      ...                 ...  \n475  INFP          0          1         0        0                   0  \n476  ENFP          1          1         0        0                   0  \n477  ENFP          1          1         0        0                   0  \n478  ENTJ          1          1         1        1                   0  \n479  INTP          0          1         1        0                   0  \n\n[480 rows x 8 columns]",
      "text/html": "<div>\n<style scoped>\n    .dataframe tbody tr th:only-of-type {\n        vertical-align: middle;\n    }\n\n    .dataframe tbody tr th {\n        vertical-align: top;\n    }\n\n    .dataframe thead th {\n        text-align: right;\n    }\n</style>\n<table border=\"1\" class=\"dataframe\">\n  <thead>\n    <tr style=\"text-align: right;\">\n      <th></th>\n      <th>liked_by</th>\n      <th>text</th>\n      <th>type</th>\n      <th>extravert</th>\n      <th>intuitive</th>\n      <th>thinking</th>\n      <th>judging</th>\n      <th>kmeans_predictions</th>\n    </tr>\n  </thead>\n  <tbody>\n    <tr>\n      <th>0</th>\n      <td>21962602</td>\n      <td>\"“FOLLOWED BY ALL” ACTION STEPS\" #GinoWickman,...</td>\n      <td>ISTJ</td>\n      <td>0</td>\n      <td>0</td>\n      <td>1</td>\n      <td>1</td>\n      <td>0</td>\n    </tr>\n    <tr>\n      <th>1</th>\n      <td>1046930262268006400</td>\n      <td>I’ve never been a cat person. We got Luna for ...</td>\n      <td>ISTP</td>\n      <td>0</td>\n      <td>0</td>\n      <td>1</td>\n      <td>0</td>\n      <td>0</td>\n    </tr>\n    <tr>\n      <th>2</th>\n      <td>70901647</td>\n      <td>@manusia_jawa_1 @mahabintangjr @KompasTV https...</td>\n      <td>ISTP</td>\n      <td>0</td>\n      <td>0</td>\n      <td>1</td>\n      <td>0</td>\n      <td>1</td>\n    </tr>\n    <tr>\n      <th>3</th>\n      <td>14218396</td>\n      <td>I miss having dinner parties. I miss going to ...</td>\n      <td>ISTJ</td>\n      <td>0</td>\n      <td>0</td>\n      <td>1</td>\n      <td>1</td>\n      <td>0</td>\n    </tr>\n    <tr>\n      <th>4</th>\n      <td>14088454</td>\n      <td>That may put someone over the $500 allowable t...</td>\n      <td>ISTJ</td>\n      <td>0</td>\n      <td>0</td>\n      <td>1</td>\n      <td>1</td>\n      <td>1</td>\n    </tr>\n    <tr>\n      <th>...</th>\n      <td>...</td>\n      <td>...</td>\n      <td>...</td>\n      <td>...</td>\n      <td>...</td>\n      <td>...</td>\n      <td>...</td>\n      <td>...</td>\n    </tr>\n    <tr>\n      <th>475</th>\n      <td>2165526102</td>\n      <td>@SonicFox Thank you for the promotion@SonicFox...</td>\n      <td>INFP</td>\n      <td>0</td>\n      <td>1</td>\n      <td>0</td>\n      <td>0</td>\n      <td>0</td>\n    </tr>\n    <tr>\n      <th>476</th>\n      <td>25776263</td>\n      <td>Many have said that what transpired on Wednesd...</td>\n      <td>ENFP</td>\n      <td>1</td>\n      <td>1</td>\n      <td>0</td>\n      <td>0</td>\n      <td>0</td>\n    </tr>\n    <tr>\n      <th>477</th>\n      <td>36419649</td>\n      <td>@rsosa8 Some great books!Best call of the year...</td>\n      <td>ENFP</td>\n      <td>1</td>\n      <td>1</td>\n      <td>0</td>\n      <td>0</td>\n      <td>0</td>\n    </tr>\n    <tr>\n      <th>478</th>\n      <td>16494284</td>\n      <td>@danprimack @axios A good chunk of fintech see...</td>\n      <td>ENTJ</td>\n      <td>1</td>\n      <td>1</td>\n      <td>1</td>\n      <td>1</td>\n      <td>0</td>\n    </tr>\n    <tr>\n      <th>479</th>\n      <td>838301000</td>\n      <td>Today is Ted Danson’s birthday.Betsy DeVos has...</td>\n      <td>INTP</td>\n      <td>0</td>\n      <td>1</td>\n      <td>1</td>\n      <td>0</td>\n      <td>0</td>\n    </tr>\n  </tbody>\n</table>\n<p>480 rows × 8 columns</p>\n</div>"
     },
     "execution_count": 541,
     "metadata": {},
     "output_type": "execute_result"
    }
   ],
   "source": [
    "pDF['kmeans_predictions'] = km.labels_\n",
    "pDF"
   ],
   "metadata": {
    "collapsed": false,
    "pycharm": {
     "name": "#%%\n"
    }
   }
  },
  {
   "cell_type": "markdown",
   "source": [
    "Distinguishing features in each cluster:"
   ],
   "metadata": {
    "collapsed": false
   }
  },
  {
   "cell_type": "code",
   "execution_count": 563,
   "outputs": [
    {
     "name": "stdout",
     "output_type": "stream",
     "text": [
      "Top terms per cluster:\n",
      "Cluster 0:\n",
      " biden\n",
      " capitol\n",
      " christmas\n",
      " art\n",
      " election\n",
      " police\n",
      " vote\n",
      " im\n",
      " american\n",
      " joe\n",
      "\n",
      "\n",
      "Cluster 1:\n",
      " http\n",
      " di\n",
      " na\n",
      " yang\n",
      " que\n",
      " sa\n",
      " la\n",
      " ini\n",
      " dan\n",
      " en\n",
      "\n",
      "\n"
     ]
    }
   ],
   "source": [
    "terms = pTFVectorizer.get_feature_names()\n",
    "print(\"Top terms per cluster:\")\n",
    "order_centroids = km.cluster_centers_.argsort()[:, ::-1]\n",
    "for i in range(numClusters):\n",
    "    print(\"Cluster %d:\" % i)\n",
    "    for ind in order_centroids[i, :10]:\n",
    "        print(' %s' % terms[ind])\n",
    "    print('\\n')"
   ],
   "metadata": {
    "collapsed": false,
    "pycharm": {
     "name": "#%%\n"
    }
   }
  },
  {
   "cell_type": "markdown",
   "source": [
    "Visualization of the clusters, using PCA."
   ],
   "metadata": {
    "collapsed": false
   }
  },
  {
   "cell_type": "code",
   "execution_count": 564,
   "outputs": [],
   "source": [
    "PCA = sklearn.decomposition.PCA\n",
    "pca = PCA(n_components = 2).fit(pTFVects.toarray())\n",
    "reduced_data = pca.transform(pTFVects.toarray())"
   ],
   "metadata": {
    "collapsed": false,
    "pycharm": {
     "name": "#%%\n"
    }
   }
  },
  {
   "cell_type": "markdown",
   "source": [
    "Biplot:"
   ],
   "metadata": {
    "collapsed": false
   }
  },
  {
   "cell_type": "code",
   "execution_count": 565,
   "outputs": [],
   "source": [
    "components = pca.components_\n",
    "keyword_ids = list(set(order_centroids[:,:10].flatten())) #Get the ids of the most distinguishing words(features) from your kmeans model.\n",
    "words = [terms[i] for i in keyword_ids]#Turn the ids into words.\n",
    "x = components[:,keyword_ids][0,:] #Find the coordinates of those words in your biplot.\n",
    "y = components[:,keyword_ids][1,:]"
   ],
   "metadata": {
    "collapsed": false,
    "pycharm": {
     "name": "#%%\n"
    }
   }
  },
  {
   "cell_type": "markdown",
   "source": [
    "Then, let's build a color map for the true labels."
   ],
   "metadata": {
    "collapsed": false
   }
  },
  {
   "cell_type": "code",
   "execution_count": 566,
   "outputs": [
    {
     "name": "stdout",
     "output_type": "stream",
     "text": [
      "The categories' colors are:\n",
      "dict_items([(1, 'red'), (0, 'blue')])\n"
     ]
    }
   ],
   "source": [
    "colordict = {\n",
    "1: 'red',\n",
    "0: 'blue',\n",
    "\n",
    "    }\n",
    "colors = [colordict[c] for c in pDF['intuitive']]\n",
    "print(\"The categories' colors are:\\n{}\".format(colordict.items()))"
   ],
   "metadata": {
    "collapsed": false,
    "pycharm": {
     "name": "#%%\n"
    }
   }
  },
  {
   "cell_type": "markdown",
   "source": [
    "True labels as the colors of our data points:"
   ],
   "metadata": {
    "collapsed": false
   }
  },
  {
   "cell_type": "code",
   "execution_count": 567,
   "outputs": [
    {
     "data": {
      "text/plain": "<Figure size 720x432 with 1 Axes>",
      "image/png": "[encoded data removed]"
     },
     "metadata": {},
     "output_type": "display_data"
    }
   ],
   "source": [
    "fig = plt.figure(figsize = (10,6))\n",
    "ax = fig.add_subplot(111)\n",
    "ax.set_frame_on(False)\n",
    "ax.scatter(reduced_data[:, 0], reduced_data[:, 1], color = colors, alpha = 0.5, label = colors)\n",
    "plt.xticks(())\n",
    "plt.yticks(())\n",
    "plt.title('True Classes')\n",
    "plt.show()\n"
   ],
   "metadata": {
    "collapsed": false,
    "pycharm": {
     "name": "#%%\n"
    }
   }
  },
  {
   "cell_type": "code",
   "execution_count": 568,
   "outputs": [
    {
     "data": {
      "text/plain": "<Figure size 1152x648 with 1 Axes>",
      "image/png": "[encoded data removed]"
     },
     "metadata": {},
     "output_type": "display_data"
    }
   ],
   "source": [
    "fig = plt.figure(figsize = (16,9))\n",
    "ax = fig.add_subplot(111)\n",
    "ax.set_frame_on(False)\n",
    "ax.scatter(reduced_data[:, 0], reduced_data[:, 1], color = colors, alpha = 0.3, label = colors)\n",
    "for i, word in enumerate(words):\n",
    "    ax.annotate(word, (x[i],y[i]))\n",
    "plt.xticks(())\n",
    "plt.yticks(())\n",
    "plt.title('True Classes')\n",
    "plt.show()"
   ],
   "metadata": {
    "collapsed": false,
    "pycharm": {
     "name": "#%%\n"
    }
   }
  },
  {
   "cell_type": "markdown",
   "source": [
    "Predicted clusters:"
   ],
   "metadata": {
    "collapsed": false
   }
  },
  {
   "cell_type": "code",
   "execution_count": 561,
   "outputs": [],
   "source": [
    "pCategories = [0,1]\n",
    "colors_p = [colordict[pCategories[l]] for l in km.labels_]"
   ],
   "metadata": {
    "collapsed": false,
    "pycharm": {
     "name": "#%%\n"
    }
   }
  },
  {
   "cell_type": "code",
   "execution_count": 562,
   "outputs": [
    {
     "data": {
      "text/plain": "<Figure size 720x432 with 1 Axes>",
      "image/png": "[encoded data removed]"
     },
     "metadata": {},
     "output_type": "display_data"
    }
   ],
   "source": [
    "fig = plt.figure(figsize = (10,6))\n",
    "ax = fig.add_subplot(111)\n",
    "ax.set_frame_on(False)\n",
    "plt.scatter(reduced_data[:, 0], reduced_data[:, 1], color = colors_p, alpha = 0.5)\n",
    "plt.xticks(())\n",
    "plt.yticks(())\n",
    "plt.title('Predicted Clusters\\n k = 4')\n",
    "plt.show()"
   ],
   "metadata": {
    "collapsed": false,
    "pycharm": {
     "name": "#%%\n"
    }
   }
  },
  {
   "cell_type": "markdown",
   "source": [
    "5 clusters."
   ],
   "metadata": {
    "collapsed": false
   }
  },
  {
   "cell_type": "code",
   "execution_count": 550,
   "outputs": [
    {
     "data": {
      "text/plain": "KMeans(n_clusters=5)"
     },
     "execution_count": 550,
     "metadata": {},
     "output_type": "execute_result"
    }
   ],
   "source": [
    "km3 = sklearn.cluster.KMeans(n_clusters= 5, init='k-means++')\n",
    "km3.fit(pTFVects.toarray())"
   ],
   "metadata": {
    "collapsed": false,
    "pycharm": {
     "name": "#%%\n"
    }
   }
  },
  {
   "cell_type": "code",
   "execution_count": 551,
   "outputs": [],
   "source": [
    "def plotSilhouette(n_clusters, X):\n",
    "    fig, (ax1, ax2) = plt.subplots(ncols=2, figsize = (15,5))\n",
    "\n",
    "    ax1.set_xlim([-0.1, 1])\n",
    "    ax1.set_ylim([0, len(X) + (n_clusters + 1) * 10])\n",
    "    clusterer = sklearn.cluster.KMeans(n_clusters=n_clusters, random_state=10)\n",
    "    cluster_labels = clusterer.fit_predict(X)\n",
    "\n",
    "    silhouette_avg = sklearn.metrics.silhouette_score(X, cluster_labels)\n",
    "\n",
    "    # Compute the silhouette scores for each sample\n",
    "    sample_silhouette_values = sklearn.metrics.silhouette_samples(X, cluster_labels)\n",
    "\n",
    "    y_lower = 10\n",
    "\n",
    "    for i in range(n_clusters):\n",
    "        ith_cluster_silhouette_values = sample_silhouette_values[cluster_labels == i]\n",
    "\n",
    "        ith_cluster_silhouette_values.sort()\n",
    "\n",
    "        size_cluster_i = ith_cluster_silhouette_values.shape[0]\n",
    "        y_upper = y_lower + size_cluster_i\n",
    "        cmap = matplotlib.cm.get_cmap(\"nipy_spectral\")\n",
    "        color = cmap(float(i) / n_clusters)\n",
    "        ax1.fill_betweenx(np.arange(y_lower, y_upper),\n",
    "                          0, ith_cluster_silhouette_values,\n",
    "                          facecolor=color, edgecolor=color, alpha=0.7)\n",
    "\n",
    "        ax1.text(-0.05, y_lower + 0.5 * size_cluster_i, str(i))\n",
    "\n",
    "        y_lower = y_upper + 10\n",
    "\n",
    "    ax1.set_title(\"The silhouette plot for the various clusters.\")\n",
    "    ax1.set_xlabel(\"The silhouette coefficient values\")\n",
    "    ax1.set_ylabel(\"Cluster label\")\n",
    "\n",
    "    ax1.axvline(x=silhouette_avg, color=\"red\", linestyle=\"--\")\n",
    "\n",
    "    ax1.set_yticks([])  # Clear the yaxis labels / ticks\n",
    "    ax1.set_xticks([-0.1, 0, 0.2, 0.4, 0.6, 0.8, 1])\n",
    "\n",
    "    # 2nd Plot showing the actual clusters formed\n",
    "    cmap = matplotlib.cm.get_cmap(\"nipy_spectral\")\n",
    "    colors = cmap(float(i) / n_clusters)\n",
    "    ax2.scatter(reduced_data[:, 0], reduced_data[:, 1], marker='.', s=30, lw=0, alpha=0.7,\n",
    "                c=colors)\n",
    "\n",
    "    # Labeling the clusters\n",
    "    centers = clusterer.cluster_centers_\n",
    "    projected_centers = pca.transform(centers)\n",
    "    # Draw white circles at cluster centers\n",
    "    ax2.scatter(projected_centers[:, 0], projected_centers[:, 1],\n",
    "                marker='o', c=\"white\", alpha=1, s=200)\n",
    "\n",
    "    for i, c in enumerate(projected_centers):\n",
    "        ax2.scatter(c[0], c[1], marker='$%d$' % i, alpha=1, s=50)\n",
    "\n",
    "    ax2.set_title(\"The visualization of the clustered data.\")\n",
    "    ax2.set_xlabel(\"PC 1\")\n",
    "    ax2.set_ylabel(\"PC 2\")\n",
    "\n",
    "    plt.suptitle((\"Silhouette analysis for KMeans clustering on sample data \"\n",
    "                  \"with n_clusters = %d\" % n_clusters),\n",
    "                 fontsize=14, fontweight='bold')\n",
    "    plt.show()\n",
    "    print(\"For n_clusters = {}, The average silhouette_score is : {:.3f}\".format(n_clusters, silhouette_avg))"
   ],
   "metadata": {
    "collapsed": false,
    "pycharm": {
     "name": "#%%\n"
    }
   }
  },
  {
   "cell_type": "markdown",
   "source": [
    "Now we can examine a few different numbers of clusters:"
   ],
   "metadata": {
    "collapsed": false
   }
  },
  {
   "cell_type": "code",
   "execution_count": 552,
   "outputs": [
    {
     "name": "stderr",
     "output_type": "stream",
     "text": [
      "*c* argument looks like a single numeric RGB or RGBA sequence, which should be avoided as value-mapping will have precedence in case its length matches with *x* & *y*.  Please use the *color* keyword-argument or provide a 2-D array with a single row if you intend to specify the same RGB or RGBA value for all points.\n"
     ]
    },
    {
     "data": {
      "text/plain": "<Figure size 1080x360 with 2 Axes>",
      "image/png": "[encoded data removed]"
     },
     "metadata": {
      "needs_background": "light"
     },
     "output_type": "display_data"
    },
    {
     "name": "stdout",
     "output_type": "stream",
     "text": [
      "For n_clusters = 3, The average silhouette_score is : 0.037\n"
     ]
    }
   ],
   "source": [
    "X = pTFVects.toarray()\n",
    "plotSilhouette(3, X)"
   ],
   "metadata": {
    "collapsed": false,
    "pycharm": {
     "name": "#%%\n"
    }
   }
  },
  {
   "cell_type": "code",
   "execution_count": 553,
   "outputs": [
    {
     "name": "stderr",
     "output_type": "stream",
     "text": [
      "*c* argument looks like a single numeric RGB or RGBA sequence, which should be avoided as value-mapping will have precedence in case its length matches with *x* & *y*.  Please use the *color* keyword-argument or provide a 2-D array with a single row if you intend to specify the same RGB or RGBA value for all points.\n"
     ]
    },
    {
     "data": {
      "text/plain": "<Figure size 1080x360 with 2 Axes>",
      "image/png": "[encoded data removed]"
     },
     "metadata": {
      "needs_background": "light"
     },
     "output_type": "display_data"
    },
    {
     "name": "stdout",
     "output_type": "stream",
     "text": [
      "For n_clusters = 5, The average silhouette_score is : 0.070\n"
     ]
    }
   ],
   "source": [
    "X = pTFVects.toarray()\n",
    "plotSilhouette(5, X)"
   ],
   "metadata": {
    "collapsed": false,
    "pycharm": {
     "name": "#%%\n"
    }
   }
  },
  {
   "cell_type": "code",
   "execution_count": 554,
   "outputs": [
    {
     "name": "stderr",
     "output_type": "stream",
     "text": [
      "*c* argument looks like a single numeric RGB or RGBA sequence, which should be avoided as value-mapping will have precedence in case its length matches with *x* & *y*.  Please use the *color* keyword-argument or provide a 2-D array with a single row if you intend to specify the same RGB or RGBA value for all points.\n"
     ]
    },
    {
     "data": {
      "text/plain": "<Figure size 1080x360 with 2 Axes>",
      "image/png": "[encoded data removed]"
     },
     "metadata": {
      "needs_background": "light"
     },
     "output_type": "display_data"
    },
    {
     "name": "stdout",
     "output_type": "stream",
     "text": [
      "For n_clusters = 15, The average silhouette_score is : 0.091\n"
     ]
    }
   ],
   "source": [
    "X = pTFVects.toarray()\n",
    "plotSilhouette(15, X)"
   ],
   "metadata": {
    "collapsed": false,
    "pycharm": {
     "name": "#%%\n"
    }
   }
  },
  {
   "cell_type": "code",
   "execution_count": 555,
   "outputs": [
    {
     "name": "stderr",
     "output_type": "stream",
     "text": [
      "*c* argument looks like a single numeric RGB or RGBA sequence, which should be avoided as value-mapping will have precedence in case its length matches with *x* & *y*.  Please use the *color* keyword-argument or provide a 2-D array with a single row if you intend to specify the same RGB or RGBA value for all points.\n"
     ]
    },
    {
     "data": {
      "text/plain": "<Figure size 1080x360 with 2 Axes>",
      "image/png": "[encoded data removed]"
     },
     "metadata": {
      "needs_background": "light"
     },
     "output_type": "display_data"
    },
    {
     "name": "stdout",
     "output_type": "stream",
     "text": [
      "For n_clusters = 25, The average silhouette_score is : 0.102\n"
     ]
    }
   ],
   "source": [
    "X = pTFVects.toarray()\n",
    "plotSilhouette(25, X)"
   ],
   "metadata": {
    "collapsed": false,
    "pycharm": {
     "name": "#%%\n"
    }
   }
  },
  {
   "cell_type": "markdown",
   "source": [
    "# Hierarchical Clustering with Wald's Method\n",
    "\n",
    "Next we approach a hierchical clustering method, which proposes nested clusters at any resolution (at the finest resolution, every document is its own cluster).\n",
    "\n",
    "Here we must begin by calculating how similar the documents are to one another.\n",
    "\n",
    "As a first pass, we take our matrix of word counts per document\n",
    "`newsgroupsTFVects` and create a word occurrence matrix measuring how similar\n",
    "the documents are to each other based on their number of shared words. (Note one could perform the converse operation, a document occurrence matrix measuring how similar  words are to each other based on their number of collocated documents)."
   ],
   "metadata": {
    "collapsed": false
   }
  },
  {
   "cell_type": "code",
   "execution_count": null,
   "outputs": [],
   "source": [
    "TFVects"
   ],
   "metadata": {
    "collapsed": false,
    "pycharm": {
     "name": "#%%\n"
    }
   }
  },
  {
   "cell_type": "code",
   "execution_count": null,
   "outputs": [],
   "source": [
    "newsgroupsTFVects[:100].todense()"
   ],
   "metadata": {
    "collapsed": false,
    "pycharm": {
     "name": "#%%\n"
    }
   }
  },
  {
   "cell_type": "code",
   "execution_count": null,
   "outputs": [],
   "source": [
    "newsgroupsCoocMat = newsgroupsTFVects * newsgroupsTFVects.T\n",
    "#set the diagonal to 0 since we don't care how similar texts are to themselves\n",
    "newsgroupsCoocMat.setdiag(0)\n",
    "#Another way of relating the texts is with their cosine similarity\n",
    "#newsgroupsCosinMat1 = 1 - sklearn.metrics.pairwise.cosine_similarity(newsgroupsTFVects)\n",
    "#But generally word occurrence is more accurate\n"
   ],
   "metadata": {
    "collapsed": false,
    "pycharm": {
     "name": "#%%\n"
    }
   }
  },
  {
   "cell_type": "markdown",
   "source": [
    "Now we can compute a tree of nested clusters. Here we will only look at the first 50 texts of each class because drawing the dendrograms can be computationally intensive (and visually complex)."
   ],
   "metadata": {
    "collapsed": false
   }
  },
  {
   "cell_type": "code",
   "execution_count": null,
   "outputs": [],
   "source": [
    "selectIndices = []\n",
    "indexToCat = []\n",
    "for c in set(newsgroupsDF['category']):\n",
    "    selectIndices += list(newsgroupsDF[newsgroupsDF['category'] == c].index)[:50]\n",
    "    indexToCat += [c] * 50\n",
    "    #.groupby('category').sum()"
   ],
   "metadata": {
    "collapsed": false,
    "pycharm": {
     "name": "#%%\n"
    }
   }
  },
  {
   "cell_type": "code",
   "execution_count": null,
   "outputs": [],
   "source": [
    "subCoocMat = newsgroupsCoocMat[selectIndices,:][:,selectIndices]"
   ],
   "metadata": {
    "collapsed": false,
    "pycharm": {
     "name": "#%%\n"
    }
   }
  },
  {
   "cell_type": "code",
   "execution_count": null,
   "outputs": [],
   "source": [
    "linkage_matrix = scipy.cluster.hierarchy.ward(subCoocMat.toarray())\n",
    "linkage_matrix[:10]"
   ],
   "metadata": {
    "collapsed": false,
    "pycharm": {
     "name": "#%%\n"
    }
   }
  },
  {
   "cell_type": "markdown",
   "source": [
    "Now we can visualize the tree"
   ],
   "metadata": {
    "collapsed": false
   }
  },
  {
   "cell_type": "code",
   "execution_count": null,
   "outputs": [],
   "source": [
    "dendDat = scipy.cluster.hierarchy.dendrogram(linkage_matrix, get_leaves=True)"
   ],
   "metadata": {
    "collapsed": false,
    "pycharm": {
     "name": "#%%\n"
    }
   }
  },
  {
   "cell_type": "markdown",
   "source": [
    "This plot may seem somewhat unwieldy. To make it easier to read, we can cut the tree after a number of branchings."
   ],
   "metadata": {
    "collapsed": false
   }
  },
  {
   "cell_type": "code",
   "execution_count": null,
   "outputs": [],
   "source": [
    "dendrogramDat = scipy.cluster.hierarchy.dendrogram(linkage_matrix, p=4, truncate_mode='level', get_leaves=True)"
   ],
   "metadata": {
    "collapsed": false,
    "pycharm": {
     "name": "#%%\n"
    }
   }
  },
  {
   "cell_type": "markdown",
   "source": [
    "By default, the tree is colored to show the clusters based on their ['distance'](https://docs.scipy.org/doc/scipy-0.18.1/reference/generated/scipy.cluster.hierarchy.dendrogram.html#scipy.cluster.hierarchy.dendrogram) from one another, but there are other ways of forming hierarchical clusters.\n",
    "\n",
    "Another approach involves cutting the tree into `n` branches. We can do this with [`fcluster()`](https://docs.scipy.org/doc/scipy/reference/generated/scipy.cluster.hierarchy.fcluster.html#scipy.cluster.hierarchy.fcluster). Lets break the tree into 4 clusters. When we do this with all of the data in the dataframe, as below, we can add those clusters back for detailed evaluation."
   ],
   "metadata": {
    "collapsed": false
   }
  },
  {
   "cell_type": "code",
   "execution_count": null,
   "outputs": [],
   "source": [
    "hierarchicalClusters = scipy.cluster.hierarchy.fcluster(linkage_matrix, 4, 'maxclust')\n",
    "hierarchicalClusters"
   ],
   "metadata": {
    "collapsed": false,
    "pycharm": {
     "name": "#%%\n"
    }
   }
  },
  {
   "cell_type": "markdown",
   "source": [
    "We can use this *get clusters* like we did with k-means. What if we do the full data set?"
   ],
   "metadata": {
    "collapsed": false
   }
  },
  {
   "cell_type": "code",
   "execution_count": null,
   "outputs": [],
   "source": [
    "linkage_matrix_full = scipy.cluster.hierarchy.ward(newsgroupsCoocMat.toarray())\n",
    "hierarchicalClusters_full = scipy.cluster.hierarchy.fcluster(linkage_matrix_full, 4, 'maxclust')\n",
    "print(\"For our complete clusters:\")\n",
    "print(\"Homogeneity: {:0.3f}\".format(sklearn.metrics.homogeneity_score(newsgroupsDF['category'], hierarchicalClusters_full)))\n",
    "print(\"Completeness: {:0.3f}\".format(sklearn.metrics.completeness_score(newsgroupsDF['category'], hierarchicalClusters_full)))\n",
    "print(\"V-measure: {:0.3f}\".format(sklearn.metrics.v_measure_score(newsgroupsDF['category'], hierarchicalClusters_full)))\n",
    "print(\"Adjusted Rand Score: {:0.3f}\".format(sklearn.metrics.adjusted_rand_score(newsgroupsDF['category'], hierarchicalClusters_full)))"
   ],
   "metadata": {
    "collapsed": false,
    "pycharm": {
     "name": "#%%\n"
    }
   }
  },
  {
   "cell_type": "markdown",
   "source": [
    "Not quite as good as k-means. Perhaps we've got too many words for Ward or maybe we shouldn't be using TFIDF as that compresses the space. Still, the hierarchical model places constraints on the clustering not present with k-means, which come at a cost. Finally, we can bring those cluster assignments back to the data frame for deeper investigation."
   ],
   "metadata": {
    "collapsed": false
   }
  },
  {
   "cell_type": "code",
   "execution_count": null,
   "outputs": [],
   "source": [
    "newsgroupsDF['wald_predictions'] = hierarchicalClusters_full\n",
    "newsgroupsDF"
   ],
   "metadata": {
    "collapsed": false,
    "pycharm": {
     "name": "#%%\n"
    }
   }
  },
  {
   "cell_type": "markdown",
   "source": [
    "# Now let's do it with Senate press release data\n",
    "\n",
    "We can also do hierarchical clustering with the Senate data. Let's start by creating the linkage matrix:"
   ],
   "metadata": {
    "collapsed": false
   }
  },
  {
   "cell_type": "code",
   "execution_count": null,
   "outputs": [],
   "source": [
    "exampleCoocMat = exampleTFVects * exampleTFVects.T\n",
    "exampleCoocMat.setdiag(0)\n",
    "examplelinkage_matrix = scipy.cluster.hierarchy.ward(exampleCoocMat[:100, :100].toarray())"
   ],
   "metadata": {
    "collapsed": false,
    "pycharm": {
     "name": "#%%\n"
    }
   }
  },
  {
   "cell_type": "markdown",
   "source": [
    "And visualize the tree:"
   ],
   "metadata": {
    "collapsed": false
   }
  },
  {
   "cell_type": "code",
   "execution_count": null,
   "outputs": [],
   "source": [
    "ax = scipy.cluster.hierarchy.dendrogram(examplelinkage_matrix, p=5, truncate_mode='level')"
   ],
   "metadata": {
    "collapsed": false,
    "pycharm": {
     "name": "#%%\n"
    }
   }
  },
  {
   "cell_type": "markdown",
   "source": [
    "Now let's do it with the entire data frame."
   ],
   "metadata": {
    "collapsed": false
   }
  },
  {
   "cell_type": "code",
   "execution_count": null,
   "outputs": [],
   "source": [
    "example_linkage_matrix_full = scipy.cluster.hierarchy.ward(exampleCoocMat.toarray())\n",
    "example_hierarchicalClusters_full = scipy.cluster.hierarchy.fcluster(example_linkage_matrix_full, 4, 'maxclust')"
   ],
   "metadata": {
    "collapsed": false,
    "pycharm": {
     "name": "#%%\n"
    }
   }
  },
  {
   "cell_type": "markdown",
   "source": [
    "## <span style=\"color:red\">*Exercise 2*</span>\n",
    "\n",
    "<span style=\"color:red\">Construct cells immediately below this that hierarchically cluster your documents using two approaches, and visualize them with a tree. Interrogate the recursive cluster contents in terms of both documents and closenesses. What does this nested cluster structure reveal about the organization of documents in your sampled corpora? Moreover, if they do worse than kmeans (as above), why do you think this is the case (hint: using metrics if you have ground truth or silhouette if you do not)? \n",
    "\n",
    "<span style=\"color:red\">***Stretch***: Attempt using different distances into your clustering algorithms. (How) do they change the arrangement of clusters?"
   ],
   "metadata": {
    "collapsed": false
   }
  },
  {
   "cell_type": "markdown",
   "source": [
    "# Discussion\n",
    "\n",
    "- The Wald hierarchical clustering did a better job than than K means with n = 2!\n",
    "- This is perhaps because there are a lot of different themes of interests that twitterati are interested in - it would be unlikely that just two clusters align with the dimension we have pre-established, that is the intuitiveness (openness) psychometric trait.\n",
    "- Though the Rand score was the same on both K means and the hierarchical cluistering, the homogeneity, V-measure and the completeness were either similar or better."
   ],
   "metadata": {
    "collapsed": false,
    "pycharm": {
     "name": "#%% md\n"
    }
   }
  },
  {
   "cell_type": "code",
   "execution_count": 515,
   "outputs": [
    {
     "data": {
      "text/plain": "<480x1000 sparse matrix of type '<class 'numpy.float64'>'\n\twith 138214 stored elements in Compressed Sparse Row format>"
     },
     "execution_count": 515,
     "metadata": {},
     "output_type": "execute_result"
    }
   ],
   "source": [
    "pTFVects"
   ],
   "metadata": {
    "collapsed": false,
    "pycharm": {
     "name": "#%%\n"
    }
   }
  },
  {
   "cell_type": "code",
   "execution_count": 516,
   "outputs": [
    {
     "data": {
      "text/plain": "matrix([[0.03577447, 0.        , 0.        , ..., 0.        , 0.        ,\n         0.029035  ],\n        [0.02164448, 0.05253846, 0.01539077, ..., 0.        , 0.        ,\n         0.        ],\n        [0.        , 0.00903085, 0.01587313, ..., 0.        , 0.        ,\n         0.        ],\n        ...,\n        [0.        , 0.        , 0.        , ..., 0.        , 0.        ,\n         0.        ],\n        [0.        , 0.        , 0.        , ..., 0.        , 0.        ,\n         0.        ],\n        [0.        , 0.        , 0.        , ..., 0.18057125, 0.00599434,\n         0.00508416]])"
     },
     "execution_count": 516,
     "metadata": {},
     "output_type": "execute_result"
    }
   ],
   "source": [
    "pTFVects[:100].todense()"
   ],
   "metadata": {
    "collapsed": false,
    "pycharm": {
     "name": "#%%\n"
    }
   }
  },
  {
   "cell_type": "code",
   "execution_count": 517,
   "outputs": [],
   "source": [
    "pCoocMat = pTFVects * pTFVects.T\n",
    "#set the diagonal to 0 since we don't care how similar texts are to themselves\n",
    "pCoocMat.setdiag(0)\n",
    "#Another way of relating the texts is with their cosine similarity\n",
    "#newsgroupsCosinMat1 = 1 - sklearn.metrics.pairwise.cosine_similarity(newsgroupsTFVects)\n",
    "#But generally word occurrence is more accurate"
   ],
   "metadata": {
    "collapsed": false,
    "pycharm": {
     "name": "#%%\n"
    }
   }
  },
  {
   "cell_type": "code",
   "execution_count": 518,
   "outputs": [],
   "source": [
    "selectIndices = []\n",
    "indexToCat = []\n",
    "for c in set(pDF['intuitive']):\n",
    "    selectIndices += list(pDF[pDF['intuitive'] == c].index)[:50]\n",
    "    indexToCat += [c] * 50\n",
    "    #.groupby('category').sum()"
   ],
   "metadata": {
    "collapsed": false,
    "pycharm": {
     "name": "#%%\n"
    }
   }
  },
  {
   "cell_type": "code",
   "execution_count": 519,
   "outputs": [],
   "source": [
    "subCoocMat = pCoocMat[selectIndices,:][:,selectIndices]"
   ],
   "metadata": {
    "collapsed": false,
    "pycharm": {
     "name": "#%%\n"
    }
   }
  },
  {
   "cell_type": "code",
   "execution_count": 520,
   "outputs": [
    {
     "name": "stderr",
     "output_type": "stream",
     "text": [
      "c:\\users\\partha\\pycharmprojects\\companalysis\\venv\\lib\\site-packages\\scipy\\cluster\\hierarchy.py:834: ClusterWarning: scipy.cluster: The symmetric non-negative hollow observation matrix looks suspiciously like an uncondensed distance matrix\n",
      "  return linkage(y, method='ward', metric='euclidean')\n"
     ]
    },
    {
     "data": {
      "text/plain": "array([[ 17.        ,  35.        ,   0.32607241,   2.        ],\n       [ 14.        ,  33.        ,   0.4520453 ,   2.        ],\n       [ 19.        ,  71.        ,   0.48683291,   2.        ],\n       [ 18.        , 101.        ,   0.49148257,   3.        ],\n       [  8.        , 103.        ,   0.49589532,   4.        ],\n       [ 64.        ,  86.        ,   0.50590194,   2.        ],\n       [ 60.        ,  91.        ,   0.50866276,   2.        ],\n       [ 26.        ,  72.        ,   0.51369392,   2.        ],\n       [ 13.        ,  66.        ,   0.52457869,   2.        ],\n       [ 15.        ,  98.        ,   0.52482081,   2.        ]])"
     },
     "execution_count": 520,
     "metadata": {},
     "output_type": "execute_result"
    }
   ],
   "source": [
    "linkage_matrix = scipy.cluster.hierarchy.ward(subCoocMat.toarray())\n",
    "linkage_matrix[:10]"
   ],
   "metadata": {
    "collapsed": false,
    "pycharm": {
     "name": "#%%\n"
    }
   }
  },
  {
   "cell_type": "markdown",
   "source": [
    "Truncated Tree:"
   ],
   "metadata": {
    "collapsed": false
   }
  },
  {
   "cell_type": "code",
   "execution_count": 569,
   "outputs": [
    {
     "data": {
      "text/plain": "<Figure size 432x288 with 1 Axes>",
      "image/png": "[encoded data removed]"
     },
     "metadata": {
      "needs_background": "light"
     },
     "output_type": "display_data"
    }
   ],
   "source": [
    "dendrogramDat = scipy.cluster.hierarchy.dendrogram(linkage_matrix, p=4, truncate_mode='level', get_leaves=True)"
   ],
   "metadata": {
    "collapsed": false,
    "pycharm": {
     "name": "#%%\n"
    }
   }
  },
  {
   "cell_type": "code",
   "execution_count": 523,
   "outputs": [
    {
     "data": {
      "text/plain": "array([2, 1, 4, 2, 3, 2, 2, 2, 2, 2, 4, 3, 4, 2, 2, 2, 2, 4, 2, 4, 2, 2,\n       4, 4, 2, 2, 2, 2, 1, 2, 2, 2, 2, 2, 2, 4, 2, 4, 2, 4, 2, 2, 4, 4,\n       4, 4, 4, 2, 4, 2, 3, 1, 1, 1, 2, 2, 1, 4, 2, 2, 2, 3, 2, 2, 2, 2,\n       2, 2, 1, 1, 2, 4, 2, 2, 2, 1, 2, 2, 4, 1, 2, 4, 1, 2, 1, 1, 2, 2,\n       1, 2, 1, 2, 2, 3, 2, 1, 4, 2, 2, 2], dtype=int32)"
     },
     "execution_count": 523,
     "metadata": {},
     "output_type": "execute_result"
    }
   ],
   "source": [
    "hierarchicalClusters = scipy.cluster.hierarchy.fcluster(linkage_matrix, 4, 'maxclust')\n",
    "hierarchicalClusters\n"
   ],
   "metadata": {
    "collapsed": false,
    "pycharm": {
     "name": "#%%\n"
    }
   }
  },
  {
   "cell_type": "code",
   "execution_count": 524,
   "outputs": [
    {
     "name": "stdout",
     "output_type": "stream",
     "text": [
      "For our complete clusters:\n",
      "Homogeneity: 0.044\n",
      "Completeness: 0.028\n",
      "V-measure: 0.034\n",
      "Adjusted Rand Score: 0.020\n"
     ]
    }
   ],
   "source": [
    "linkage_matrix_full = scipy.cluster.hierarchy.ward(pCoocMat.toarray())\n",
    "hierarchicalClusters_full = scipy.cluster.hierarchy.fcluster(linkage_matrix_full, 4, 'maxclust')\n",
    "print(\"For our complete clusters:\")\n",
    "print(\"Homogeneity: {:0.3f}\".format(sklearn.metrics.homogeneity_score(pDF['intuitive'], hierarchicalClusters_full)))\n",
    "print(\"Completeness: {:0.3f}\".format(sklearn.metrics.completeness_score(pDF['intuitive'], hierarchicalClusters_full)))\n",
    "print(\"V-measure: {:0.3f}\".format(sklearn.metrics.v_measure_score(pDF['intuitive'], hierarchicalClusters_full)))\n",
    "print(\"Adjusted Rand Score: {:0.3f}\".format(sklearn.metrics.adjusted_rand_score(pDF['intuitive'], hierarchicalClusters_full)))"
   ],
   "metadata": {
    "collapsed": false,
    "pycharm": {
     "name": "#%%\n"
    }
   }
  },
  {
   "cell_type": "markdown",
   "source": [
    "Better than k-means!"
   ],
   "metadata": {
    "collapsed": false
   }
  },
  {
   "cell_type": "code",
   "execution_count": 525,
   "outputs": [
    {
     "data": {
      "text/plain": "                liked_by                                               text  \\\n0               21962602  \"“FOLLOWED BY ALL” ACTION STEPS\" #GinoWickman,...   \n1    1046930262268006400  I’ve never been a cat person. We got Luna for ...   \n2               70901647  @manusia_jawa_1 @mahabintangjr @KompasTV https...   \n3               14218396  I miss having dinner parties. I miss going to ...   \n4               14088454  That may put someone over the $500 allowable t...   \n..                   ...                                                ...   \n475           2165526102  @SonicFox Thank you for the promotion@SonicFox...   \n476             25776263  Many have said that what transpired on Wednesd...   \n477             36419649  @rsosa8 Some great books!Best call of the year...   \n478             16494284  @danprimack @axios A good chunk of fintech see...   \n479            838301000  Today is Ted Danson’s birthday.Betsy DeVos has...   \n\n     type  extravert  intuitive  thinking  judging  kmeans_predictions  \\\n0    ISTJ          0          0         1        1                   1   \n1    ISTP          0          0         1        0                   1   \n2    ISTP          0          0         1        0                   0   \n3    ISTJ          0          0         1        1                   1   \n4    ISTJ          0          0         1        1                   0   \n..    ...        ...        ...       ...      ...                 ...   \n475  INFP          0          1         0        0                   1   \n476  ENFP          1          1         0        0                   1   \n477  ENFP          1          1         0        0                   1   \n478  ENTJ          1          1         1        1                   1   \n479  INTP          0          1         1        0                   1   \n\n     wald_predictions                                     tokenized_text  \\\n0                   4  [FOLLOWED, BY, ALL, ACTION, STEPS, GinoWickman...   \n1                   3  [I, ’ve, never, been, a, cat, person, We, got,...   \n2                   1  [@manusia_jawa_1, @mahabintangjr, @KompasTV, h...   \n3                   4  [I, miss, having, dinner, parties, I, miss, go...   \n4                   2  [That, may, put, someone, over, the, $, 500, a...   \n..                ...                                                ...   \n475                 4  [@SonicFox, Thank, you, for, the, promotion@So...   \n476                 3  [Many, have, said, that, what, transpired, on,...   \n477                 4  [@rsosa8, Some, great, books!Best, call, of, t...   \n478                 4  [@danprimack, @axios, A, good, chunk, of, fint...   \n479                 3  [Today, is, Ted, Danson, ’s, birthday, Betsy, ...   \n\n                                     normalized_tokens  \\\n0    [follow, action, step, ginowickman, traction, ...   \n1    [have, cat, person, get, luna, kid, pick, huma...   \n2    [@manusia_jawa_1, @mahabintangjr, @kompastv, h...   \n3    [miss, have, dinner, party, miss, go, movie, b...   \n4    [$, allowable, tax, deduction, educator, https...   \n..                                                 ...   \n475  [@sonicfox, thank, promotion@sonicfox, @dooble...   \n476  [say, transpire, wednesday, america, wrong, am...   \n477  [@rsosa8, great, books!best, year, right, http...   \n478  [@danprimack, @axios, good, chunk, fintech, tr...   \n479  [today, ted, danson, birthday, betsy, devos, j...   \n\n                                        reduced_tokens  \n0    [action, step, leadership, phone, pm, monday, ...  \n1    [cat, kid, pick, dog, sit, weird, wonder, ban,...  \n2    [lie, orang, tapi, kita, di, ini, ada, yang, o...  \n3    [dinner, movie, bar, travel, conference, event...  \n4    [tax, teacher, create, experience, student, bu...  \n..                                                 ...  \n475  [powerful, holy, hello, player, youtube, updat...  \n476  [wednesday, late, experience, member, congress...  \n477  [fan, join, near, conference, situation, agree...  \n478  [model, realize, terrible, dog, business, rais...  \n479  [ted, student, surprise, amendment, education,...  \n\n[480 rows x 12 columns]",
      "text/html": "<div>\n<style scoped>\n    .dataframe tbody tr th:only-of-type {\n        vertical-align: middle;\n    }\n\n    .dataframe tbody tr th {\n        vertical-align: top;\n    }\n\n    .dataframe thead th {\n        text-align: right;\n    }\n</style>\n<table border=\"1\" class=\"dataframe\">\n  <thead>\n    <tr style=\"text-align: right;\">\n      <th></th>\n      <th>liked_by</th>\n      <th>text</th>\n      <th>type</th>\n      <th>extravert</th>\n      <th>intuitive</th>\n      <th>thinking</th>\n      <th>judging</th>\n      <th>kmeans_predictions</th>\n      <th>wald_predictions</th>\n      <th>tokenized_text</th>\n      <th>normalized_tokens</th>\n      <th>reduced_tokens</th>\n    </tr>\n  </thead>\n  <tbody>\n    <tr>\n      <th>0</th>\n      <td>21962602</td>\n      <td>\"“FOLLOWED BY ALL” ACTION STEPS\" #GinoWickman,...</td>\n      <td>ISTJ</td>\n      <td>0</td>\n      <td>0</td>\n      <td>1</td>\n      <td>1</td>\n      <td>1</td>\n      <td>4</td>\n      <td>[FOLLOWED, BY, ALL, ACTION, STEPS, GinoWickman...</td>\n      <td>[follow, action, step, ginowickman, traction, ...</td>\n      <td>[action, step, leadership, phone, pm, monday, ...</td>\n    </tr>\n    <tr>\n      <th>1</th>\n      <td>1046930262268006400</td>\n      <td>I’ve never been a cat person. We got Luna for ...</td>\n      <td>ISTP</td>\n      <td>0</td>\n      <td>0</td>\n      <td>1</td>\n      <td>0</td>\n      <td>1</td>\n      <td>3</td>\n      <td>[I, ’ve, never, been, a, cat, person, We, got,...</td>\n      <td>[have, cat, person, get, luna, kid, pick, huma...</td>\n      <td>[cat, kid, pick, dog, sit, weird, wonder, ban,...</td>\n    </tr>\n    <tr>\n      <th>2</th>\n      <td>70901647</td>\n      <td>@manusia_jawa_1 @mahabintangjr @KompasTV https...</td>\n      <td>ISTP</td>\n      <td>0</td>\n      <td>0</td>\n      <td>1</td>\n      <td>0</td>\n      <td>0</td>\n      <td>1</td>\n      <td>[@manusia_jawa_1, @mahabintangjr, @KompasTV, h...</td>\n      <td>[@manusia_jawa_1, @mahabintangjr, @kompastv, h...</td>\n      <td>[lie, orang, tapi, kita, di, ini, ada, yang, o...</td>\n    </tr>\n    <tr>\n      <th>3</th>\n      <td>14218396</td>\n      <td>I miss having dinner parties. I miss going to ...</td>\n      <td>ISTJ</td>\n      <td>0</td>\n      <td>0</td>\n      <td>1</td>\n      <td>1</td>\n      <td>1</td>\n      <td>4</td>\n      <td>[I, miss, having, dinner, parties, I, miss, go...</td>\n      <td>[miss, have, dinner, party, miss, go, movie, b...</td>\n      <td>[dinner, movie, bar, travel, conference, event...</td>\n    </tr>\n    <tr>\n      <th>4</th>\n      <td>14088454</td>\n      <td>That may put someone over the $500 allowable t...</td>\n      <td>ISTJ</td>\n      <td>0</td>\n      <td>0</td>\n      <td>1</td>\n      <td>1</td>\n      <td>0</td>\n      <td>2</td>\n      <td>[That, may, put, someone, over, the, $, 500, a...</td>\n      <td>[$, allowable, tax, deduction, educator, https...</td>\n      <td>[tax, teacher, create, experience, student, bu...</td>\n    </tr>\n    <tr>\n      <th>...</th>\n      <td>...</td>\n      <td>...</td>\n      <td>...</td>\n      <td>...</td>\n      <td>...</td>\n      <td>...</td>\n      <td>...</td>\n      <td>...</td>\n      <td>...</td>\n      <td>...</td>\n      <td>...</td>\n      <td>...</td>\n    </tr>\n    <tr>\n      <th>475</th>\n      <td>2165526102</td>\n      <td>@SonicFox Thank you for the promotion@SonicFox...</td>\n      <td>INFP</td>\n      <td>0</td>\n      <td>1</td>\n      <td>0</td>\n      <td>0</td>\n      <td>1</td>\n      <td>4</td>\n      <td>[@SonicFox, Thank, you, for, the, promotion@So...</td>\n      <td>[@sonicfox, thank, promotion@sonicfox, @dooble...</td>\n      <td>[powerful, holy, hello, player, youtube, updat...</td>\n    </tr>\n    <tr>\n      <th>476</th>\n      <td>25776263</td>\n      <td>Many have said that what transpired on Wednesd...</td>\n      <td>ENFP</td>\n      <td>1</td>\n      <td>1</td>\n      <td>0</td>\n      <td>0</td>\n      <td>1</td>\n      <td>3</td>\n      <td>[Many, have, said, that, what, transpired, on,...</td>\n      <td>[say, transpire, wednesday, america, wrong, am...</td>\n      <td>[wednesday, late, experience, member, congress...</td>\n    </tr>\n    <tr>\n      <th>477</th>\n      <td>36419649</td>\n      <td>@rsosa8 Some great books!Best call of the year...</td>\n      <td>ENFP</td>\n      <td>1</td>\n      <td>1</td>\n      <td>0</td>\n      <td>0</td>\n      <td>1</td>\n      <td>4</td>\n      <td>[@rsosa8, Some, great, books!Best, call, of, t...</td>\n      <td>[@rsosa8, great, books!best, year, right, http...</td>\n      <td>[fan, join, near, conference, situation, agree...</td>\n    </tr>\n    <tr>\n      <th>478</th>\n      <td>16494284</td>\n      <td>@danprimack @axios A good chunk of fintech see...</td>\n      <td>ENTJ</td>\n      <td>1</td>\n      <td>1</td>\n      <td>1</td>\n      <td>1</td>\n      <td>1</td>\n      <td>4</td>\n      <td>[@danprimack, @axios, A, good, chunk, of, fint...</td>\n      <td>[@danprimack, @axios, good, chunk, fintech, tr...</td>\n      <td>[model, realize, terrible, dog, business, rais...</td>\n    </tr>\n    <tr>\n      <th>479</th>\n      <td>838301000</td>\n      <td>Today is Ted Danson’s birthday.Betsy DeVos has...</td>\n      <td>INTP</td>\n      <td>0</td>\n      <td>1</td>\n      <td>1</td>\n      <td>0</td>\n      <td>1</td>\n      <td>3</td>\n      <td>[Today, is, Ted, Danson, ’s, birthday, Betsy, ...</td>\n      <td>[today, ted, danson, birthday, betsy, devos, j...</td>\n      <td>[ted, student, surprise, amendment, education,...</td>\n    </tr>\n  </tbody>\n</table>\n<p>480 rows × 12 columns</p>\n</div>"
     },
     "execution_count": 525,
     "metadata": {},
     "output_type": "execute_result"
    }
   ],
   "source": [
    "pDF['wald_predictions'] = hierarchicalClusters_full\n",
    "pDF"
   ],
   "metadata": {
    "collapsed": false,
    "pycharm": {
     "name": "#%%\n"
    }
   }
  },
  {
   "cell_type": "markdown",
   "source": [
    "# Gensim\n",
    "\n",
    "To do topic modeling we will also be using data from the [grimmer press releases corpus](ttps://github.com/lintool/GrimmerSenatePressReleases). To use the texts with gensim we need to create a `corpua` object, this takes a few steps. First we create a `Dictionary` that maps tokens to ids."
   ],
   "metadata": {
    "collapsed": false
   }
  },
  {
   "cell_type": "code",
   "execution_count": 526,
   "outputs": [
    {
     "ename": "NameError",
     "evalue": "name 'senReleasesTraining' is not defined",
     "output_type": "error",
     "traceback": [
      "\u001B[1;31m---------------------------------------------------------------------------\u001B[0m",
      "\u001B[1;31mNameError\u001B[0m                                 Traceback (most recent call last)",
      "\u001B[1;32m<ipython-input-526-89b69e14d847>\u001B[0m in \u001B[0;36m<module>\u001B[1;34m\u001B[0m\n\u001B[0;32m      1\u001B[0m \u001B[1;31m#Apply our functions\u001B[0m\u001B[1;33m\u001B[0m\u001B[1;33m\u001B[0m\u001B[1;33m\u001B[0m\u001B[0m\n\u001B[1;32m----> 2\u001B[1;33m \u001B[0msenReleasesTraining\u001B[0m\u001B[1;33m[\u001B[0m\u001B[1;34m'tokenized_text'\u001B[0m\u001B[1;33m]\u001B[0m \u001B[1;33m=\u001B[0m \u001B[0msenReleasesTraining\u001B[0m\u001B[1;33m[\u001B[0m\u001B[1;34m'text'\u001B[0m\u001B[1;33m]\u001B[0m\u001B[1;33m.\u001B[0m\u001B[0mapply\u001B[0m\u001B[1;33m(\u001B[0m\u001B[1;32mlambda\u001B[0m \u001B[0mx\u001B[0m\u001B[1;33m:\u001B[0m \u001B[0mlucem_illud_2020\u001B[0m\u001B[1;33m.\u001B[0m\u001B[0mword_tokenize\u001B[0m\u001B[1;33m(\u001B[0m\u001B[0mx\u001B[0m\u001B[1;33m)\u001B[0m\u001B[1;33m)\u001B[0m\u001B[1;33m\u001B[0m\u001B[1;33m\u001B[0m\u001B[0m\n\u001B[0m\u001B[0;32m      3\u001B[0m \u001B[0msenReleasesTraining\u001B[0m\u001B[1;33m[\u001B[0m\u001B[1;34m'normalized_tokens'\u001B[0m\u001B[1;33m]\u001B[0m \u001B[1;33m=\u001B[0m \u001B[0msenReleasesTraining\u001B[0m\u001B[1;33m[\u001B[0m\u001B[1;34m'tokenized_text'\u001B[0m\u001B[1;33m]\u001B[0m\u001B[1;33m.\u001B[0m\u001B[0mapply\u001B[0m\u001B[1;33m(\u001B[0m\u001B[1;32mlambda\u001B[0m \u001B[0mx\u001B[0m\u001B[1;33m:\u001B[0m \u001B[0mlucem_illud_2020\u001B[0m\u001B[1;33m.\u001B[0m\u001B[0mnormalizeTokens\u001B[0m\u001B[1;33m(\u001B[0m\u001B[0mx\u001B[0m\u001B[1;33m)\u001B[0m\u001B[1;33m)\u001B[0m\u001B[1;33m\u001B[0m\u001B[1;33m\u001B[0m\u001B[0m\n\u001B[0;32m      4\u001B[0m \u001B[1;33m\u001B[0m\u001B[0m\n",
      "\u001B[1;31mNameError\u001B[0m: name 'senReleasesTraining' is not defined"
     ]
    }
   ],
   "source": [
    "#Apply our functions\n",
    "senReleasesTraining['tokenized_text'] = senReleasesTraining['text'].apply(lambda x: lucem_illud_2020.word_tokenize(x))\n",
    "senReleasesTraining['normalized_tokens'] = senReleasesTraining['tokenized_text'].apply(lambda x: lucem_illud_2020.normalizeTokens(x))"
   ],
   "metadata": {
    "collapsed": false,
    "pycharm": {
     "name": "#%%\n"
    }
   }
  },
  {
   "cell_type": "code",
   "execution_count": null,
   "outputs": [],
   "source": [
    "senReleasesTraining[::100]"
   ],
   "metadata": {
    "collapsed": false,
    "pycharm": {
     "name": "#%%\n"
    }
   }
  },
  {
   "cell_type": "code",
   "execution_count": null,
   "outputs": [],
   "source": [
    "def dropMissing(wordLst, vocab):\n",
    "    return [w for w in wordLst if w in vocab]\n",
    "\n",
    "senReleasesTraining['reduced_tokens'] = senReleasesTraining['normalized_tokens'].apply(lambda x: dropMissing(x, senTFVectorizer.vocabulary_.keys()))"
   ],
   "metadata": {
    "collapsed": false,
    "pycharm": {
     "name": "#%%\n"
    }
   }
  },
  {
   "cell_type": "code",
   "execution_count": null,
   "outputs": [],
   "source": [
    "dictionary = gensim.corpora.Dictionary(senReleasesTraining['reduced_tokens'])"
   ],
   "metadata": {
    "collapsed": false,
    "pycharm": {
     "name": "#%%\n"
    }
   }
  },
  {
   "cell_type": "markdown",
   "source": [
    "Then for each of the texts we create a list of tuples containing each token and its count. We will only use the first half of our dataset for now and will save the remainder for testing."
   ],
   "metadata": {
    "collapsed": false
   }
  },
  {
   "cell_type": "code",
   "execution_count": null,
   "outputs": [],
   "source": [
    "corpus = [dictionary.doc2bow(text) for text in senReleasesTraining['reduced_tokens']]"
   ],
   "metadata": {
    "collapsed": false,
    "pycharm": {
     "name": "#%%\n"
    }
   }
  },
  {
   "cell_type": "markdown",
   "source": [
    "Then we serialize the corpus as a file and load it. This is an important step when the corpus is large."
   ],
   "metadata": {
    "collapsed": false
   }
  },
  {
   "cell_type": "code",
   "execution_count": null,
   "outputs": [],
   "source": [
    "gensim.corpora.MmCorpus.serialize('senate.mm', corpus)\n",
    "senmm = gensim.corpora.MmCorpus('senate.mm')"
   ],
   "metadata": {
    "collapsed": false,
    "pycharm": {
     "name": "#%%\n"
    }
   }
  },
  {
   "cell_type": "markdown",
   "source": [
    "Now we have a correctly formatted corpus that we can use for topic modeling and induction."
   ],
   "metadata": {
    "collapsed": false
   }
  },
  {
   "cell_type": "code",
   "execution_count": null,
   "outputs": [],
   "source": [
    "senlda = gensim.models.ldamodel.LdaModel(corpus=senmm, id2word=dictionary, num_topics=10, alpha='auto', eta='auto')"
   ],
   "metadata": {
    "collapsed": false,
    "pycharm": {
     "name": "#%%\n"
    }
   }
  },
  {
   "cell_type": "markdown",
   "source": [
    "We can inspect the degree to which distinct texts load on different topics. Here is one of the texts from the training set:"
   ],
   "metadata": {
    "collapsed": false
   }
  },
  {
   "cell_type": "code",
   "execution_count": null,
   "outputs": [],
   "source": [
    "sen1Bow = dictionary.doc2bow(senReleasesTraining['reduced_tokens'][0])\n",
    "sen1lda = senlda[sen1Bow]\n",
    "print(\"The topics of the text: {}\".format(senReleasesTraining['name'][0]))\n",
    "print(\"are: {}\".format(sen1lda))"
   ],
   "metadata": {
    "collapsed": false,
    "pycharm": {
     "name": "#%%\n"
    }
   }
  },
  {
   "cell_type": "markdown",
   "source": [
    "We can now see which topics our model predicts press releases load on and make this into a `dataFrame` for later analysis."
   ],
   "metadata": {
    "collapsed": false
   }
  },
  {
   "cell_type": "code",
   "execution_count": null,
   "outputs": [],
   "source": [
    "ldaDF = pandas.DataFrame({\n",
    "        'name' : senReleasesTraining['name'],\n",
    "        'topics' : [senlda[dictionary.doc2bow(l)] for l in senReleasesTraining['reduced_tokens']]\n",
    "    })"
   ],
   "metadata": {
    "collapsed": false,
    "pycharm": {
     "name": "#%%\n"
    }
   }
  },
  {
   "cell_type": "markdown",
   "source": [
    "This is a bit unwieldy so lets make each topic its own column:"
   ],
   "metadata": {
    "collapsed": false
   }
  },
  {
   "cell_type": "code",
   "execution_count": null,
   "outputs": [],
   "source": [
    "#Dict to temporally hold the probabilities\n",
    "topicsProbDict = {i : [0] * len(ldaDF) for i in range(senlda.num_topics)}\n",
    "\n",
    "#Load them into the dict\n",
    "for index, topicTuples in enumerate(ldaDF['topics']):\n",
    "    for topicNum, prob in topicTuples:\n",
    "        topicsProbDict[topicNum][index] = prob\n",
    "\n",
    "#Update the DataFrame\n",
    "for topicNum in range(senlda.num_topics):\n",
    "    ldaDF['topic_{}'.format(topicNum)] = topicsProbDict[topicNum]\n",
    "\n",
    "ldaDF[1::100]"
   ],
   "metadata": {
    "collapsed": false,
    "pycharm": {
     "name": "#%%\n"
    }
   }
  },
  {
   "cell_type": "markdown",
   "source": [
    "Now let's visualize this for several (e.g., 10) documents in the corpus. First we'll subset the data:"
   ],
   "metadata": {
    "collapsed": false
   }
  },
  {
   "cell_type": "code",
   "execution_count": null,
   "outputs": [],
   "source": [
    "ldaDFV = ldaDF[:10][['topic_%d' %x for x in range(10)]]\n",
    "ldaDFVisN = ldaDF[:10][['name']]\n",
    "ldaDFVis = ldaDFV.as_matrix(columns=None)\n",
    "ldaDFVisNames = ldaDFVisN.as_matrix(columns=None)\n",
    "ldaDFV"
   ],
   "metadata": {
    "collapsed": false,
    "pycharm": {
     "name": "#%%\n"
    }
   }
  },
  {
   "cell_type": "markdown",
   "source": [
    "First we can visualize as a stacked bar chart:"
   ],
   "metadata": {
    "collapsed": false
   }
  },
  {
   "cell_type": "code",
   "execution_count": null,
   "outputs": [],
   "source": [
    "N = 10\n",
    "ind = np.arange(N)\n",
    "K = senlda.num_topics  # N documents, K topics\n",
    "ind = np.arange(N)  # the x-axis locations for the novels\n",
    "width = 0.5  # the width of the bars\n",
    "plots = []\n",
    "height_cumulative = np.zeros(N)\n",
    "\n",
    "for k in range(K):\n",
    "    color = plt.cm.coolwarm(k/K, 1)\n",
    "    if k == 0:\n",
    "        p = plt.bar(ind, ldaDFVis[:, k], width, color=color)\n",
    "    else:\n",
    "        p = plt.bar(ind, ldaDFVis[:, k], width, bottom=height_cumulative, color=color)\n",
    "    height_cumulative += ldaDFVis[:, k]\n",
    "    plots.append(p)\n",
    "    \n",
    "\n",
    "plt.ylim((0, 1))  # proportions sum to 1, so the height of the stacked bars is 1\n",
    "plt.ylabel('Topics')\n",
    "\n",
    "plt.title('Topics in Press Releases')\n",
    "plt.xticks(ind+width/2, ldaDFVisNames, rotation='vertical')\n",
    "\n",
    "plt.yticks(np.arange(0, 1, 10))\n",
    "topic_labels = ['Topic #{}'.format(k) for k in range(K)]\n",
    "plt.legend([p[0] for p in plots], topic_labels, loc='center left', frameon=True,  bbox_to_anchor = (1, .5))\n",
    "\n",
    "plt.show()"
   ],
   "metadata": {
    "collapsed": false,
    "pycharm": {
     "name": "#%%\n"
    }
   }
  },
  {
   "cell_type": "markdown",
   "source": [
    "We can also visualize as a heat map:"
   ],
   "metadata": {
    "collapsed": false
   }
  },
  {
   "cell_type": "code",
   "execution_count": null,
   "outputs": [],
   "source": [
    "plt.pcolor(ldaDFVis, norm=None, cmap='Blues')\n",
    "plt.yticks(np.arange(ldaDFVis.shape[0])+0.5, ldaDFVisNames);\n",
    "plt.xticks(np.arange(ldaDFVis.shape[1])+0.5, topic_labels);\n",
    "\n",
    "# flip the y-axis so the texts are in the order we anticipate (Austen first, then Brontë)\n",
    "plt.gca().invert_yaxis()\n",
    "\n",
    "# rotate the ticks on the x-axis\n",
    "plt.xticks(rotation=90)\n",
    "\n",
    "# add a legend\n",
    "plt.colorbar(cmap='Blues')\n",
    "plt.tight_layout()  # fixes margins\n",
    "plt.show()"
   ],
   "metadata": {
    "collapsed": false,
    "pycharm": {
     "name": "#%%\n"
    }
   }
  },
  {
   "cell_type": "markdown",
   "source": [
    "We can also look at the top words from each topic to get a sense of the semantic (or syntactic) domain they represent. To look at the terms with the highest LDA weight in topic `1` we can do the following:"
   ],
   "metadata": {
    "collapsed": false
   }
  },
  {
   "cell_type": "code",
   "execution_count": null,
   "outputs": [],
   "source": [
    "senlda.show_topic(1)"
   ],
   "metadata": {
    "collapsed": false,
    "pycharm": {
     "name": "#%%\n"
    }
   }
  },
  {
   "cell_type": "markdown",
   "source": [
    "And if we want to make a dataFrame:"
   ],
   "metadata": {
    "collapsed": false
   }
  },
  {
   "cell_type": "code",
   "execution_count": null,
   "outputs": [],
   "source": [
    "topicsDict = {}\n",
    "for topicNum in range(senlda.num_topics):\n",
    "    topicWords = [w for w, p in senlda.show_topic(topicNum)]\n",
    "    topicsDict['Topic_{}'.format(topicNum)] = topicWords\n",
    "\n",
    "wordRanksDF = pandas.DataFrame(topicsDict)\n",
    "wordRanksDF"
   ],
   "metadata": {
    "collapsed": false,
    "pycharm": {
     "name": "#%%\n"
    }
   }
  },
  {
   "cell_type": "markdown",
   "source": [
    "We can see that several of the topics have the same top words, but there are definitely differences. We can try and make the topics more distinct by changing the $\\alpha$ and $\\eta$ parameters of the model. $\\alpha$ controls the sparsity of document-topic loadings, and $\\eta$ controls the sparsity of topic-word loadings.\n",
    "\n",
    "We can make a visualization of the distribution of words over any single topic."
   ],
   "metadata": {
    "collapsed": false
   }
  },
  {
   "cell_type": "code",
   "execution_count": null,
   "outputs": [],
   "source": [
    "topic1_df = pandas.DataFrame(senlda.show_topic(1, topn=50))\n",
    "plt.figure()\n",
    "topic1_df.plot.bar(legend = False)\n",
    "plt.title('Probability Distribution of Words, Topic 1')\n",
    "plt.show()"
   ],
   "metadata": {
    "collapsed": false,
    "pycharm": {
     "name": "#%%\n"
    }
   }
  },
  {
   "cell_type": "markdown",
   "source": [
    "See how different $\\eta$ values can change the shape of the distribution."
   ],
   "metadata": {
    "collapsed": false
   }
  },
  {
   "cell_type": "code",
   "execution_count": null,
   "outputs": [],
   "source": [
    "senlda1 = gensim.models.ldamodel.LdaModel(corpus=senmm, id2word=dictionary, num_topics=10, eta = 0.00001)\n",
    "senlda2 = gensim.models.ldamodel.LdaModel(corpus=senmm, id2word=dictionary, num_topics=10, eta = 0.9)"
   ],
   "metadata": {
    "collapsed": false,
    "pycharm": {
     "name": "#%%\n"
    }
   }
  },
  {
   "cell_type": "code",
   "execution_count": null,
   "outputs": [],
   "source": [
    "topic11_df = pandas.DataFrame(senlda1.show_topic(1, topn=50))\n",
    "topic21_df = pandas.DataFrame(senlda2.show_topic(1, topn=50))\n",
    "\n",
    "fig, (ax1, ax2) = plt.subplots(1, 2)\n",
    "fig.set_size_inches(18, 7)\n",
    "topic11_df.plot.bar(legend = False, ax = ax1, title = '$\\eta$  = 0.00001')\n",
    "topic21_df.plot.bar(legend = False, ax = ax2, title = '$\\eta$  = 0.9')\n",
    "plt.show()"
   ],
   "metadata": {
    "collapsed": false,
    "pycharm": {
     "name": "#%%\n"
    }
   }
  },
  {
   "cell_type": "markdown",
   "source": [
    "## <span style=\"color:red\">*Exercise 3*</span>\n",
    "\n",
    "<span style=\"color:red\">Construct cells immediately below this that topic model documents related to your anticipated final project. Interrogate and visually plot (e.g., as a bar graph?) the topic-word loadings and the document-topic loadings. What does this topic structure reveal about the distribution of contents across your documents? Systematically vary the $\\alpha$, $\\eta$, and topic number of the model for your text and describe in detail whether and how these changes led to distinctive outcomes, visible to you as analyst.  \n",
    "\n",
    "<span style=\"color:red\">**Stretch**: Cluster your documents, but instead of using words alone, use their topic loadings as an additional set of features. Do these topic loadings increase the apparent semantic coherence of your clusters?</span> \n"
   ],
   "metadata": {
    "collapsed": false
   }
  },
  {
   "cell_type": "markdown",
   "source": [
    "# Discussion\n",
    "\n",
    "- As from the previous section, there seems to be primarily two kinds of documents. One is for political and recent election related tweets. The other captures more 'light hearted' communiocations.\n",
    "- After visualizing the topic word loadings, I saw that many of the topics simply contained nonsense-words or fragments. Many tokens were repeated across the topics, such as 'biden' and 'election'. This means that this dataset was heavily biased towards the recent election drama, perhaps unusually so.\n",
    "- Varying eta changed the sharpness of the distribution , ie the drop in word prob. by rank. It also changed the the maximum word probability. This fact, at the outset, does not yield any particular or interesting feature of the dataset."
   ],
   "metadata": {
    "collapsed": false,
    "pycharm": {
     "name": "#%% md\n"
    }
   }
  },
  {
   "cell_type": "code",
   "execution_count": 570,
   "outputs": [],
   "source": [
    "pDF['tokenized_text'] = pDF['text'].apply(lambda x: lucem_illud_2020.word_tokenize(x))\n",
    "pDF['normalized_tokens'] = pDF['tokenized_text'].apply(lambda x: lucem_illud_2020.normalizeTokens(x))"
   ],
   "metadata": {
    "collapsed": false,
    "pycharm": {
     "name": "#%%\n"
    }
   }
  },
  {
   "cell_type": "code",
   "execution_count": 571,
   "outputs": [
    {
     "data": {
      "text/plain": "               liked_by                                               text  \\\n0              21962602  \"“FOLLOWED BY ALL” ACTION STEPS\" #GinoWickman,...   \n100  891327217610969088  @ChiefSexton Oh wow ok I'm sorry I hate the co...   \n200           126952371                                                ...   \n300           709345926  Our father, who art in heaven, baja be thy bla...   \n400           372598251  Where can I buy a copy of the poem?Stunning  @...   \n\n     type  extravert  intuitive  thinking  judging  kmeans_predictions  \\\n0    ISTJ          0          0         1        1                   0   \n100  ESTJ          1          0         1        1                   0   \n200  ESTJ          1          0         1        1                   0   \n300  INTP          0          1         1        0                   0   \n400  ENTJ          1          1         1        1                   0   \n\n                                        tokenized_text  \\\n0    [FOLLOWED, BY, ALL, ACTION, STEPS, GinoWickman...   \n100  [@ChiefSexton, Oh, wow, ok, I, 'm, sorry, I, h...   \n200  [iamAsadMadani, mondaythoughts, people, https:...   \n300  [Our, father, who, art, in, heaven, baja, be, ...   \n400  [Where, can, I, buy, a, copy, of, the, poem?St...   \n\n                                     normalized_tokens  \n0    [follow, action, step, ginowickman, traction, ...  \n100  [@chiefsexton, oh, wow, okay, be, sorry, hate,...  \n200  [iamasadmadani, mondaythoughts, people, https:...  \n300  [father, art, heaven, baja, thy, blastlol, snu...  \n400  [buy, copy, poem?stunning, @theamandagorman, y...  ",
      "text/html": "<div>\n<style scoped>\n    .dataframe tbody tr th:only-of-type {\n        vertical-align: middle;\n    }\n\n    .dataframe tbody tr th {\n        vertical-align: top;\n    }\n\n    .dataframe thead th {\n        text-align: right;\n    }\n</style>\n<table border=\"1\" class=\"dataframe\">\n  <thead>\n    <tr style=\"text-align: right;\">\n      <th></th>\n      <th>liked_by</th>\n      <th>text</th>\n      <th>type</th>\n      <th>extravert</th>\n      <th>intuitive</th>\n      <th>thinking</th>\n      <th>judging</th>\n      <th>kmeans_predictions</th>\n      <th>tokenized_text</th>\n      <th>normalized_tokens</th>\n    </tr>\n  </thead>\n  <tbody>\n    <tr>\n      <th>0</th>\n      <td>21962602</td>\n      <td>\"“FOLLOWED BY ALL” ACTION STEPS\" #GinoWickman,...</td>\n      <td>ISTJ</td>\n      <td>0</td>\n      <td>0</td>\n      <td>1</td>\n      <td>1</td>\n      <td>0</td>\n      <td>[FOLLOWED, BY, ALL, ACTION, STEPS, GinoWickman...</td>\n      <td>[follow, action, step, ginowickman, traction, ...</td>\n    </tr>\n    <tr>\n      <th>100</th>\n      <td>891327217610969088</td>\n      <td>@ChiefSexton Oh wow ok I'm sorry I hate the co...</td>\n      <td>ESTJ</td>\n      <td>1</td>\n      <td>0</td>\n      <td>1</td>\n      <td>1</td>\n      <td>0</td>\n      <td>[@ChiefSexton, Oh, wow, ok, I, 'm, sorry, I, h...</td>\n      <td>[@chiefsexton, oh, wow, okay, be, sorry, hate,...</td>\n    </tr>\n    <tr>\n      <th>200</th>\n      <td>126952371</td>\n      <td>...</td>\n      <td>ESTJ</td>\n      <td>1</td>\n      <td>0</td>\n      <td>1</td>\n      <td>1</td>\n      <td>0</td>\n      <td>[iamAsadMadani, mondaythoughts, people, https:...</td>\n      <td>[iamasadmadani, mondaythoughts, people, https:...</td>\n    </tr>\n    <tr>\n      <th>300</th>\n      <td>709345926</td>\n      <td>Our father, who art in heaven, baja be thy bla...</td>\n      <td>INTP</td>\n      <td>0</td>\n      <td>1</td>\n      <td>1</td>\n      <td>0</td>\n      <td>0</td>\n      <td>[Our, father, who, art, in, heaven, baja, be, ...</td>\n      <td>[father, art, heaven, baja, thy, blastlol, snu...</td>\n    </tr>\n    <tr>\n      <th>400</th>\n      <td>372598251</td>\n      <td>Where can I buy a copy of the poem?Stunning  @...</td>\n      <td>ENTJ</td>\n      <td>1</td>\n      <td>1</td>\n      <td>1</td>\n      <td>1</td>\n      <td>0</td>\n      <td>[Where, can, I, buy, a, copy, of, the, poem?St...</td>\n      <td>[buy, copy, poem?stunning, @theamandagorman, y...</td>\n    </tr>\n  </tbody>\n</table>\n</div>"
     },
     "execution_count": 571,
     "metadata": {},
     "output_type": "execute_result"
    }
   ],
   "source": [
    "pDF[::100]"
   ],
   "metadata": {
    "collapsed": false,
    "pycharm": {
     "name": "#%%\n"
    }
   }
  },
  {
   "cell_type": "code",
   "execution_count": 572,
   "outputs": [],
   "source": [
    "def dropMissing(wordLst, vocab):\n",
    "    return [w for w in wordLst if w in vocab]\n",
    "\n",
    "pDF['reduced_tokens'] = pDF['normalized_tokens'].apply(lambda x: dropMissing(x, pTFVectorizer.vocabulary_.keys()))"
   ],
   "metadata": {
    "collapsed": false,
    "pycharm": {
     "name": "#%%\n"
    }
   }
  },
  {
   "cell_type": "code",
   "execution_count": 573,
   "outputs": [],
   "source": [
    "dictionary = gensim.corpora.Dictionary(pDF['reduced_tokens'])"
   ],
   "metadata": {
    "collapsed": false,
    "pycharm": {
     "name": "#%%\n"
    }
   }
  },
  {
   "cell_type": "code",
   "execution_count": 574,
   "outputs": [],
   "source": [
    "corpus = [dictionary.doc2bow(text) for text in pDF['reduced_tokens']]"
   ],
   "metadata": {
    "collapsed": false,
    "pycharm": {
     "name": "#%%\n"
    }
   }
  },
  {
   "cell_type": "markdown",
   "source": [
    "Serialization:"
   ],
   "metadata": {
    "collapsed": false
   }
  },
  {
   "cell_type": "code",
   "execution_count": 575,
   "outputs": [],
   "source": [
    "gensim.corpora.MmCorpus.serialize('p.mm', corpus)\n",
    "pmm = gensim.corpora.MmCorpus('p.mm')"
   ],
   "metadata": {
    "collapsed": false,
    "pycharm": {
     "name": "#%%\n"
    }
   }
  },
  {
   "cell_type": "code",
   "execution_count": 576,
   "outputs": [],
   "source": [
    "plda = gensim.models.ldamodel.LdaModel(corpus=pmm, id2word=dictionary, num_topics=10, alpha='auto', eta='auto')"
   ],
   "metadata": {
    "collapsed": false,
    "pycharm": {
     "name": "#%%\n"
    }
   }
  },
  {
   "cell_type": "markdown",
   "source": [
    "Topic loadings for the first document:"
   ],
   "metadata": {
    "collapsed": false
   }
  },
  {
   "cell_type": "code",
   "execution_count": 577,
   "outputs": [
    {
     "name": "stdout",
     "output_type": "stream",
     "text": [
      "The topics of the text: 0\n",
      "are: [(0, 0.5487032), (1, 0.19332029), (5, 0.22690126), (7, 0.02563927)]\n"
     ]
    }
   ],
   "source": [
    "p1Bow = dictionary.doc2bow(pDF['reduced_tokens'][0])\n",
    "p1lda = plda[p1Bow]\n",
    "print(\"The topics of the text: {}\".format(pDF['intuitive'][0]))\n",
    "print(\"are: {}\".format(p1lda))"
   ],
   "metadata": {
    "collapsed": false,
    "pycharm": {
     "name": "#%%\n"
    }
   }
  },
  {
   "cell_type": "markdown",
   "source": [
    "Converting to dataframe."
   ],
   "metadata": {
    "collapsed": false
   }
  },
  {
   "cell_type": "code",
   "execution_count": 578,
   "outputs": [],
   "source": [
    "ldaDF = pandas.DataFrame({\n",
    "        'intuitive' : pDF['intuitive'],\n",
    "        'topics' : [plda[dictionary.doc2bow(l)] for l in pDF['reduced_tokens']]\n",
    "    })"
   ],
   "metadata": {
    "collapsed": false,
    "pycharm": {
     "name": "#%%\n"
    }
   }
  },
  {
   "cell_type": "code",
   "execution_count": 579,
   "outputs": [
    {
     "data": {
      "text/plain": "     intuitive                                             topics   topic_0  \\\n1            0  [(1, 0.018962499), (5, 0.84660435), (7, 0.1039...  0.000000   \n101          0  [(4, 0.014721516), (5, 0.9506872), (7, 0.03081...  0.000000   \n201          0                                  [(8, 0.99749625)]  0.000000   \n301          1  [(0, 0.6420002), (1, 0.08260845), (5, 0.031842...  0.642000   \n401          1  [(0, 0.30246642), (1, 0.53305525), (5, 0.09528...  0.302466   \n\n      topic_1  topic_2  topic_3   topic_4   topic_5  topic_6   topic_7  \\\n1    0.018962      0.0      0.0  0.000000  0.846604      0.0  0.103928   \n101  0.000000      0.0      0.0  0.014722  0.950687      0.0  0.030816   \n201  0.000000      0.0      0.0  0.000000  0.000000      0.0  0.000000   \n301  0.082608      0.0      0.0  0.000000  0.031842      0.0  0.239249   \n401  0.533055      0.0      0.0  0.000000  0.095284      0.0  0.066190   \n\n      topic_8   topic_9  \n1    0.000000  0.028549  \n101  0.000000  0.000000  \n201  0.997496  0.000000  \n301  0.000000  0.000000  \n401  0.000000  0.000000  ",
      "text/html": "<div>\n<style scoped>\n    .dataframe tbody tr th:only-of-type {\n        vertical-align: middle;\n    }\n\n    .dataframe tbody tr th {\n        vertical-align: top;\n    }\n\n    .dataframe thead th {\n        text-align: right;\n    }\n</style>\n<table border=\"1\" class=\"dataframe\">\n  <thead>\n    <tr style=\"text-align: right;\">\n      <th></th>\n      <th>intuitive</th>\n      <th>topics</th>\n      <th>topic_0</th>\n      <th>topic_1</th>\n      <th>topic_2</th>\n      <th>topic_3</th>\n      <th>topic_4</th>\n      <th>topic_5</th>\n      <th>topic_6</th>\n      <th>topic_7</th>\n      <th>topic_8</th>\n      <th>topic_9</th>\n    </tr>\n  </thead>\n  <tbody>\n    <tr>\n      <th>1</th>\n      <td>0</td>\n      <td>[(1, 0.018962499), (5, 0.84660435), (7, 0.1039...</td>\n      <td>0.000000</td>\n      <td>0.018962</td>\n      <td>0.0</td>\n      <td>0.0</td>\n      <td>0.000000</td>\n      <td>0.846604</td>\n      <td>0.0</td>\n      <td>0.103928</td>\n      <td>0.000000</td>\n      <td>0.028549</td>\n    </tr>\n    <tr>\n      <th>101</th>\n      <td>0</td>\n      <td>[(4, 0.014721516), (5, 0.9506872), (7, 0.03081...</td>\n      <td>0.000000</td>\n      <td>0.000000</td>\n      <td>0.0</td>\n      <td>0.0</td>\n      <td>0.014722</td>\n      <td>0.950687</td>\n      <td>0.0</td>\n      <td>0.030816</td>\n      <td>0.000000</td>\n      <td>0.000000</td>\n    </tr>\n    <tr>\n      <th>201</th>\n      <td>0</td>\n      <td>[(8, 0.99749625)]</td>\n      <td>0.000000</td>\n      <td>0.000000</td>\n      <td>0.0</td>\n      <td>0.0</td>\n      <td>0.000000</td>\n      <td>0.000000</td>\n      <td>0.0</td>\n      <td>0.000000</td>\n      <td>0.997496</td>\n      <td>0.000000</td>\n    </tr>\n    <tr>\n      <th>301</th>\n      <td>1</td>\n      <td>[(0, 0.6420002), (1, 0.08260845), (5, 0.031842...</td>\n      <td>0.642000</td>\n      <td>0.082608</td>\n      <td>0.0</td>\n      <td>0.0</td>\n      <td>0.000000</td>\n      <td>0.031842</td>\n      <td>0.0</td>\n      <td>0.239249</td>\n      <td>0.000000</td>\n      <td>0.000000</td>\n    </tr>\n    <tr>\n      <th>401</th>\n      <td>1</td>\n      <td>[(0, 0.30246642), (1, 0.53305525), (5, 0.09528...</td>\n      <td>0.302466</td>\n      <td>0.533055</td>\n      <td>0.0</td>\n      <td>0.0</td>\n      <td>0.000000</td>\n      <td>0.095284</td>\n      <td>0.0</td>\n      <td>0.066190</td>\n      <td>0.000000</td>\n      <td>0.000000</td>\n    </tr>\n  </tbody>\n</table>\n</div>"
     },
     "execution_count": 579,
     "metadata": {},
     "output_type": "execute_result"
    }
   ],
   "source": [
    "#Dict to temporally hold the probabilities\n",
    "topicsProbDict = {i : [0] * len(ldaDF) for i in range(plda.num_topics)}\n",
    "\n",
    "#Load them into the dict\n",
    "for index, topicTuples in enumerate(ldaDF['topics']):\n",
    "    for topicNum, prob in topicTuples:\n",
    "        topicsProbDict[topicNum][index] = prob\n",
    "\n",
    "#Update the DataFrame\n",
    "for topicNum in range(plda.num_topics):\n",
    "    ldaDF['topic_{}'.format(topicNum)] = topicsProbDict[topicNum]\n",
    "\n",
    "ldaDF[1::100]"
   ],
   "metadata": {
    "collapsed": false,
    "pycharm": {
     "name": "#%%\n"
    }
   }
  },
  {
   "cell_type": "markdown",
   "source": [
    "Topic visualizations:"
   ],
   "metadata": {
    "collapsed": false
   }
  },
  {
   "cell_type": "code",
   "execution_count": 580,
   "outputs": [
    {
     "data": {
      "text/plain": "    topic_0   topic_1  topic_2   topic_3  topic_4   topic_5   topic_6  \\\n0  0.606446  0.134887      0.0  0.000000      0.0  0.230915  0.000000   \n1  0.000000  0.018962      0.0  0.000000      0.0  0.846604  0.000000   \n2  0.000000  0.000000      0.0  0.000000      0.0  0.000000  0.000000   \n3  0.555113  0.133728      0.0  0.000000      0.0  0.063727  0.000000   \n4  0.899232  0.095203      0.0  0.000000      0.0  0.000000  0.000000   \n5  0.847017  0.032105      0.0  0.019286      0.0  0.017711  0.000000   \n6  0.099966  0.058334      0.0  0.000000      0.0  0.120362  0.115930   \n7  0.326479  0.216915      0.0  0.000000      0.0  0.226071  0.047978   \n8  0.485230  0.092638      0.0  0.000000      0.0  0.042389  0.000000   \n9  0.191234  0.064927      0.0  0.010278      0.0  0.094477  0.529231   \n\n    topic_7   topic_8   topic_9  \n0  0.021451  0.000000  0.000000  \n1  0.103928  0.000000  0.028549  \n2  0.000000  0.996716  0.000000  \n3  0.232689  0.000000  0.013249  \n4  0.000000  0.000000  0.000000  \n5  0.063196  0.000000  0.017581  \n6  0.601556  0.000000  0.000000  \n7  0.180457  0.000000  0.000000  \n8  0.374448  0.000000  0.000000  \n9  0.107252  0.000000  0.000000  ",
      "text/html": "<div>\n<style scoped>\n    .dataframe tbody tr th:only-of-type {\n        vertical-align: middle;\n    }\n\n    .dataframe tbody tr th {\n        vertical-align: top;\n    }\n\n    .dataframe thead th {\n        text-align: right;\n    }\n</style>\n<table border=\"1\" class=\"dataframe\">\n  <thead>\n    <tr style=\"text-align: right;\">\n      <th></th>\n      <th>topic_0</th>\n      <th>topic_1</th>\n      <th>topic_2</th>\n      <th>topic_3</th>\n      <th>topic_4</th>\n      <th>topic_5</th>\n      <th>topic_6</th>\n      <th>topic_7</th>\n      <th>topic_8</th>\n      <th>topic_9</th>\n    </tr>\n  </thead>\n  <tbody>\n    <tr>\n      <th>0</th>\n      <td>0.606446</td>\n      <td>0.134887</td>\n      <td>0.0</td>\n      <td>0.000000</td>\n      <td>0.0</td>\n      <td>0.230915</td>\n      <td>0.000000</td>\n      <td>0.021451</td>\n      <td>0.000000</td>\n      <td>0.000000</td>\n    </tr>\n    <tr>\n      <th>1</th>\n      <td>0.000000</td>\n      <td>0.018962</td>\n      <td>0.0</td>\n      <td>0.000000</td>\n      <td>0.0</td>\n      <td>0.846604</td>\n      <td>0.000000</td>\n      <td>0.103928</td>\n      <td>0.000000</td>\n      <td>0.028549</td>\n    </tr>\n    <tr>\n      <th>2</th>\n      <td>0.000000</td>\n      <td>0.000000</td>\n      <td>0.0</td>\n      <td>0.000000</td>\n      <td>0.0</td>\n      <td>0.000000</td>\n      <td>0.000000</td>\n      <td>0.000000</td>\n      <td>0.996716</td>\n      <td>0.000000</td>\n    </tr>\n    <tr>\n      <th>3</th>\n      <td>0.555113</td>\n      <td>0.133728</td>\n      <td>0.0</td>\n      <td>0.000000</td>\n      <td>0.0</td>\n      <td>0.063727</td>\n      <td>0.000000</td>\n      <td>0.232689</td>\n      <td>0.000000</td>\n      <td>0.013249</td>\n    </tr>\n    <tr>\n      <th>4</th>\n      <td>0.899232</td>\n      <td>0.095203</td>\n      <td>0.0</td>\n      <td>0.000000</td>\n      <td>0.0</td>\n      <td>0.000000</td>\n      <td>0.000000</td>\n      <td>0.000000</td>\n      <td>0.000000</td>\n      <td>0.000000</td>\n    </tr>\n    <tr>\n      <th>5</th>\n      <td>0.847017</td>\n      <td>0.032105</td>\n      <td>0.0</td>\n      <td>0.019286</td>\n      <td>0.0</td>\n      <td>0.017711</td>\n      <td>0.000000</td>\n      <td>0.063196</td>\n      <td>0.000000</td>\n      <td>0.017581</td>\n    </tr>\n    <tr>\n      <th>6</th>\n      <td>0.099966</td>\n      <td>0.058334</td>\n      <td>0.0</td>\n      <td>0.000000</td>\n      <td>0.0</td>\n      <td>0.120362</td>\n      <td>0.115930</td>\n      <td>0.601556</td>\n      <td>0.000000</td>\n      <td>0.000000</td>\n    </tr>\n    <tr>\n      <th>7</th>\n      <td>0.326479</td>\n      <td>0.216915</td>\n      <td>0.0</td>\n      <td>0.000000</td>\n      <td>0.0</td>\n      <td>0.226071</td>\n      <td>0.047978</td>\n      <td>0.180457</td>\n      <td>0.000000</td>\n      <td>0.000000</td>\n    </tr>\n    <tr>\n      <th>8</th>\n      <td>0.485230</td>\n      <td>0.092638</td>\n      <td>0.0</td>\n      <td>0.000000</td>\n      <td>0.0</td>\n      <td>0.042389</td>\n      <td>0.000000</td>\n      <td>0.374448</td>\n      <td>0.000000</td>\n      <td>0.000000</td>\n    </tr>\n    <tr>\n      <th>9</th>\n      <td>0.191234</td>\n      <td>0.064927</td>\n      <td>0.0</td>\n      <td>0.010278</td>\n      <td>0.0</td>\n      <td>0.094477</td>\n      <td>0.529231</td>\n      <td>0.107252</td>\n      <td>0.000000</td>\n      <td>0.000000</td>\n    </tr>\n  </tbody>\n</table>\n</div>"
     },
     "execution_count": 580,
     "metadata": {},
     "output_type": "execute_result"
    }
   ],
   "source": [
    "ldaDFV = ldaDF[:10][['topic_%d' %x for x in range(10)]]\n",
    "ldaDFVisN = ldaDF[:10][['intuitive']]\n",
    "ldaDFV"
   ],
   "metadata": {
    "collapsed": false,
    "pycharm": {
     "name": "#%%\n"
    }
   }
  },
  {
   "cell_type": "code",
   "execution_count": 581,
   "outputs": [
    {
     "data": {
      "text/plain": "    topic_0   topic_1  topic_2   topic_3  topic_4   topic_5   topic_6  \\\n0  0.606446  0.134887      0.0  0.000000      0.0  0.230915  0.000000   \n1  0.000000  0.018962      0.0  0.000000      0.0  0.846604  0.000000   \n2  0.000000  0.000000      0.0  0.000000      0.0  0.000000  0.000000   \n3  0.555113  0.133728      0.0  0.000000      0.0  0.063727  0.000000   \n4  0.899232  0.095203      0.0  0.000000      0.0  0.000000  0.000000   \n5  0.847017  0.032105      0.0  0.019286      0.0  0.017711  0.000000   \n6  0.099966  0.058334      0.0  0.000000      0.0  0.120362  0.115930   \n7  0.326479  0.216915      0.0  0.000000      0.0  0.226071  0.047978   \n8  0.485230  0.092638      0.0  0.000000      0.0  0.042389  0.000000   \n9  0.191234  0.064927      0.0  0.010278      0.0  0.094477  0.529231   \n\n    topic_7   topic_8   topic_9  \n0  0.021451  0.000000  0.000000  \n1  0.103928  0.000000  0.028549  \n2  0.000000  0.996716  0.000000  \n3  0.232689  0.000000  0.013249  \n4  0.000000  0.000000  0.000000  \n5  0.063196  0.000000  0.017581  \n6  0.601556  0.000000  0.000000  \n7  0.180457  0.000000  0.000000  \n8  0.374448  0.000000  0.000000  \n9  0.107252  0.000000  0.000000  ",
      "text/html": "<div>\n<style scoped>\n    .dataframe tbody tr th:only-of-type {\n        vertical-align: middle;\n    }\n\n    .dataframe tbody tr th {\n        vertical-align: top;\n    }\n\n    .dataframe thead th {\n        text-align: right;\n    }\n</style>\n<table border=\"1\" class=\"dataframe\">\n  <thead>\n    <tr style=\"text-align: right;\">\n      <th></th>\n      <th>topic_0</th>\n      <th>topic_1</th>\n      <th>topic_2</th>\n      <th>topic_3</th>\n      <th>topic_4</th>\n      <th>topic_5</th>\n      <th>topic_6</th>\n      <th>topic_7</th>\n      <th>topic_8</th>\n      <th>topic_9</th>\n    </tr>\n  </thead>\n  <tbody>\n    <tr>\n      <th>0</th>\n      <td>0.606446</td>\n      <td>0.134887</td>\n      <td>0.0</td>\n      <td>0.000000</td>\n      <td>0.0</td>\n      <td>0.230915</td>\n      <td>0.000000</td>\n      <td>0.021451</td>\n      <td>0.000000</td>\n      <td>0.000000</td>\n    </tr>\n    <tr>\n      <th>1</th>\n      <td>0.000000</td>\n      <td>0.018962</td>\n      <td>0.0</td>\n      <td>0.000000</td>\n      <td>0.0</td>\n      <td>0.846604</td>\n      <td>0.000000</td>\n      <td>0.103928</td>\n      <td>0.000000</td>\n      <td>0.028549</td>\n    </tr>\n    <tr>\n      <th>2</th>\n      <td>0.000000</td>\n      <td>0.000000</td>\n      <td>0.0</td>\n      <td>0.000000</td>\n      <td>0.0</td>\n      <td>0.000000</td>\n      <td>0.000000</td>\n      <td>0.000000</td>\n      <td>0.996716</td>\n      <td>0.000000</td>\n    </tr>\n    <tr>\n      <th>3</th>\n      <td>0.555113</td>\n      <td>0.133728</td>\n      <td>0.0</td>\n      <td>0.000000</td>\n      <td>0.0</td>\n      <td>0.063727</td>\n      <td>0.000000</td>\n      <td>0.232689</td>\n      <td>0.000000</td>\n      <td>0.013249</td>\n    </tr>\n    <tr>\n      <th>4</th>\n      <td>0.899232</td>\n      <td>0.095203</td>\n      <td>0.0</td>\n      <td>0.000000</td>\n      <td>0.0</td>\n      <td>0.000000</td>\n      <td>0.000000</td>\n      <td>0.000000</td>\n      <td>0.000000</td>\n      <td>0.000000</td>\n    </tr>\n    <tr>\n      <th>5</th>\n      <td>0.847017</td>\n      <td>0.032105</td>\n      <td>0.0</td>\n      <td>0.019286</td>\n      <td>0.0</td>\n      <td>0.017711</td>\n      <td>0.000000</td>\n      <td>0.063196</td>\n      <td>0.000000</td>\n      <td>0.017581</td>\n    </tr>\n    <tr>\n      <th>6</th>\n      <td>0.099966</td>\n      <td>0.058334</td>\n      <td>0.0</td>\n      <td>0.000000</td>\n      <td>0.0</td>\n      <td>0.120362</td>\n      <td>0.115930</td>\n      <td>0.601556</td>\n      <td>0.000000</td>\n      <td>0.000000</td>\n    </tr>\n    <tr>\n      <th>7</th>\n      <td>0.326479</td>\n      <td>0.216915</td>\n      <td>0.0</td>\n      <td>0.000000</td>\n      <td>0.0</td>\n      <td>0.226071</td>\n      <td>0.047978</td>\n      <td>0.180457</td>\n      <td>0.000000</td>\n      <td>0.000000</td>\n    </tr>\n    <tr>\n      <th>8</th>\n      <td>0.485230</td>\n      <td>0.092638</td>\n      <td>0.0</td>\n      <td>0.000000</td>\n      <td>0.0</td>\n      <td>0.042389</td>\n      <td>0.000000</td>\n      <td>0.374448</td>\n      <td>0.000000</td>\n      <td>0.000000</td>\n    </tr>\n    <tr>\n      <th>9</th>\n      <td>0.191234</td>\n      <td>0.064927</td>\n      <td>0.0</td>\n      <td>0.010278</td>\n      <td>0.0</td>\n      <td>0.094477</td>\n      <td>0.529231</td>\n      <td>0.107252</td>\n      <td>0.000000</td>\n      <td>0.000000</td>\n    </tr>\n  </tbody>\n</table>\n</div>"
     },
     "execution_count": 581,
     "metadata": {},
     "output_type": "execute_result"
    }
   ],
   "source": [
    "ldaDFVis = ldaDFV.to_numpy()\n",
    "ldaDFVisNames = ldaDFVisN.to_numpy()\n",
    "ldaDFV"
   ],
   "metadata": {
    "collapsed": false,
    "pycharm": {
     "name": "#%%\n"
    }
   }
  },
  {
   "cell_type": "markdown",
   "source": [
    "Stacked bar shart:"
   ],
   "metadata": {
    "collapsed": false
   }
  },
  {
   "cell_type": "code",
   "execution_count": 582,
   "outputs": [
    {
     "data": {
      "text/plain": "<Figure size 432x288 with 1 Axes>",
      "image/png": "[encoded data removed]"
     },
     "metadata": {
      "needs_background": "light"
     },
     "output_type": "display_data"
    }
   ],
   "source": [
    "N = 10\n",
    "ind = np.arange(N)\n",
    "K = plda.num_topics  # N documents, K topics\n",
    "ind = np.arange(N)  # the x-axis locations for the novels\n",
    "width = 0.5  # the width of the bars\n",
    "plots = []\n",
    "height_cumulative = np.zeros(N)\n",
    "\n",
    "for k in range(K):\n",
    "    color = plt.cm.coolwarm(k/K, 1)\n",
    "    if k == 0:\n",
    "        p = plt.bar(ind, ldaDFVis[:, k], width, color=color)\n",
    "    else:\n",
    "        p = plt.bar(ind, ldaDFVis[:, k], width, bottom=height_cumulative, color=color)\n",
    "    height_cumulative += ldaDFVis[:, k]\n",
    "    plots.append(p)\n",
    "\n",
    "\n",
    "plt.ylim((0, 1))  # proportions sum to 1, so the height of the stacked bars is 1\n",
    "plt.ylabel('Topics')\n",
    "\n",
    "plt.title('Topics in Press Releases')\n",
    "plt.xticks(ind+width/2, ldaDFVisNames, rotation='vertical')\n",
    "\n",
    "plt.yticks(np.arange(0, 1, 10))\n",
    "topic_labels = ['Topic #{}'.format(k) for k in range(K)]\n",
    "plt.legend([p[0] for p in plots], topic_labels, loc='center left', frameon=True,  bbox_to_anchor = (1, .5))\n",
    "\n",
    "plt.show()"
   ],
   "metadata": {
    "collapsed": false,
    "pycharm": {
     "name": "#%%\n"
    }
   }
  },
  {
   "cell_type": "markdown",
   "source": [
    "Heat map:"
   ],
   "metadata": {
    "collapsed": false
   }
  },
  {
   "cell_type": "code",
   "execution_count": 583,
   "outputs": [
    {
     "name": "stderr",
     "output_type": "stream",
     "text": [
      "<ipython-input-583-bc344602b761>:12: MatplotlibDeprecationWarning: The 'cmap' parameter to Colorbar has no effect because it is overridden by the mappable; it is deprecated since 3.3 and will be removed two minor releases later.\n",
      "  plt.colorbar(cmap='Blues')\n"
     ]
    },
    {
     "data": {
      "text/plain": "<Figure size 432x288 with 2 Axes>",
      "image/png": "[encoded data removed]"
     },
     "metadata": {
      "needs_background": "light"
     },
     "output_type": "display_data"
    }
   ],
   "source": [
    "plt.pcolor(ldaDFVis, norm=None, cmap='Blues')\n",
    "plt.yticks(np.arange(ldaDFVis.shape[0])+0.5, ldaDFVisNames);\n",
    "plt.xticks(np.arange(ldaDFVis.shape[1])+0.5, topic_labels);\n",
    "\n",
    "# flip the y-axis so the texts are in the order we anticipate (Austen first, then Brontë)\n",
    "plt.gca().invert_yaxis()\n",
    "\n",
    "# rotate the ticks on the x-axis\n",
    "plt.xticks(rotation=90)\n",
    "\n",
    "# add a legend\n",
    "plt.colorbar(cmap='Blues')\n",
    "plt.tight_layout()  # fixes margins\n",
    "plt.show()"
   ],
   "metadata": {
    "collapsed": false,
    "pycharm": {
     "name": "#%%\n"
    }
   }
  },
  {
   "cell_type": "markdown",
   "source": [
    "Top words from a topic. This one was not very helpful as most of the words were uninterpretable."
   ],
   "metadata": {
    "collapsed": false
   }
  },
  {
   "cell_type": "code",
   "execution_count": 603,
   "outputs": [
    {
     "data": {
      "text/plain": "[('na', 0.012250101),\n ('sa', 0.01011583),\n ('ng', 0.009202962),\n ('biden', 0.0071931877),\n ('ang', 0.0066627553),\n ('yang', 0.0061196443),\n ('di', 0.004983133),\n ('student', 0.0049644224),\n ('late', 0.004881795),\n ('ko', 0.0045294203)]"
     },
     "execution_count": 603,
     "metadata": {},
     "output_type": "execute_result"
    }
   ],
   "source": [
    "plda.show_topic(2)"
   ],
   "metadata": {
    "collapsed": false,
    "pycharm": {
     "name": "#%%\n"
    }
   }
  },
  {
   "cell_type": "code",
   "execution_count": 585,
   "outputs": [
    {
     "data": {
      "text/plain": "     Topic_0    Topic_1  Topic_2 Topic_3 Topic_4    Topic_5 Topic_6  Topic_7  \\\n0      write    partner       na      na     que       vote      la       na   \n1       vote        kid       sa     nie      la    capitol      le  capitol   \n2       hour  christmas       ng      si    vote   election     les     vote   \n3       late      biden    biden   biden      et      write      et    write   \n4      build    capitol      ang    vote      en       lose    lose     lose   \n5  christmas    student     yang   write     dan  christmas      en      art   \n6        kid       join       di   build      di      biden   write     join   \n7       okay   election  student    lose    lose       hour    late     hold   \n8       turn       hour     late    wear    hour       send    hour      kid   \n9       lose       vote       ko     kid   biden       join  stream     okay   \n\n  Topic_8  Topic_9  \n0      di       di  \n1    yang    biden  \n2     que       na  \n3     dan     vote  \n4      na  capitol  \n5      la     send  \n6     ini    write  \n7      eu       la  \n8      yg     join  \n9     ada  student  ",
      "text/html": "<div>\n<style scoped>\n    .dataframe tbody tr th:only-of-type {\n        vertical-align: middle;\n    }\n\n    .dataframe tbody tr th {\n        vertical-align: top;\n    }\n\n    .dataframe thead th {\n        text-align: right;\n    }\n</style>\n<table border=\"1\" class=\"dataframe\">\n  <thead>\n    <tr style=\"text-align: right;\">\n      <th></th>\n      <th>Topic_0</th>\n      <th>Topic_1</th>\n      <th>Topic_2</th>\n      <th>Topic_3</th>\n      <th>Topic_4</th>\n      <th>Topic_5</th>\n      <th>Topic_6</th>\n      <th>Topic_7</th>\n      <th>Topic_8</th>\n      <th>Topic_9</th>\n    </tr>\n  </thead>\n  <tbody>\n    <tr>\n      <th>0</th>\n      <td>write</td>\n      <td>partner</td>\n      <td>na</td>\n      <td>na</td>\n      <td>que</td>\n      <td>vote</td>\n      <td>la</td>\n      <td>na</td>\n      <td>di</td>\n      <td>di</td>\n    </tr>\n    <tr>\n      <th>1</th>\n      <td>vote</td>\n      <td>kid</td>\n      <td>sa</td>\n      <td>nie</td>\n      <td>la</td>\n      <td>capitol</td>\n      <td>le</td>\n      <td>capitol</td>\n      <td>yang</td>\n      <td>biden</td>\n    </tr>\n    <tr>\n      <th>2</th>\n      <td>hour</td>\n      <td>christmas</td>\n      <td>ng</td>\n      <td>si</td>\n      <td>vote</td>\n      <td>election</td>\n      <td>les</td>\n      <td>vote</td>\n      <td>que</td>\n      <td>na</td>\n    </tr>\n    <tr>\n      <th>3</th>\n      <td>late</td>\n      <td>biden</td>\n      <td>biden</td>\n      <td>biden</td>\n      <td>et</td>\n      <td>write</td>\n      <td>et</td>\n      <td>write</td>\n      <td>dan</td>\n      <td>vote</td>\n    </tr>\n    <tr>\n      <th>4</th>\n      <td>build</td>\n      <td>capitol</td>\n      <td>ang</td>\n      <td>vote</td>\n      <td>en</td>\n      <td>lose</td>\n      <td>lose</td>\n      <td>lose</td>\n      <td>na</td>\n      <td>capitol</td>\n    </tr>\n    <tr>\n      <th>5</th>\n      <td>christmas</td>\n      <td>student</td>\n      <td>yang</td>\n      <td>write</td>\n      <td>dan</td>\n      <td>christmas</td>\n      <td>en</td>\n      <td>art</td>\n      <td>la</td>\n      <td>send</td>\n    </tr>\n    <tr>\n      <th>6</th>\n      <td>kid</td>\n      <td>join</td>\n      <td>di</td>\n      <td>build</td>\n      <td>di</td>\n      <td>biden</td>\n      <td>write</td>\n      <td>join</td>\n      <td>ini</td>\n      <td>write</td>\n    </tr>\n    <tr>\n      <th>7</th>\n      <td>okay</td>\n      <td>election</td>\n      <td>student</td>\n      <td>lose</td>\n      <td>lose</td>\n      <td>hour</td>\n      <td>late</td>\n      <td>hold</td>\n      <td>eu</td>\n      <td>la</td>\n    </tr>\n    <tr>\n      <th>8</th>\n      <td>turn</td>\n      <td>hour</td>\n      <td>late</td>\n      <td>wear</td>\n      <td>hour</td>\n      <td>send</td>\n      <td>hour</td>\n      <td>kid</td>\n      <td>yg</td>\n      <td>join</td>\n    </tr>\n    <tr>\n      <th>9</th>\n      <td>lose</td>\n      <td>vote</td>\n      <td>ko</td>\n      <td>kid</td>\n      <td>biden</td>\n      <td>join</td>\n      <td>stream</td>\n      <td>okay</td>\n      <td>ada</td>\n      <td>student</td>\n    </tr>\n  </tbody>\n</table>\n</div>"
     },
     "execution_count": 585,
     "metadata": {},
     "output_type": "execute_result"
    }
   ],
   "source": [
    "topicsDict = {}\n",
    "for topicNum in range(plda.num_topics):\n",
    "    topicWords = [w for w, p in plda.show_topic(topicNum)]\n",
    "    topicsDict['Topic_{}'.format(topicNum)] = topicWords\n",
    "\n",
    "wordRanksDF = pandas.DataFrame(topicsDict)\n",
    "wordRanksDF"
   ],
   "metadata": {
    "collapsed": false,
    "pycharm": {
     "name": "#%%\n"
    }
   }
  },
  {
   "cell_type": "markdown",
   "source": [
    "We vary $\\eta$ values to understand how the distribution changes:"
   ],
   "metadata": {
    "collapsed": false
   }
  },
  {
   "cell_type": "code",
   "execution_count": 586,
   "outputs": [
    {
     "data": {
      "text/plain": "<Figure size 432x288 with 0 Axes>"
     },
     "metadata": {},
     "output_type": "display_data"
    },
    {
     "data": {
      "text/plain": "<Figure size 432x288 with 1 Axes>",
      "image/png": "[encoded data removed]"
     },
     "metadata": {
      "needs_background": "light"
     },
     "output_type": "display_data"
    }
   ],
   "source": [
    "topic1_df = pandas.DataFrame(plda.show_topic(1, topn=50))\n",
    "plt.figure()\n",
    "topic1_df.plot.bar(legend = False)\n",
    "plt.title('Probability Distribution of Words, Topic 1')\n",
    "plt.show()"
   ],
   "metadata": {
    "collapsed": false,
    "pycharm": {
     "name": "#%%\n"
    }
   }
  },
  {
   "cell_type": "markdown",
   "source": [
    "See how different $\\eta$ values can change the shape of the distribution.\n",
    "\n",
    "eta = 0.00001\n",
    "eta  = 0.9"
   ],
   "metadata": {
    "collapsed": false
   }
  },
  {
   "cell_type": "code",
   "execution_count": 604,
   "outputs": [],
   "source": [
    "plda1 = gensim.models.ldamodel.LdaModel(corpus=senmm, id2word=dictionary, num_topics=10, eta = 0.00001)\n",
    "plda2 = gensim.models.ldamodel.LdaModel(corpus=senmm, id2word=dictionary, num_topics=10, eta = 0.9)"
   ],
   "metadata": {
    "collapsed": false,
    "pycharm": {
     "name": "#%%\n"
    }
   }
  },
  {
   "cell_type": "code",
   "execution_count": 605,
   "outputs": [
    {
     "data": {
      "text/plain": "<Figure size 1296x504 with 2 Axes>",
      "image/png": "[encoded data removed]"
     },
     "metadata": {
      "needs_background": "light"
     },
     "output_type": "display_data"
    }
   ],
   "source": [
    "topic11_df = pandas.DataFrame(plda1.show_topic(1, topn=50))\n",
    "topic21_df = pandas.DataFrame(plda2.show_topic(1, topn=50))\n",
    "\n",
    "fig, (ax1, ax2) = plt.subplots(1, 2)\n",
    "fig.set_size_inches(18, 7)\n",
    "topic11_df.plot.bar(legend = False, ax = ax1, title = '$\\eta$  = 0.00001')\n",
    "topic21_df.plot.bar(legend = False, ax = ax2, title = '$\\eta$  = 0.9')\n",
    "plt.show()\n"
   ],
   "metadata": {
    "collapsed": false,
    "pycharm": {
     "name": "#%%\n"
    }
   }
  },
  {
   "cell_type": "markdown",
   "source": [
    "eta = 0.0001\n",
    "eta = 0.6"
   ],
   "metadata": {
    "collapsed": false
   }
  },
  {
   "cell_type": "code",
   "execution_count": 606,
   "outputs": [],
   "source": [
    "plda1 = gensim.models.ldamodel.LdaModel(corpus=senmm, id2word=dictionary, num_topics=10, eta = 0.0001)\n",
    "plda2 = gensim.models.ldamodel.LdaModel(corpus=senmm, id2word=dictionary, num_topics=10, eta = 0.6)"
   ],
   "metadata": {
    "collapsed": false,
    "pycharm": {
     "name": "#%%\n"
    }
   }
  },
  {
   "cell_type": "code",
   "execution_count": 607,
   "outputs": [
    {
     "data": {
      "text/plain": "<Figure size 1296x504 with 2 Axes>",
      "image/png": "[encoded data removed]"
     },
     "metadata": {
      "needs_background": "light"
     },
     "output_type": "display_data"
    }
   ],
   "source": [
    "topic11_df = pandas.DataFrame(plda1.show_topic(1, topn=50))\n",
    "topic21_df = pandas.DataFrame(plda2.show_topic(1, topn=50))\n",
    "\n",
    "fig, (ax1, ax2) = plt.subplots(1, 2)\n",
    "fig.set_size_inches(18, 7)\n",
    "topic11_df.plot.bar(legend = False, ax = ax1, title = '$\\eta$  = 0.00001')\n",
    "topic21_df.plot.bar(legend = False, ax = ax2, title = '$\\eta$  = 0.9')\n",
    "plt.show()"
   ],
   "metadata": {
    "collapsed": false,
    "pycharm": {
     "name": "#%%\n"
    }
   }
  },
  {
   "cell_type": "markdown",
   "source": [
    "\n",
    "eta = 0.0001\n",
    "eta = 0.3"
   ],
   "metadata": {
    "collapsed": false
   }
  },
  {
   "cell_type": "code",
   "execution_count": 608,
   "outputs": [],
   "source": [
    "\n",
    "plda1 = gensim.models.ldamodel.LdaModel(corpus=senmm, id2word=dictionary, num_topics=10, eta = 0.0001)\n",
    "plda2 = gensim.models.ldamodel.LdaModel(corpus=senmm, id2word=dictionary, num_topics=10, eta = 0.3)"
   ],
   "metadata": {
    "collapsed": false,
    "pycharm": {
     "name": "#%%\n"
    }
   }
  },
  {
   "cell_type": "code",
   "execution_count": 609,
   "outputs": [
    {
     "data": {
      "text/plain": "<Figure size 1296x504 with 2 Axes>",
      "image/png": "[encoded data removed]"
     },
     "metadata": {
      "needs_background": "light"
     },
     "output_type": "display_data"
    }
   ],
   "source": [
    "topic11_df = pandas.DataFrame(plda1.show_topic(1, topn=50))\n",
    "topic21_df = pandas.DataFrame(plda2.show_topic(1, topn=50))\n",
    "\n",
    "fig, (ax1, ax2) = plt.subplots(1, 2)\n",
    "fig.set_size_inches(18, 7)\n",
    "topic11_df.plot.bar(legend = False, ax = ax1, title = '$\\eta$  = 0.00001')\n",
    "topic21_df.plot.bar(legend = False, ax = ax2, title = '$\\eta$  = 0.9')\n",
    "plt.show()\n"
   ],
   "metadata": {
    "collapsed": false,
    "pycharm": {
     "name": "#%%\n"
    }
   }
  },
  {
   "cell_type": "markdown",
   "source": [
    "## Extending Topic Models within broader research pipelines\n",
    "\n",
    "Topic models can be the base of more complex analysis. One good example is the paper - Individuals, institutions, and innovation in the debates of the French Revolution (https://www.pnas.org/content/115/18/4607), where they use topic models to find similarities and differences between the topics of different individuals. Let us revisit this idea using the Soap opera database. Who innovates and influences the most within the Soap?\n",
    "\n",
    "The next few lines of code follows the same process as last weeks notebook. Please visit the old notebook to read descriptions of the code if you have forgotten what it does."
   ],
   "metadata": {
    "collapsed": false
   }
  },
  {
   "cell_type": "code",
   "execution_count": null,
   "outputs": [],
   "source": [
    "corpora_address = \"/Users/bhargavvader/Downloads/Academics_Tech/corpora/SOAP\""
   ],
   "metadata": {
    "collapsed": false,
    "pycharm": {
     "name": "#%%\n"
    }
   }
  },
  {
   "cell_type": "code",
   "execution_count": null,
   "outputs": [],
   "source": [
    "soap_texts = lucem_illud_2020.loadDavies(corpora_address, num_files=2000)"
   ],
   "metadata": {
    "collapsed": false,
    "pycharm": {
     "name": "#%%\n"
    }
   }
  },
  {
   "cell_type": "code",
   "execution_count": null,
   "outputs": [],
   "source": [
    "import zipfile\n",
    "import pandas as pd"
   ],
   "metadata": {
    "collapsed": false,
    "pycharm": {
     "name": "#%%\n"
    }
   }
  },
  {
   "cell_type": "code",
   "execution_count": null,
   "outputs": [],
   "source": [
    "zfile = zipfile.ZipFile(corpora_address + \"/soap_sources.zip\")\n",
    "source = []"
   ],
   "metadata": {
    "collapsed": false,
    "pycharm": {
     "name": "#%%\n"
    }
   }
  },
  {
   "cell_type": "code",
   "execution_count": null,
   "outputs": [],
   "source": [
    "for file in zfile.namelist():\n",
    "    with zfile.open(file) as f:\n",
    "        for line in f:\n",
    "            source.append(line)"
   ],
   "metadata": {
    "collapsed": false,
    "pycharm": {
     "name": "#%%\n"
    }
   }
  },
  {
   "cell_type": "code",
   "execution_count": null,
   "outputs": [],
   "source": [
    "soap_dict = {}"
   ],
   "metadata": {
    "collapsed": false,
    "pycharm": {
     "name": "#%%\n"
    }
   }
  },
  {
   "cell_type": "code",
   "execution_count": null,
   "outputs": [],
   "source": [
    "for soap in source[3:]:\n",
    "    try:\n",
    "        textID, year, show, url = soap.decode(\"utf-8\").split(\"\\t\")\n",
    "    except UnicodeDecodeError:\n",
    "        continue\n",
    "    if show.strip() not in soap_dict:\n",
    "        soap_dict[show.strip()] = []\n",
    "    if show.strip() in soap_dict:\n",
    "        try:\n",
    "            soap_dict[show.strip()].append(soap_texts[textID.strip()])\n",
    "        except KeyError:\n",
    "            continue"
   ],
   "metadata": {
    "collapsed": false,
    "pycharm": {
     "name": "#%%\n"
    }
   }
  },
  {
   "cell_type": "code",
   "execution_count": null,
   "outputs": [],
   "source": [
    "soap_dict.keys()"
   ],
   "metadata": {
    "collapsed": false,
    "pycharm": {
     "name": "#%%\n"
    }
   }
  },
  {
   "cell_type": "code",
   "execution_count": null,
   "outputs": [],
   "source": [
    "soap_df = pd.DataFrame(columns=[\"Soap Name\", \"Tokenized Texts\"])"
   ],
   "metadata": {
    "collapsed": false,
    "pycharm": {
     "name": "#%%\n"
    }
   }
  },
  {
   "cell_type": "code",
   "execution_count": null,
   "outputs": [],
   "source": [
    "i = 0"
   ],
   "metadata": {
    "collapsed": false,
    "pycharm": {
     "name": "#%%\n"
    }
   }
  },
  {
   "cell_type": "code",
   "execution_count": null,
   "outputs": [],
   "source": [
    "for soap in soap_dict:\n",
    "    # since there were multiple lists\n",
    "    print(soap)\n",
    "    full_script = []\n",
    "    for part in soap_dict[soap]:\n",
    "        full_script = full_script + part\n",
    "    soap_df.loc[i] = [soap, full_script]\n",
    "    i += 1"
   ],
   "metadata": {
    "collapsed": false,
    "pycharm": {
     "name": "#%%\n"
    }
   }
  },
  {
   "cell_type": "code",
   "execution_count": null,
   "outputs": [],
   "source": [
    "soap_df"
   ],
   "metadata": {
    "collapsed": false,
    "pycharm": {
     "name": "#%%\n"
    }
   }
  },
  {
   "cell_type": "markdown",
   "source": [
    "Checking to see which index I should use. In my example it is the last one, so I choose my index as 9. It might be different for you!"
   ],
   "metadata": {
    "collapsed": false
   }
  },
  {
   "cell_type": "code",
   "execution_count": null,
   "outputs": [],
   "source": [
    "dool = soap_df['Tokenized Texts'][9]"
   ],
   "metadata": {
    "collapsed": false,
    "pycharm": {
     "name": "#%%\n"
    }
   }
  },
  {
   "cell_type": "code",
   "execution_count": null,
   "outputs": [],
   "source": [
    "' '.join(dool[0:1500])"
   ],
   "metadata": {
    "collapsed": false,
    "pycharm": {
     "name": "#%%\n"
    }
   }
  },
  {
   "cell_type": "code",
   "execution_count": null,
   "outputs": [],
   "source": [
    "characters = {}\n",
    "for token in dool:\n",
    "    if token[0] == '@':\n",
    "        # all characters or actions start with @, so we add that to character\n",
    "        if token[2:] not in characters:\n",
    "            characters[token[2:]] = 0\n",
    "        if token[2:] in characters:\n",
    "            characters[token[2:]] += 1"
   ],
   "metadata": {
    "collapsed": false,
    "pycharm": {
     "name": "#%%\n"
    }
   }
  },
  {
   "cell_type": "code",
   "execution_count": null,
   "outputs": [],
   "source": [
    "import networkx as nx"
   ],
   "metadata": {
    "collapsed": false,
    "pycharm": {
     "name": "#%%\n"
    }
   }
  },
  {
   "cell_type": "code",
   "execution_count": null,
   "outputs": [],
   "source": [
    "actor_network = nx.Graph()"
   ],
   "metadata": {
    "collapsed": false,
    "pycharm": {
     "name": "#%%\n"
    }
   }
  },
  {
   "cell_type": "code",
   "execution_count": null,
   "outputs": [],
   "source": [
    "for character in characters:\n",
    "    if characters[character] > 2000:\n",
    "        actor_network.add_node(character, lines_spoken= characters[character], words=[])"
   ],
   "metadata": {
    "collapsed": false,
    "pycharm": {
     "name": "#%%\n"
    }
   }
  },
  {
   "cell_type": "code",
   "execution_count": null,
   "outputs": [],
   "source": [
    "i = 0"
   ],
   "metadata": {
    "collapsed": false,
    "pycharm": {
     "name": "#%%\n"
    }
   }
  },
  {
   "cell_type": "code",
   "execution_count": null,
   "outputs": [],
   "source": [
    "all_texts = []"
   ],
   "metadata": {
    "collapsed": false,
    "pycharm": {
     "name": "#%%\n"
    }
   }
  },
  {
   "cell_type": "code",
   "execution_count": null,
   "outputs": [],
   "source": [
    "for token in dool:\n",
    "    i += 1\n",
    "    if i > len(dool):\n",
    "        break\n",
    "    if token[0] == \"@\":\n",
    "        if token[2:] in actor_network.nodes():\n",
    "            j = i\n",
    "            for token_ in dool[i:]:\n",
    "                if token_[0] == \"@\":\n",
    "                    # if both the characters exist in the graph, add a weight\n",
    "                    if token_[2:] != token[2:] and token_[2:] in actor_network.nodes():\n",
    "                        if (token[2:], token_[2:]) not in actor_network.edges():\n",
    "                            actor_network.add_edge(token[2:], token_[2:], weight=0)\n",
    "                        if (token[2:], token_[2:]) in actor_network.edges():\n",
    "                            actor_network.edges[(token[2:], token_[2:])]['weight'] += 1\n",
    "                    break\n",
    "                j += 1\n",
    "            # adding characters sentences\n",
    "            actor_network.nodes[token[2:]]['words'].append(dool[i:j])\n",
    "            all_texts.append(lucem_illud_2020.normalizeTokens(dool[i:j]))"
   ],
   "metadata": {
    "collapsed": false,
    "pycharm": {
     "name": "#%%\n"
    }
   }
  },
  {
   "cell_type": "code",
   "execution_count": null,
   "outputs": [],
   "source": [
    "nx.draw(actor_network, with_labels=True, font_weight='bold')"
   ],
   "metadata": {
    "collapsed": false,
    "pycharm": {
     "name": "#%%\n"
    }
   }
  },
  {
   "cell_type": "markdown",
   "source": [
    "Ok - so we have our graph now. Let us create a topic model with all the texts spoken by the characters, see what's being spoken about, and construct topic distributions for each character. What does our all_texts corpus look like?"
   ],
   "metadata": {
    "collapsed": false
   }
  },
  {
   "cell_type": "code",
   "execution_count": null,
   "outputs": [],
   "source": [
    "all_texts[0:10]"
   ],
   "metadata": {
    "collapsed": false,
    "pycharm": {
     "name": "#%%\n"
    }
   }
  },
  {
   "cell_type": "code",
   "execution_count": null,
   "outputs": [],
   "source": [
    "dictionary = gensim.corpora.Dictionary(all_texts)"
   ],
   "metadata": {
    "collapsed": false,
    "pycharm": {
     "name": "#%%\n"
    }
   }
  },
  {
   "cell_type": "code",
   "execution_count": null,
   "outputs": [],
   "source": [
    "corpus = [dictionary.doc2bow(text) for text in all_texts]"
   ],
   "metadata": {
    "collapsed": false,
    "pycharm": {
     "name": "#%%\n"
    }
   }
  },
  {
   "cell_type": "code",
   "execution_count": null,
   "outputs": [],
   "source": [
    "gensim.corpora.MmCorpus.serialize('dool.mm', corpus)\n",
    "doolcorpus = gensim.corpora.MmCorpus('dool.mm')"
   ],
   "metadata": {
    "collapsed": false,
    "pycharm": {
     "name": "#%%\n"
    }
   }
  },
  {
   "cell_type": "code",
   "execution_count": null,
   "outputs": [],
   "source": [
    "doollda = gensim.models.ldamodel.LdaModel(corpus=doolcorpus, id2word=dictionary, num_topics=10, alpha='auto', eta='auto')"
   ],
   "metadata": {
    "collapsed": false,
    "pycharm": {
     "name": "#%%\n"
    }
   }
  },
  {
   "cell_type": "code",
   "execution_count": null,
   "outputs": [],
   "source": [
    "doollda.show_topics()"
   ],
   "metadata": {
    "collapsed": false,
    "pycharm": {
     "name": "#%%\n"
    }
   }
  },
  {
   "cell_type": "markdown",
   "source": [
    "Are your topics interpretable/interesting? Sometimes they require a good deal of fine tuning and parameter choosing to get it to work in a nice way. Check out the gensim ldamodel documentation page and see what parameters you can play around with and try the model again!"
   ],
   "metadata": {
    "collapsed": false
   }
  },
  {
   "cell_type": "code",
   "execution_count": null,
   "outputs": [],
   "source": [
    "for actor in actor_network.nodes():\n",
    "    actor_all_words = []\n",
    "    for sent in actor_network.nodes[actor]['words']:\n",
    "        for word in sent:\n",
    "            actor_all_words += word\n",
    "    actor_network.nodes[actor]['topic_distribution'] = doollda[dictionary.doc2bow(lucem_illud_2020.normalizeTokens(actor_all_words))]"
   ],
   "metadata": {
    "collapsed": false,
    "pycharm": {
     "name": "#%%\n"
    }
   }
  },
  {
   "cell_type": "markdown",
   "source": [
    "We now have topic distributions for each character. Let us have a brief look at what the characters are talking about. "
   ],
   "metadata": {
    "collapsed": false
   }
  },
  {
   "cell_type": "code",
   "execution_count": null,
   "outputs": [],
   "source": [
    "for actor in actor_network.nodes():\n",
    "    print(actor, actor_network.nodes[actor]['topic_distribution'])"
   ],
   "metadata": {
    "collapsed": false,
    "pycharm": {
     "name": "#%%\n"
    }
   }
  },
  {
   "cell_type": "markdown",
   "source": [
    "Quickly eye-balling these distributions suggest that the model itself could be tuned better - all the topics are loaded more or less equally. \n",
    "\n",
    "In the paper I linked to earlier, they found similarities or differences using the KL divergence - this is a topic we've dealt with before. Let us plot a heatmap with these values."
   ],
   "metadata": {
    "collapsed": false
   }
  },
  {
   "cell_type": "code",
   "execution_count": null,
   "outputs": [],
   "source": [
    "from gensim.matutils import kullback_leibler"
   ],
   "metadata": {
    "collapsed": false,
    "pycharm": {
     "name": "#%%\n"
    }
   }
  },
  {
   "cell_type": "code",
   "execution_count": null,
   "outputs": [],
   "source": [
    "def convert_to_prob(bow):\n",
    "    ps = []\n",
    "    for topic_no, topic_prob in bow:\n",
    "        ps.append(topic_prob)\n",
    "    return ps"
   ],
   "metadata": {
    "collapsed": false,
    "pycharm": {
     "name": "#%%\n"
    }
   }
  },
  {
   "cell_type": "code",
   "execution_count": null,
   "outputs": [],
   "source": [
    "L = []\n",
    "for actor_1 in actor_network.nodes():\n",
    "    p = actor_network.nodes[actor_1]['topic_distribution'] \n",
    "    p = convert_to_prob(p)\n",
    "    l = []\n",
    "    for actor_2 in actor_network.nodes():\n",
    "        q = actor_network.nodes[actor_2]['topic_distribution'] \n",
    "        q = convert_to_prob(q)\n",
    "        l.append(kullback_leibler(p, q))\n",
    "    L.append(l)\n",
    "M = np.array(L)"
   ],
   "metadata": {
    "collapsed": false,
    "pycharm": {
     "name": "#%%\n"
    }
   }
  },
  {
   "cell_type": "code",
   "execution_count": null,
   "outputs": [],
   "source": [
    "fig = plt.figure()\n",
    "div = pandas.DataFrame(M, columns = list(actor_network.nodes()), index = list(actor_network.nodes()))\n",
    "ax = sns.heatmap(div)\n",
    "plt.show()"
   ],
   "metadata": {
    "collapsed": false,
    "pycharm": {
     "name": "#%%\n"
    }
   }
  },
  {
   "cell_type": "markdown",
   "source": [
    "This is one example of how we can use topic models to analyse a network - what other data exploration can you come up with?  Maybe see what are the themes surrounding the top topics for each of the actors? You now have the infrastructure to explore the network and the topics. Gensim has a great set of Jupyter Notebooks which illustrate their methods and functions - https://github.com/RaRe-Technologies/gensim/tree/develop/docs/notebooks. The Auto Examples page also has a good variety of examples - https://radimrehurek.com/gensim/auto_examples/. \n",
    "\n",
    "\n",
    "### Dynamic Topic Modelling\n",
    "\n",
    "Dynamic Topic Modelling is a time based topic model method introduced by David Blei and John Lafferty. It allows one to see topics evolve over a time annotated corpus. I would recommend first viewing the Dynamic Topic Model tutorial on Gensim (https://github.com/RaRe-Technologies/gensim/blob/develop/docs/notebooks/ldaseqmodel.ipynb) to understand what exactly it's about. \n",
    "\n",
    "(An acknowledgement - Bhargav wrote the code for Gensim's Dynamic Topic Models back in 2016 as a Google Summer of Code student, and they're still using it as are thousands of others!)\n",
    "\n",
    "To demonstrate it on a time based corpus, we will create a corpus from COHA."
   ],
   "metadata": {
    "collapsed": false
   }
  },
  {
   "cell_type": "code",
   "execution_count": null,
   "outputs": [],
   "source": [
    "corpora_address = \"/Users/bhargavvader/Downloads/Academics_Tech/corpora/COHA\""
   ],
   "metadata": {
    "collapsed": false,
    "pycharm": {
     "name": "#%%\n"
    }
   }
  },
  {
   "cell_type": "code",
   "execution_count": null,
   "outputs": [],
   "source": [
    "coha_texts = lucem_illud_2020.loadDavies(corpora_address, return_raw=True)"
   ],
   "metadata": {
    "collapsed": false,
    "pycharm": {
     "name": "#%%\n"
    }
   }
  },
  {
   "cell_type": "code",
   "execution_count": null,
   "outputs": [],
   "source": [
    "list(coha_texts.keys())[0:5]"
   ],
   "metadata": {
    "collapsed": false,
    "pycharm": {
     "name": "#%%\n"
    }
   }
  },
  {
   "cell_type": "markdown",
   "source": [
    "We'd have to approach this differently: note that while extracting the corpus we returned the raw texts (a new functionality in lucem_illud_2020), and the dictionary keys already contain some useful information: the year published, and the genre. neat! We can now create some corpora, organised by year and by genre."
   ],
   "metadata": {
    "collapsed": false
   }
  },
  {
   "cell_type": "code",
   "execution_count": null,
   "outputs": [],
   "source": [
    "coha_genres = {}\n",
    "coha_years = {}"
   ],
   "metadata": {
    "collapsed": false,
    "pycharm": {
     "name": "#%%\n"
    }
   }
  },
  {
   "cell_type": "code",
   "execution_count": null,
   "outputs": [],
   "source": [
    "for article in coha_texts:\n",
    "    genre, year, id_ = article.split(\"_\")\n",
    "    if genre not in coha_genres:\n",
    "        coha_genres[genre] = []\n",
    "    if genre in coha_genres:\n",
    "        coha_genres[genre].append(coha_texts[article])\n",
    "    \n",
    "    if year not in coha_years:\n",
    "        coha_years[year] = []\n",
    "    if year in coha_years:\n",
    "        coha_years[year].append(coha_texts[article])\n",
    "    "
   ],
   "metadata": {
    "collapsed": false,
    "pycharm": {
     "name": "#%%\n"
    }
   }
  },
  {
   "cell_type": "code",
   "execution_count": null,
   "outputs": [],
   "source": [
    "coha_genres.keys()"
   ],
   "metadata": {
    "collapsed": false,
    "pycharm": {
     "name": "#%%\n"
    }
   }
  },
  {
   "cell_type": "code",
   "execution_count": null,
   "outputs": [],
   "source": [
    "coha_years.keys()"
   ],
   "metadata": {
    "collapsed": false,
    "pycharm": {
     "name": "#%%\n"
    }
   }
  },
  {
   "cell_type": "markdown",
   "source": [
    "That's neat: we have 4 genres and 200 years. We have to now decide how many time slices we want. Let us see how the corpus is distributed.\n",
    "\n",
    "If you went through the tutorial, you would notice how we would need to arrange the corpora year wise.\n",
    "We also have to arrange the number of topics per year."
   ],
   "metadata": {
    "collapsed": false
   }
  },
  {
   "cell_type": "code",
   "execution_count": null,
   "outputs": [],
   "source": [
    "import collections"
   ],
   "metadata": {
    "collapsed": false,
    "pycharm": {
     "name": "#%%\n"
    }
   }
  },
  {
   "cell_type": "code",
   "execution_count": null,
   "outputs": [],
   "source": [
    "years = []\n",
    "year_lens = []"
   ],
   "metadata": {
    "collapsed": false,
    "pycharm": {
     "name": "#%%\n"
    }
   }
  },
  {
   "cell_type": "code",
   "execution_count": null,
   "outputs": [],
   "source": [
    "for year_info in collections.OrderedDict(sorted(coha_years.items())):\n",
    "    years.append(year_info)\n",
    "    year_lens.append(len((coha_years[year_info])))"
   ],
   "metadata": {
    "collapsed": false,
    "pycharm": {
     "name": "#%%\n"
    }
   }
  },
  {
   "cell_type": "code",
   "execution_count": null,
   "outputs": [],
   "source": [
    "years[0], years[-1]"
   ],
   "metadata": {
    "collapsed": false,
    "pycharm": {
     "name": "#%%\n"
    }
   }
  },
  {
   "cell_type": "code",
   "execution_count": null,
   "outputs": [],
   "source": [
    "import matplotlib.pyplot as plt\n",
    "plt.plot(years, year_lens)"
   ],
   "metadata": {
    "collapsed": false,
    "pycharm": {
     "name": "#%%\n"
    }
   }
  },
  {
   "cell_type": "markdown",
   "source": [
    "The X axis isn't legible, but you can get the point: there are far less articles in the beginning, and then it grows. Maybe in our 5 time slices, we do: 1810-1880, 1881-1913, 1914-1950, 1950-1990, 1990-2009?\n",
    "I use some historical intuition to use these time periods, you are encouraged to try your different time slices (for e.g, 20 10 year periods, 10 20 year periods, by total number of papers, etc)"
   ],
   "metadata": {
    "collapsed": false
   }
  },
  {
   "cell_type": "code",
   "execution_count": null,
   "outputs": [],
   "source": [
    "all_texts_coha = []\n",
    "docs_per_timeslice = [0, 0, 0, 0, 0]\n",
    "i = 0"
   ],
   "metadata": {
    "collapsed": false,
    "pycharm": {
     "name": "#%%\n"
    }
   }
  },
  {
   "cell_type": "code",
   "execution_count": null,
   "outputs": [],
   "source": [
    "for year_info in collections.OrderedDict(sorted(coha_years.items())):\n",
    "    large_files = 0\n",
    "    for article in coha_years[year_info]:\n",
    "        try:\n",
    "            if len(article[2]) < 1500000:\n",
    "                all_texts_coha.append(lucem_illud_2020.normalizeTokens(article[2].decode(\"utf-8\")))\n",
    "            if len(article[2]) >= 1500000:\n",
    "                large_files += 1\n",
    "        except IndexError:\n",
    "            continue\n",
    "    # these numbers are the number of years in the \n",
    "    if i < 70:\n",
    "        docs_per_year[0] += len(coha_years[year_info]) - large_files\n",
    "    if i >= 70 and i < 103:\n",
    "        docs_per_year[1] += len(coha_years[year_info]) - large_files\n",
    "    if i >= 103 and i < 140:\n",
    "        docs_per_year[2] += len(coha_years[year_info]) - large_files\n",
    "    if i >= 140 and i < 180:\n",
    "        docs_per_year[3] += len(coha_years[year_info]) - large_files\n",
    "    if i >= 180:\n",
    "        docs_per_year[4] += len(coha_years[year_info]) - large_files\n",
    "    i += 1"
   ],
   "metadata": {
    "collapsed": false,
    "pycharm": {
     "name": "#%%\n"
    }
   }
  },
  {
   "cell_type": "markdown",
   "source": [
    "#### Smaller Corpora\n",
    "\n",
    "The original size of the corpus is wayyy too big for our laptops. Let us demo this with a smaller size. You are welcome to try different sizes until you get the size you would like.\n",
    "I am using a 100 documents per time slice for this example."
   ],
   "metadata": {
    "collapsed": false
   }
  },
  {
   "cell_type": "code",
   "execution_count": null,
   "outputs": [],
   "source": [
    "def choose_n(corpus, time_slices, nums=100):\n",
    "    new_corpus = corpus[0:nums]\n",
    "    for time_slice in time_slices[:-1]:\n",
    "        new_corpus = new_corpus + corpus[time_slice:time_slice+nums]\n",
    "    return new_corpus"
   ],
   "metadata": {
    "collapsed": false,
    "pycharm": {
     "name": "#%%\n"
    }
   }
  },
  {
   "cell_type": "markdown",
   "source": [
    "Now, COHA also has some really large files, full books and the like: we're going to now split up really large files such that each of the documents are only 1000 tokens long. This function will return a split up document and the number of files it has been split into, so we can accordingly adjust the documents per time slice, which is important for Dynamic Topic Modelling to work."
   ],
   "metadata": {
    "collapsed": false
   }
  },
  {
   "cell_type": "code",
   "execution_count": null,
   "outputs": [],
   "source": [
    "def split_up(document, doc_size=1000):\n",
    "    new_docs = [document[i:i + doc_size] for i in range(0, len(document), doc_size)]\n",
    "    return(new_docs, len(new_docs))"
   ],
   "metadata": {
    "collapsed": false,
    "pycharm": {
     "name": "#%%\n"
    }
   }
  },
  {
   "cell_type": "code",
   "execution_count": null,
   "outputs": [],
   "source": [
    "small_corpus = choose_n(all_texts_coha, docs_per_year, nums=100)"
   ],
   "metadata": {
    "collapsed": false,
    "pycharm": {
     "name": "#%%\n"
    }
   }
  },
  {
   "cell_type": "code",
   "execution_count": null,
   "outputs": [],
   "source": [
    "final_corpus= []"
   ],
   "metadata": {
    "collapsed": false,
    "pycharm": {
     "name": "#%%\n"
    }
   }
  },
  {
   "cell_type": "code",
   "execution_count": null,
   "outputs": [],
   "source": [
    "docs_per_time_slice = [0, 0, 0, 0, 0]"
   ],
   "metadata": {
    "collapsed": false,
    "pycharm": {
     "name": "#%%\n"
    }
   }
  },
  {
   "cell_type": "markdown",
   "source": [
    "I now use the split method to create my final corpus. Note that I hardcode values for the time slice to figure out the number of documets per time slice. Now I have a representative number of documents in each time slice. "
   ],
   "metadata": {
    "collapsed": false
   }
  },
  {
   "cell_type": "code",
   "execution_count": null,
   "outputs": [],
   "source": [
    "for i, article in enumerate(small_corpus):\n",
    "    # identify time slice based on article number \n",
    "    if i < 100:\n",
    "        time = 0\n",
    "    if i > 100 and i <= 200:\n",
    "        time = 1\n",
    "    if i > 200 and i <= 300:\n",
    "        time = 2\n",
    "    if i > 300 and i <= 400:\n",
    "        time = 3\n",
    "    if i > 400 and i <= 500:\n",
    "        time = 4\n",
    "        \n",
    "    if len(article) > 1000:\n",
    "        split_docs, no_docs = split_up(article)\n",
    "        for doc in split_docs:\n",
    "            final_corpus.append(doc)\n",
    "        docs_per_time_slice[time] += no_docs\n",
    "    else:\n",
    "        final_corpus.append(article)\n",
    "        docs_per_time_slice[time] += 1\n",
    "    # just a check if the counts are correctly added\n",
    "    if np.sum(docs_per_time_slice) != len(final_corpus):\n",
    "        print(np.sum(docs_per_time_slice), len(final_corpus))"
   ],
   "metadata": {
    "collapsed": false,
    "pycharm": {
     "name": "#%%\n"
    }
   }
  },
  {
   "cell_type": "code",
   "execution_count": null,
   "outputs": [],
   "source": [
    "dictionary = gensim.corpora.Dictionary(final_corpus)"
   ],
   "metadata": {
    "collapsed": false,
    "pycharm": {
     "name": "#%%\n"
    }
   }
  },
  {
   "cell_type": "code",
   "execution_count": null,
   "outputs": [],
   "source": [
    "corpus = [dictionary.doc2bow(text) for text in final_corpus]"
   ],
   "metadata": {
    "collapsed": false,
    "pycharm": {
     "name": "#%%\n"
    }
   }
  },
  {
   "cell_type": "code",
   "execution_count": null,
   "outputs": [],
   "source": [
    "gensim.corpora.MmCorpus.serialize('coha.mm', corpus)\n",
    "cohacorpus = gensim.corpora.MmCorpus('coha.mm')"
   ],
   "metadata": {
    "collapsed": false,
    "pycharm": {
     "name": "#%%\n"
    }
   }
  },
  {
   "cell_type": "code",
   "execution_count": null,
   "outputs": [],
   "source": [
    "from gensim.models import ldaseqmodel"
   ],
   "metadata": {
    "collapsed": false,
    "pycharm": {
     "name": "#%%\n"
    }
   }
  },
  {
   "cell_type": "code",
   "execution_count": null,
   "outputs": [],
   "source": [
    "ldaseq = ldaseqmodel.LdaSeqModel(corpus=corpus, id2word=dictionary, time_slice=docs_per_time_slice, num_topics=4)"
   ],
   "metadata": {
    "collapsed": false,
    "pycharm": {
     "name": "#%%\n"
    }
   }
  },
  {
   "cell_type": "code",
   "execution_count": null,
   "outputs": [],
   "source": [
    "ldaseq.print_topics(time=0)[1]"
   ],
   "metadata": {
    "collapsed": false,
    "pycharm": {
     "name": "#%%\n"
    }
   }
  },
  {
   "cell_type": "code",
   "execution_count": null,
   "outputs": [],
   "source": [
    " ldaseq.print_topics(time=4)[1]"
   ],
   "metadata": {
    "collapsed": false,
    "pycharm": {
     "name": "#%%\n"
    }
   }
  },
  {
   "cell_type": "markdown",
   "source": [
    "What can you see from the analysis? I encourage you to explore the tutorial and see what else you can do with this dataset. In the above model I can see how the topic related to state evolves slowly, with the word president not previously there coming into the topic. I will now save this model and also upload it on GitHub so that you can see how it works. Note that the Dynamic Topic Model is a very time consuming algorithm: you might want to start a run overnight if you intend on using it in your analysis."
   ],
   "metadata": {
    "collapsed": false
   }
  },
  {
   "cell_type": "code",
   "execution_count": null,
   "outputs": [],
   "source": [
    "ldaseq.save(\"ldaseqmodel\")"
   ],
   "metadata": {
    "collapsed": false,
    "pycharm": {
     "name": "#%%\n"
    }
   }
  },
  {
   "cell_type": "code",
   "execution_count": null,
   "outputs": [],
   "source": [
    "loaded_model = ldaseqmodel.LdaSeqModel.load(\"ldaseqmodel\")"
   ],
   "metadata": {
    "collapsed": false,
    "pycharm": {
     "name": "#%%\n"
    }
   }
  },
  {
   "cell_type": "markdown",
   "source": [
    "## <span style=\"color:red\">*Exercise 4*</span>\n",
    "\n",
    "<span style=\"color:red\">Construct cells immediately below this that use topic models and networks, or dynamic topic models on datasets relevant to your final project. You can also extend the analysis of the COHA or Soap datasets, if relevant to the comparison of data for your projects. (You could possibly use coha_genres dictionary to conduct analysis on topic evolution for a particular genre? What themes do you see evolving throughout these corpora?)"
   ],
   "metadata": {
    "collapsed": false
   }
  },
  {
   "cell_type": "markdown",
   "source": [
    "# Discussion\n",
    "\n",
    "- Note that Dynamic topic modelling could not be performed as this data is not time annotated.\n",
    "- Network and topic modelling was performed for the personality dataset, as before. Please note that this dataset is NOT a typical use-case scenario for the network analysis described in the notebook.\n",
    "- @ tweet links for were used to build the network. This yielded a set of correlations of who was being tagged by the same person (each document).\n",
    "- We see a variety of topics being discussed - theatre, dungeons and dragons, holiday season, general positive messaging and expressions of gratitude are some of the topics under discussion.\n",
    "- The correlation plot at the end may have yielded some more interesting data - after googling the relevant handles, I found that handles expressing shopping, holiday season, and expressions of gratitude cross-referenced together. This makes sense, as the interests are common."
   ],
   "metadata": {
    "collapsed": false
   }
  },
  {
   "cell_type": "code",
   "execution_count": 652,
   "outputs": [
    {
     "data": {
      "text/plain": "                liked_by                                               text  \\\n0               21962602  \"“FOLLOWED BY ALL” ACTION STEPS\" #GinoWickman,...   \n1    1046930262268006400  I’ve never been a cat person. We got Luna for ...   \n2               70901647  @manusia_jawa_1 @mahabintangjr @KompasTV https...   \n3               14218396  I miss having dinner parties. I miss going to ...   \n4               14088454  That may put someone over the $500 allowable t...   \n..                   ...                                                ...   \n475           2165526102  @SonicFox Thank you for the promotion@SonicFox...   \n476             25776263  Many have said that what transpired on Wednesd...   \n477             36419649  @rsosa8 Some great books!Best call of the year...   \n478             16494284  @danprimack @axios A good chunk of fintech see...   \n479            838301000  Today is Ted Danson’s birthday.Betsy DeVos has...   \n\n     type  extravert  intuitive  thinking  judging  kmeans_predictions  \\\n0    ISTJ          0          0         1        1                   0   \n1    ISTP          0          0         1        0                   0   \n2    ISTP          0          0         1        0                   1   \n3    ISTJ          0          0         1        1                   0   \n4    ISTJ          0          0         1        1                   1   \n..    ...        ...        ...       ...      ...                 ...   \n475  INFP          0          1         0        0                   0   \n476  ENFP          1          1         0        0                   0   \n477  ENFP          1          1         0        0                   0   \n478  ENTJ          1          1         1        1                   0   \n479  INTP          0          1         1        0                   0   \n\n                                        tokenized_text  \\\n0    [FOLLOWED, BY, ALL, ACTION, STEPS, GinoWickman...   \n1    [I, ’ve, never, been, a, cat, person, We, got,...   \n2    [@manusia_jawa_1, @mahabintangjr, @KompasTV, h...   \n3    [I, miss, having, dinner, parties, I, miss, go...   \n4    [That, may, put, someone, over, the, $, 500, a...   \n..                                                 ...   \n475  [@SonicFox, Thank, you, for, the, promotion@So...   \n476  [Many, have, said, that, what, transpired, on,...   \n477  [@rsosa8, Some, great, books!Best, call, of, t...   \n478  [@danprimack, @axios, A, good, chunk, of, fint...   \n479  [Today, is, Ted, Danson, ’s, birthday, Betsy, ...   \n\n                                     normalized_tokens  \\\n0    [follow, action, step, ginowickman, traction, ...   \n1    [have, cat, person, get, luna, kid, pick, huma...   \n2    [@manusia_jawa_1, @mahabintangjr, @kompastv, h...   \n3    [miss, have, dinner, party, miss, go, movie, b...   \n4    [$, allowable, tax, deduction, educator, https...   \n..                                                 ...   \n475  [@sonicfox, thank, promotion@sonicfox, @dooble...   \n476  [say, transpire, wednesday, america, wrong, am...   \n477  [@rsosa8, great, books!best, year, right, http...   \n478  [@danprimack, @axios, good, chunk, fintech, tr...   \n479  [today, ted, danson, birthday, betsy, devos, j...   \n\n                                        reduced_tokens  \n0    [action, step, leadership, phone, pm, monday, ...  \n1    [cat, kid, pick, dog, sit, weird, wonder, ban,...  \n2    [lie, orang, tapi, kita, di, ini, ada, yang, o...  \n3    [dinner, movie, bar, travel, conference, event...  \n4    [tax, teacher, create, experience, student, bu...  \n..                                                 ...  \n475  [powerful, holy, hello, player, youtube, updat...  \n476  [wednesday, late, experience, member, congress...  \n477  [fan, join, near, conference, situation, agree...  \n478  [model, realize, terrible, dog, business, rais...  \n479  [ted, student, surprise, amendment, education,...  \n\n[480 rows x 11 columns]",
      "text/html": "<div>\n<style scoped>\n    .dataframe tbody tr th:only-of-type {\n        vertical-align: middle;\n    }\n\n    .dataframe tbody tr th {\n        vertical-align: top;\n    }\n\n    .dataframe thead th {\n        text-align: right;\n    }\n</style>\n<table border=\"1\" class=\"dataframe\">\n  <thead>\n    <tr style=\"text-align: right;\">\n      <th></th>\n      <th>liked_by</th>\n      <th>text</th>\n      <th>type</th>\n      <th>extravert</th>\n      <th>intuitive</th>\n      <th>thinking</th>\n      <th>judging</th>\n      <th>kmeans_predictions</th>\n      <th>tokenized_text</th>\n      <th>normalized_tokens</th>\n      <th>reduced_tokens</th>\n    </tr>\n  </thead>\n  <tbody>\n    <tr>\n      <th>0</th>\n      <td>21962602</td>\n      <td>\"“FOLLOWED BY ALL” ACTION STEPS\" #GinoWickman,...</td>\n      <td>ISTJ</td>\n      <td>0</td>\n      <td>0</td>\n      <td>1</td>\n      <td>1</td>\n      <td>0</td>\n      <td>[FOLLOWED, BY, ALL, ACTION, STEPS, GinoWickman...</td>\n      <td>[follow, action, step, ginowickman, traction, ...</td>\n      <td>[action, step, leadership, phone, pm, monday, ...</td>\n    </tr>\n    <tr>\n      <th>1</th>\n      <td>1046930262268006400</td>\n      <td>I’ve never been a cat person. We got Luna for ...</td>\n      <td>ISTP</td>\n      <td>0</td>\n      <td>0</td>\n      <td>1</td>\n      <td>0</td>\n      <td>0</td>\n      <td>[I, ’ve, never, been, a, cat, person, We, got,...</td>\n      <td>[have, cat, person, get, luna, kid, pick, huma...</td>\n      <td>[cat, kid, pick, dog, sit, weird, wonder, ban,...</td>\n    </tr>\n    <tr>\n      <th>2</th>\n      <td>70901647</td>\n      <td>@manusia_jawa_1 @mahabintangjr @KompasTV https...</td>\n      <td>ISTP</td>\n      <td>0</td>\n      <td>0</td>\n      <td>1</td>\n      <td>0</td>\n      <td>1</td>\n      <td>[@manusia_jawa_1, @mahabintangjr, @KompasTV, h...</td>\n      <td>[@manusia_jawa_1, @mahabintangjr, @kompastv, h...</td>\n      <td>[lie, orang, tapi, kita, di, ini, ada, yang, o...</td>\n    </tr>\n    <tr>\n      <th>3</th>\n      <td>14218396</td>\n      <td>I miss having dinner parties. I miss going to ...</td>\n      <td>ISTJ</td>\n      <td>0</td>\n      <td>0</td>\n      <td>1</td>\n      <td>1</td>\n      <td>0</td>\n      <td>[I, miss, having, dinner, parties, I, miss, go...</td>\n      <td>[miss, have, dinner, party, miss, go, movie, b...</td>\n      <td>[dinner, movie, bar, travel, conference, event...</td>\n    </tr>\n    <tr>\n      <th>4</th>\n      <td>14088454</td>\n      <td>That may put someone over the $500 allowable t...</td>\n      <td>ISTJ</td>\n      <td>0</td>\n      <td>0</td>\n      <td>1</td>\n      <td>1</td>\n      <td>1</td>\n      <td>[That, may, put, someone, over, the, $, 500, a...</td>\n      <td>[$, allowable, tax, deduction, educator, https...</td>\n      <td>[tax, teacher, create, experience, student, bu...</td>\n    </tr>\n    <tr>\n      <th>...</th>\n      <td>...</td>\n      <td>...</td>\n      <td>...</td>\n      <td>...</td>\n      <td>...</td>\n      <td>...</td>\n      <td>...</td>\n      <td>...</td>\n      <td>...</td>\n      <td>...</td>\n      <td>...</td>\n    </tr>\n    <tr>\n      <th>475</th>\n      <td>2165526102</td>\n      <td>@SonicFox Thank you for the promotion@SonicFox...</td>\n      <td>INFP</td>\n      <td>0</td>\n      <td>1</td>\n      <td>0</td>\n      <td>0</td>\n      <td>0</td>\n      <td>[@SonicFox, Thank, you, for, the, promotion@So...</td>\n      <td>[@sonicfox, thank, promotion@sonicfox, @dooble...</td>\n      <td>[powerful, holy, hello, player, youtube, updat...</td>\n    </tr>\n    <tr>\n      <th>476</th>\n      <td>25776263</td>\n      <td>Many have said that what transpired on Wednesd...</td>\n      <td>ENFP</td>\n      <td>1</td>\n      <td>1</td>\n      <td>0</td>\n      <td>0</td>\n      <td>0</td>\n      <td>[Many, have, said, that, what, transpired, on,...</td>\n      <td>[say, transpire, wednesday, america, wrong, am...</td>\n      <td>[wednesday, late, experience, member, congress...</td>\n    </tr>\n    <tr>\n      <th>477</th>\n      <td>36419649</td>\n      <td>@rsosa8 Some great books!Best call of the year...</td>\n      <td>ENFP</td>\n      <td>1</td>\n      <td>1</td>\n      <td>0</td>\n      <td>0</td>\n      <td>0</td>\n      <td>[@rsosa8, Some, great, books!Best, call, of, t...</td>\n      <td>[@rsosa8, great, books!best, year, right, http...</td>\n      <td>[fan, join, near, conference, situation, agree...</td>\n    </tr>\n    <tr>\n      <th>478</th>\n      <td>16494284</td>\n      <td>@danprimack @axios A good chunk of fintech see...</td>\n      <td>ENTJ</td>\n      <td>1</td>\n      <td>1</td>\n      <td>1</td>\n      <td>1</td>\n      <td>0</td>\n      <td>[@danprimack, @axios, A, good, chunk, of, fint...</td>\n      <td>[@danprimack, @axios, good, chunk, fintech, tr...</td>\n      <td>[model, realize, terrible, dog, business, rais...</td>\n    </tr>\n    <tr>\n      <th>479</th>\n      <td>838301000</td>\n      <td>Today is Ted Danson’s birthday.Betsy DeVos has...</td>\n      <td>INTP</td>\n      <td>0</td>\n      <td>1</td>\n      <td>1</td>\n      <td>0</td>\n      <td>0</td>\n      <td>[Today, is, Ted, Danson, ’s, birthday, Betsy, ...</td>\n      <td>[today, ted, danson, birthday, betsy, devos, j...</td>\n      <td>[ted, student, surprise, amendment, education,...</td>\n    </tr>\n  </tbody>\n</table>\n<p>480 rows × 11 columns</p>\n</div>"
     },
     "execution_count": 652,
     "metadata": {},
     "output_type": "execute_result"
    }
   ],
   "source": [
    "pDF"
   ],
   "metadata": {
    "collapsed": false,
    "pycharm": {
     "name": "#%%\n"
    }
   }
  },
  {
   "cell_type": "code",
   "execution_count": 653,
   "outputs": [],
   "source": [
    "person = pDF['tokenized_text'].sample(n = 50).sum()"
   ],
   "metadata": {
    "collapsed": false,
    "pycharm": {
     "name": "#%%\n"
    }
   }
  },
  {
   "cell_type": "code",
   "execution_count": 654,
   "outputs": [
    {
     "data": {
      "text/plain": "'So I guess that ’s how we ’re releasing the official IdiotTale poster https://t.co/mZAn8l6EPc https://t.co/DxODhR7L6KToday is the first day in 4 years I \\'m happy drinking An honor to attend the inauguration in person 12 years ago and virtually today https://t.co/GcnD1CAPJZWhat \\'s this feeling Oh I exhaled.here is a rejected ttrpg character my GM will NOT let me play cuz reasons Kellogg Cornflake Cogburn a re skinned Tengu so a Rooster and not the standard Raven folk The crossbow using Ranger with ranks in profession Minstrel ArtistOnTwitter commissionsopen ttrpg https://t.co/45L7F3LkwR@jaredhoy Everyone is me https://t.co/zbq5jreKdAArtisan keycaps are my new window shopping addiction I just put them in my cart and stare and then remove them Maybe one day What ’s your online window shopping addiction?Rehearsing a virtual musical and slowly streamlining my workflow for jumping in and out of AvatarPerformance https://t.co/pqf0CblcF9@jaredhoy @YouTube Their automated validation system is garbage I just up and abandoned a long used email account a few years ago because GMail did the same thing.@Chris_FireFox @TwitchSupport Dude you are being disrespectful to Twitch Please keep in mind they ca n\\'t always help these crashes They do the best they can to try and keep it up but sometimes they struggle Do n\\'t blame Twitch for an issue that might not have even been caused by themselves Thanks!@Chris_FireFox @TwitchSupport Lol Imagine twitch devs being like Hey everybody we \\'re going to break the platform on purpose and laugh at twitch streamers complain\".@FoxNews @FoxNewsSunday @BretBaier @BillHemmer @marthamaccallum Too late to pretend now that you ’re sad for our democracy you ’ve been enabling this shit for four years Why has n\\'t the National Guard been mobilized Oh white I watched an LAPD car ram protestors because we were marching in the street https://t.co/CAakTr3RyvI seem to remember DC having plenty of national guard presence during peaceful BLM protests but I guess a literal attack on the Capitol is lower on the list of priorities than silencing Black people who do n\\'t want to be murderedAs you watch MAGA protestors storm the capitol largely unimpeded recall that BLM protestors were peacefully outside the White House and Trump had them dispersed with what turned out to be tear gas So @jaredhoy your dumb tracking shot blue screened my computer https://t.co/0E7cbzyhzy@Gaelwyn @GetSomeChuck @stills0311 @tweetsoutloud For some reason he blocked me over it too Okay New Years Eve dinner in Vegas 2019 https://t.co/K01nXfkvthAPR/ I pursued and won arbitration against a film distributor that owed me a lot of money inspiring a new method for tokenizing amp distributing indie film using @BitTorrent amp @TronFoundation smart contracts More about dMovies here https://t.co/c4gtMSWJef cc @justinsuntronI’m nowhere near where I wanna be with my career But just wanna give hope to the unrepped writers out there I have no reps But I ’ve placed high in contests to make connections which led to intros meetings amp a gig Keep creating Keep grinding Be nice People will notice HAPPY NEW YEAR From all of us at the Inn we wish you a safe and joyous year ahead We \\'re back on Jan. 16th amp we \\'ll be revealing a new sponsor dnd dnd5e dungeonsanddragons livestream tabletoprpg rpg tabletopgames adventure twitch HereBeDragons InnMates HNY2021 https://t.co/JcBfp1onj3you do nt have to be so fucking loud https://t.co/LWP8npq2Mo@DaTBaDShow @jaredhoy @DavidBlue @RIPmika @dreamwisp @KragSonOfHorace @chewbear20 @azerold1 @nondracek @HatlessWizard @thekatiewilson @Miss_Magitek @MaeLeFay @witchybreww @DianaRes3 @EvilJimjam HAPPY NEW YEAR!!From the entire BaD family @jaredhoy @DavidBlue @ShannonCorbeil @RIPmika @dreamwisp @KragSonOfHorace @chewbear20 @azerold1 @nondracek @HatlessWizard @thekatiewilson @Miss_Magitek @MaeLeFay @witchybreww @DianaRes3 @EvilJimjam we wish you and yours a very Happy 2021 https://t.co/Pyw1IHpp13My new years resolution for 2021 is to stop accepting and spreading misery 2020 has sucked everyone knows and feels this So for 2021 I \\'m going to focus on making the most out of what I can when I can Celebrate the victories and mange the hard times knowing I will survive.i’m dating a lot of people now if you play d&amp;d I will date uTonight we will be broadcasting a special One Shot featuring @TheGameKage and @jaredhoy we did a few months ago alongside @AffectsLeo and @jcrutchfield12 We ca n\\'t wait to pick back up fresh with Arc 2 in 2021 Tune in live at 930pm eastern https://t.co/L8Ju68sjcWSo I \\'ll just leave this here https://t.co/bxHD76U6eC@DianaRes3 Diana That That \\'s not me That \\'s Donald Glover He \\'s an actor Those other people are actors too This is from a TV show It \\'s called Community None of those people are Katie or I. Are Are you ok Should I call someone @azerold1 can you check on Diana?We hope everyone who is celebrating is having a wonderful day today You all deserve it datfam rpg https://t.co/JHNxVMWfutMerry Christmas from all of us at the inn May your day be merry and bright dnd dnd5e dungeonsanddragons livestream tabletoprpg rpg tabletopgames adventure twitch HereBeDragons InnMates MerryChristmas https://t.co/5YmlOMqtaQ@jaredhoy STOP TALKING BAD ABOUT MY FRIEND LIKE THAT.My dad was allowed to come home from the hospital today He \\'s still on oxygen and lots a ton of weight but he \\'s doing well Thanks everyone for all your thoughts and well wishes Christmas miracles do happen I \\'m so relieved I just realized I never posted this here but uh Merry Christmas https://t.co/rvMczoSbu1https://t.co/pke7DVjzNOhttps://t.co/w4C958DCJSDocumenting your process is hard but important and sometimes takes longer than original production Hope you \\'ll share VirtualReality FutureStages thanks to @MozillaHubs @iBrews @kevinasarobot @DavidGochfeld @TheAshleyClem @nicanrobinson @nickcarrillo77 https://t.co/qwx2SN1DJWJust wanted to say WE LOVE YOU ALL Thank you for all your amazing support We could n\\'t do it without you datfam https://t.co/aC7iQP82ZYI miss Grant more than I can possibly describe https://t.co/QOBvC9r2sOGood news Gremlins holds up Great Christmas movie 4k transfer looks incredible too!Furrank DaTFam @HatlessWizard @EvilJimjam @KragSonOfHorace @lookitsbenburch @DianaRes3 @jaredhoy Wish I had found this in time to send y’ all for Kragmas https://t.co/2XmKhCm0yR#SONAseries is now on @PrimeVideo Somehow we managed to make a show about quarantine 2 years ago You \\'re not alone this holiday season But Sona is Reviews are helpful https://t.co/xDuTo78chfYou can make your own WatchParty at this link https://t.co/sQhjQcyrqm https://t.co/pgLSaimhXE#SONAseries is a masterclass from @TheAshleyClem now streaming on @PrimeVideo https://t.co/qGqnoojqXV PLEASE help support indie film and POST A REVIEW https://t.co/ZtN6uiHjiR@jaredhoy Creepy strong then DWe are off the air with all of our shows for the rest of the year BUT you can still catch up via our Youtube https://t.co/ih3ZdBU4hE Twitch VODs or podcast DatFam Pathfinder Starfinder savageworlds dnd rpg https://t.co/DZxhBlpwCtAll I want for Christmas is control of the Senate https://t.co/mTTjHCGnTzWatching ZooMotel a LIVE one man magic show inside an escape room with intriguing practical elements amp puppetry like being inside a pop up book Less narrative amp interaction than I hoped but a celebration of live imaginative practical stage craft https://t.co/TQKlMmXXqhInstant holiday card and avatar from @getwolf3d https://t.co/zxJOJbKDAi https://t.co/hOatz3BYLbcome join me but be sure to be there Thursday night for the finale as well because there is going to be a special giveaway that may just be connected to my art and a hex chest from @ElderwoodBoxes TwitchStreamers Giveaways https://t.co/Pt1koWv8vB@jaredhoy Got ta use alternative power https://t.co/AWJkqs7elKKragmas is coming The SecretThorash gift exchange will be happening on 12/18 DatFam twitch https://t.co/wxjQXu6ov9So excited I hope you all enjoy it https://t.co/SiRpd0zN2hGetting ready to record the first session of our forth coming podcast BaD Runes Rising HYPE!I really said heck you to my bank account this holiday but I just really wanted to give everyone nice things this year Happy Holidays from Paizo Check out some of the Pathfinder and Starfinder gaming books and accessories we \\'ve released this year and save 10 Read all about it on the Paizo Blog https://t.co/bqPIOd1jis https://t.co/gUqYxmxxdrStreet Kid style Corpo attitude Live with more Cyberpunk2077 shenanigans https://t.co/tBOha8tMZG https://t.co/uehPJbodCcCheck it out It \\'s the whole WildcardSRPG crew PlaySavageWorlds savageworlds rpg The Jordans wrote it Dom and I produced it Gaurav edited it @jaredhoy shot it Twas fun https://t.co/8L8rKE4JFLCheck out this savageworlds commercial You might recognize some faces Wildcardsrpg rpg https://t.co/iNPQBGFoPdWhat \\'s that You missed our December fourth cutoff Well look what we have here Limited number of mystery crates filled with over $ 70 of RPG accessories for only $ 29.95 shipping included U.S. only subscriptionaddiction mysterybox dungeonsanddragons https://t.co/wYEm9QR8XzRare real tweet Tell your loved ones how important they are to you Often And with sincerity In March I pivoted amp leveraged my decade of theater producing with my decade of digital producing Today wrapped https://t.co/tktTsJzE24 five months of actively instigating collaboration between the theater and XR community Thank you to 300 + applicants for meeting this moment.oh no she ’s back at it again https://t.co/oeMr8vll57 https://t.co/qrBR6JcmtcIt \\'s NationalDiceDay amp we want to show off some of our favorites from BlacksmithCraftDice They are an AMAZING small business that you can order from on Amazon amp their dice are high quality amp affordable Be sure to check them out as you do your Holiday Shopping Dice DnD https://t.co/N6sqvoxiC4@jaredhoy @nondracek @chewbear20 @RIPmika @Miss_Magitek @MaeLeFay @azerold1 @HatlessWizard @thekatiewilson @DianaRes3 @DavidBlue @dreamwisp @witchybreww Ummm does jackbox count I did play Super Mario Bros 3 with friends in the before times L'"
     },
     "execution_count": 654,
     "metadata": {},
     "output_type": "execute_result"
    }
   ],
   "source": [
    "' '.join(person[0:1500])"
   ],
   "metadata": {
    "collapsed": false,
    "pycharm": {
     "name": "#%%\n"
    }
   }
  },
  {
   "cell_type": "code",
   "execution_count": 655,
   "outputs": [],
   "source": [
    "characters = {}\n",
    "for token in person:\n",
    "    if token[0] == '@':\n",
    "        # all characters or actions start with @, so we add that to character\n",
    "        if token[2:] not in characters:\n",
    "            characters[token[2:]] = 0\n",
    "        if token[2:] in characters:\n",
    "            characters[token[2:]] += 1"
   ],
   "metadata": {
    "collapsed": false,
    "pycharm": {
     "name": "#%%\n"
    }
   }
  },
  {
   "cell_type": "code",
   "execution_count": 656,
   "outputs": [],
   "source": [
    "import networkx as nx"
   ],
   "metadata": {
    "collapsed": false,
    "pycharm": {
     "name": "#%%\n"
    }
   }
  },
  {
   "cell_type": "code",
   "execution_count": 657,
   "outputs": [],
   "source": [
    "person_network = nx.Graph()"
   ],
   "metadata": {
    "collapsed": false,
    "pycharm": {
     "name": "#%%\n"
    }
   }
  },
  {
   "cell_type": "code",
   "execution_count": 658,
   "outputs": [],
   "source": [
    "for character in characters:\n",
    "    if characters[character] > 20:\n",
    "        person_network.add_node(character, lines_spoken= characters[character], words=[])"
   ],
   "metadata": {
    "collapsed": false,
    "pycharm": {
     "name": "#%%\n"
    }
   }
  },
  {
   "cell_type": "code",
   "execution_count": 659,
   "outputs": [],
   "source": [
    "i = 0"
   ],
   "metadata": {
    "collapsed": false,
    "pycharm": {
     "name": "#%%\n"
    }
   }
  },
  {
   "cell_type": "code",
   "execution_count": 660,
   "outputs": [],
   "source": [
    "all_texts = []"
   ],
   "metadata": {
    "collapsed": false,
    "pycharm": {
     "name": "#%%\n"
    }
   }
  },
  {
   "cell_type": "code",
   "execution_count": 661,
   "outputs": [],
   "source": [
    "for token in person:\n",
    "    i += 1\n",
    "    if i > len(person):\n",
    "        break\n",
    "    if token[0] == \"@\":\n",
    "        if token[2:] in person_network.nodes():\n",
    "            j = i\n",
    "            for token_ in person[i:]:\n",
    "                if token_[0] == \"@\":\n",
    "                    # if both the characters exist in the graph, add a weight\n",
    "                    if token_[2:] != token[2:] and token_[2:] in person_network.nodes():\n",
    "                        if (token[2:], token_[2:]) not in person_network.edges():\n",
    "                            person_network.add_edge(token[2:], token_[2:], weight=0)\n",
    "                        if (token[2:], token_[2:]) in person_network.edges():\n",
    "                            person_network.edges[(token[2:], token_[2:])]['weight'] += 1\n",
    "                    break\n",
    "                j += 1\n",
    "            # adding characters sentences\n",
    "            person_network.nodes[token[2:]]['words'].append(person[i:j])\n",
    "            all_texts.append(lucem_illud_2020.normalizeTokens(person[i:j]))"
   ],
   "metadata": {
    "collapsed": false,
    "pycharm": {
     "name": "#%%\n"
    }
   }
  },
  {
   "cell_type": "code",
   "execution_count": 662,
   "outputs": [
    {
     "data": {
      "text/plain": "<Figure size 432x288 with 1 Axes>",
      "image/png": "[encoded data removed]"
     },
     "metadata": {},
     "output_type": "display_data"
    }
   ],
   "source": [
    "nx.draw(person_network, with_labels=True, font_weight='bold')\n"
   ],
   "metadata": {
    "collapsed": false,
    "pycharm": {
     "name": "#%%\n"
    }
   }
  },
  {
   "cell_type": "code",
   "execution_count": 663,
   "outputs": [
    {
     "data": {
      "text/plain": "[['dumb',\n  'track',\n  'shoot',\n  'blue',\n  'screen',\n  'computer',\n  'https://t.co/0e7cbzyhzy@gaelwyn'],\n [],\n [],\n ['month', 'ago', 'alongside'],\n ['wish',\n  'find',\n  'time',\n  'send',\n  'y',\n  'kragmas',\n  'https://t.co/2xmkhcm0yr#sonaseries'],\n ['shoot',\n  'twas',\n  'fun',\n  'https://t.co/8l8rke4jflcheck',\n  'savageworlds',\n  'commercial',\n  'recognize',\n  'face',\n  'wildcardsrpg',\n  'rpg',\n  'https://t.co/inpqbgfopdwhat',\n  'miss',\n  'december',\n  'cutoff',\n  'look',\n  'limit',\n  'numb',\n  'mystery',\n  'crate',\n  'fill',\n  '$',\n  'rpg',\n  'accessory',\n  '$',\n  'ship',\n  'include',\n  'u.s',\n  'subscriptionaddiction',\n  'mysterybox',\n  'dungeonsanddragons',\n  'https://t.co/wyem9qr8xzrare',\n  'real',\n  'tweet',\n  'tell',\n  'love',\n  'one',\n  'important',\n  'sincerity',\n  'march',\n  'pivot',\n  'amp',\n  'leverage',\n  'decade',\n  'theater',\n  'produce',\n  'decade',\n  'digital',\n  'produce',\n  'today',\n  'wrap',\n  'https://t.co/tkttsjze24',\n  'month',\n  'actively',\n  'instigate',\n  'collaboration',\n  'theater',\n  'xr',\n  'community',\n  'thank',\n  '+',\n  'applicant',\n  'meet',\n  'moment.oh',\n  'https://t.co/oemr8vll57',\n  'https://t.co/qrbr6jcmtcit',\n  'nationaldiceday',\n  'amp',\n  'want',\n  'favorite',\n  'blacksmithcraftdice',\n  'amaze',\n  'small',\n  'business',\n  'order',\n  'amazon',\n  'amp',\n  'die',\n  'high',\n  'quality',\n  'amp',\n  'affordable',\n  'sure',\n  'check',\n  'holiday',\n  'shop',\n  'die',\n  'dnd',\n  'https://t.co/n6sqvoxic4@jaredhoy'],\n ['https://t.co/uhvqgrthrghappy',\n  'thanksgiving',\n  'https://t.co/6rpuqdxkom@jaredhoy',\n  'accept',\n  'answer',\n  'cause',\n  'drama',\n  'thanksgiving',\n  'table',\n  'thank',\n  'encompass',\n  'right',\n  'wrong',\n  'crowd#happythanksgiving',\n  'crazy',\n  'table',\n  'thankful',\n  'support',\n  'community',\n  'give',\n  'year',\n  'amp',\n  'hope',\n  'able',\n  'safe',\n  'joy',\n  'fill',\n  'holiday',\n  'dnd',\n  'dnd5e',\n  'dungeonsanddragons',\n  'rpg',\n  'adventure',\n  'herebedragons',\n  'innmates',\n  'https://t.co/gzft4fstuuhey',\n  'y',\n  'submit',\n  'suggestion',\n  'podcast',\n  'title',\n  'have',\n  'abandon',\n  'stark',\n  'rave',\n  'bad',\n  'additional',\n  'new',\n  'adventure',\n  'quintissential'],\n ['player'],\n ['yes',\n  'disappoint',\n  'handle',\n  'issue',\n  'end',\n  'pay',\n  'guarantee',\n  'success',\n  'thing',\n  'kind',\n  'genuine',\n  'people',\n  'beautiful',\n  'play',\n  'https://t.co/timdebnswu@jaredhoy',\n  'look',\n  'https://t.co/3iu9n8eti9want',\n  'win',\n  'amaze',\n  'nerdy',\n  'd&amp;d',\n  'prize',\n  'giveaway',\n  'instagram',\n  'come',\n  'join',\n  'https://t.co/mac3kqfpftready',\n  'join',\n  'moxes'],\n []]"
     },
     "execution_count": 663,
     "metadata": {},
     "output_type": "execute_result"
    }
   ],
   "source": [
    "all_texts[0:10]"
   ],
   "metadata": {
    "collapsed": false,
    "pycharm": {
     "name": "#%%\n"
    }
   }
  },
  {
   "cell_type": "code",
   "execution_count": 664,
   "outputs": [],
   "source": [
    "dictionary = gensim.corpora.Dictionary(all_texts)"
   ],
   "metadata": {
    "collapsed": false,
    "pycharm": {
     "name": "#%%\n"
    }
   }
  },
  {
   "cell_type": "code",
   "execution_count": 665,
   "outputs": [],
   "source": [
    "corpus = [dictionary.doc2bow(text) for text in all_texts]"
   ],
   "metadata": {
    "collapsed": false,
    "pycharm": {
     "name": "#%%\n"
    }
   }
  },
  {
   "cell_type": "code",
   "execution_count": 666,
   "outputs": [],
   "source": [
    "gensim.corpora.MmCorpus.serialize('person.mm', corpus)\n",
    "pcorpus = gensim.corpora.MmCorpus('person.mm')"
   ],
   "metadata": {
    "collapsed": false,
    "pycharm": {
     "name": "#%%\n"
    }
   }
  },
  {
   "cell_type": "code",
   "execution_count": 667,
   "outputs": [],
   "source": [
    "plda = gensim.models.ldamodel.LdaModel(corpus=pcorpus, id2word=dictionary, num_topics=20, alpha='auto', eta='auto')"
   ],
   "metadata": {
    "collapsed": false,
    "pycharm": {
     "name": "#%%\n"
    }
   }
  },
  {
   "cell_type": "code",
   "execution_count": 668,
   "outputs": [
    {
     "data": {
      "text/plain": "[(16,\n  '0.007*\"be\" + 0.005*\"need\" + 0.005*\"photo\" + 0.004*\"film\" + 0.004*\"today\" + 0.004*\"omg\" + 0.004*\"feel\" + 0.004*\"dts\" + 0.004*\"shoot\" + 0.004*\"christmas\"'),\n (5,\n  '0.005*\"be\" + 0.005*\"tweet\" + 0.004*\"time\" + 0.004*\"love\" + 0.004*\"day\" + 0.004*\"want\" + 0.004*\"yes\" + 0.004*\"watch\" + 0.004*\"ver\" + 0.004*\"have\"'),\n (8,\n  '0.009*\"get\" + 0.006*\"dad\" + 0.005*\"jungkook\" + 0.005*\"be\" + 0.005*\"need\" + 0.005*\"like\" + 0.004*\"oh\" + 0.004*\"think\" + 0.004*\"let\" + 0.004*\"know\"'),\n (18,\n  '0.007*\"jungkook\" + 0.007*\"bts\" + 0.006*\"love\" + 0.005*\"like\" + 0.005*\"need\" + 0.004*\"thank\" + 0.004*\"be\" + 0.004*\"life\" + 0.004*\"vote\" + 0.004*\"today\"'),\n (1,\n  '0.010*\"work\" + 0.009*\"great\" + 0.007*\"song\" + 0.007*\"day\" + 0.006*\"go\" + 0.004*\"time\" + 0.004*\"na\" + 0.004*\"divide\" + 0.004*\"jungkook\" + 0.003*\"today\"'),\n (7,\n  '0.011*\"amp\" + 0.010*\"jungkook\" + 0.006*\"today\" + 0.006*\"bts\" + 0.006*\"be\" + 0.005*\"day\" + 0.005*\"well\" + 0.004*\"time\" + 0.003*\"need\" + 0.003*\"miss\"'),\n (11,\n  '0.012*\"president\" + 0.007*\"thank\" + 0.007*\"jungkook\" + 0.006*\"like\" + 0.006*\"new\" + 0.006*\"year\" + 0.005*\"unite\" + 0.004*\"state\" + 0.004*\"be\" + 0.004*\"da\"'),\n (0,\n  '0.012*\"jungkook\" + 0.007*\"be\" + 0.006*\"love\" + 0.006*\"think\" + 0.006*\"people\" + 0.006*\"day\" + 0.006*\"good\" + 0.006*\"have\" + 0.005*\"go\" + 0.005*\"life\"'),\n (6,\n  '0.008*\"jungkook\" + 0.008*\"day\" + 0.007*\"have\" + 0.006*\"get\" + 0.005*\"think\" + 0.005*\"thing\" + 0.005*\"need\" + 0.005*\"week\" + 0.004*\"way\" + 0.004*\"year\"'),\n (9,\n  '0.007*\"think\" + 0.007*\"new\" + 0.006*\"work\" + 0.006*\"be\" + 0.006*\"sunrise\" + 0.006*\"good\" + 0.005*\"enjoy\" + 0.005*\"day\" + 0.004*\"time\" + 0.004*\"read\"')]"
     },
     "execution_count": 668,
     "metadata": {},
     "output_type": "execute_result"
    }
   ],
   "source": [
    "plda.show_topics()\n"
   ],
   "metadata": {
    "collapsed": false,
    "pycharm": {
     "name": "#%%\n"
    }
   }
  },
  {
   "cell_type": "code",
   "execution_count": 669,
   "outputs": [],
   "source": [
    "for actor in person_network.nodes():\n",
    "    actor_all_words = []\n",
    "    for sent in person_network.nodes[actor]['words']:\n",
    "        for word in sent:\n",
    "            actor_all_words += word\n",
    "    person_network.nodes[actor]['topic_distribution'] = plda[dictionary.doc2bow(lucem_illud_2020.normalizeTokens(actor_all_words))]"
   ],
   "metadata": {
    "collapsed": false,
    "pycharm": {
     "name": "#%%\n"
    }
   }
  },
  {
   "cell_type": "markdown",
   "source": [
    "We now have topic distributions for each character. Let us have a brief look at what the characters are talking about."
   ],
   "metadata": {
    "collapsed": false
   }
  },
  {
   "cell_type": "code",
   "execution_count": 670,
   "outputs": [
    {
     "name": "stdout",
     "output_type": "stream",
     "text": [
      "aredhoy [(0, 0.010106607), (4, 0.09138407), (5, 0.02692462), (6, 0.086051084), (11, 0.13667277), (13, 0.08351081), (14, 0.10999845), (15, 0.15708417), (19, 0.28889814)]\n",
      "oeBiden [(4, 0.07926244), (5, 0.026161386), (6, 0.085390694), (11, 0.14407025), (13, 0.070245735), (14, 0.123988084), (15, 0.14818402), (19, 0.29748383)]\n",
      "TS_twt [(0, 0.020833746), (4, 0.09185468), (6, 0.13148284), (11, 0.113163), (13, 0.08445104), (14, 0.11160733), (15, 0.12456553), (19, 0.32025048)]\n",
      "rErnieWard [(0, 0.011419628), (4, 0.06578358), (5, 0.02494246), (6, 0.10690688), (10, 0.04321938), (11, 0.11155676), (13, 0.08039356), (14, 0.12402892), (15, 0.14633577), (19, 0.281811)]\n",
      "ealDonaldTrump [(0, 0.01061008), (4, 0.07947166), (5, 0.028723063), (6, 0.09522421), (10, 0.043734815), (11, 0.13358325), (13, 0.06322947), (14, 0.1187183), (15, 0.1396941), (16, 0.012993516), (19, 0.27394947)]\n",
      "izzard1278 [(4, 0.08192326), (5, 0.02513206), (6, 0.07947483), (11, 0.17055474), (13, 0.077406324), (14, 0.118248835), (15, 0.13642356), (19, 0.29382676)]\n",
      "racySarkcess [(0, 0.01264791), (4, 0.09903945), (5, 0.023461562), (6, 0.09406438), (10, 0.014784808), (11, 0.12859625), (13, 0.07427585), (14, 0.12488862), (15, 0.13852885), (19, 0.28396863)]\n",
      "asterballs [(0, 0.012667308), (4, 0.090775706), (5, 0.013971723), (6, 0.0749723), (11, 0.18455578), (13, 0.08084856), (14, 0.13390599), (15, 0.11490049), (19, 0.2867264)]\n",
      "4News [(0, 0.014255266), (4, 0.09361433), (5, 0.028684702), (6, 0.09232848), (10, 0.025977865), (11, 0.13266885), (13, 0.07690707), (14, 0.13076808), (15, 0.11611191), (16, 0.012055305), (19, 0.2764848)]\n",
      "haelie14News [(4, 0.088108346), (5, 0.029197358), (6, 0.08057722), (11, 0.15195529), (13, 0.06668523), (14, 0.13470697), (15, 0.15066235), (19, 0.28561103)]\n",
      "yron14News [(4, 0.065978095), (5, 0.038895275), (6, 0.06497026), (11, 0.13520381), (13, 0.07832062), (14, 0.1448187), (15, 0.17485338), (19, 0.29369128)]\n",
      "4FirstAlert [(0, 0.08336248), (4, 0.1840572), (5, 0.050449118), (6, 0.10973799), (14, 0.11715243), (16, 0.113098286), (19, 0.32952517)]\n",
      "dunk98 [(0, 0.050824795), (1, 0.049526624), (2, 0.049924664), (3, 0.049650315), (4, 0.049597472), (5, 0.04910381), (6, 0.050825004), (7, 0.05072084), (8, 0.049421657), (9, 0.051172543), (10, 0.04984271), (11, 0.050847605), (12, 0.05033645), (13, 0.049706582), (14, 0.050679088), (15, 0.04960026), (16, 0.04901314), (17, 0.049831357), (18, 0.04941689), (19, 0.049958184)]\n",
      "ara14News [(0, 0.024199173), (4, 0.05986983), (5, 0.02985141), (6, 0.08545504), (11, 0.19468388), (13, 0.05218435), (14, 0.13660792), (15, 0.14839928), (19, 0.26587042)]\n",
      "ess14News [(0, 0.014131363), (4, 0.088679336), (6, 0.09444292), (10, 0.07448904), (11, 0.070502885), (13, 0.091677174), (14, 0.15105747), (15, 0.13523328), (19, 0.27821806)]\n",
      "vanBrosmer [(0, 0.050824795), (1, 0.049526624), (2, 0.049924664), (3, 0.049650315), (4, 0.049597472), (5, 0.04910381), (6, 0.050825004), (7, 0.05072084), (8, 0.049421657), (9, 0.051172543), (10, 0.04984271), (11, 0.050847605), (12, 0.05033645), (13, 0.049706582), (14, 0.050679088), (15, 0.04960026), (16, 0.04901314), (17, 0.049831357), (18, 0.04941689), (19, 0.049958184)]\n",
      "ustinNewman91 [(0, 0.050824795), (1, 0.049526624), (2, 0.049924664), (3, 0.049650315), (4, 0.049597472), (5, 0.04910381), (6, 0.050825004), (7, 0.05072084), (8, 0.049421657), (9, 0.051172543), (10, 0.04984271), (11, 0.050847605), (12, 0.05033645), (13, 0.049706582), (14, 0.050679088), (15, 0.04960026), (16, 0.04901314), (17, 0.049831357), (18, 0.04941689), (19, 0.049958184)]\n",
      "assieCurry23 [(4, 0.07764783), (5, 0.03268977), (6, 0.08523538), (10, 0.011260548), (11, 0.12676214), (13, 0.101604246), (14, 0.12957153), (15, 0.12560526), (16, 0.026890801), (19, 0.27527356)]\n",
      "atto6278 [(0, 0.024241379), (4, 0.09052494), (6, 0.0540444), (11, 0.2483169), (13, 0.084818214), (14, 0.1064667), (15, 0.09715022), (19, 0.29089993)]\n",
      "an14News [(0, 0.013984792), (4, 0.08813429), (5, 0.02580021), (6, 0.08358596), (10, 0.021622522), (11, 0.12672079), (13, 0.080506675), (14, 0.123379886), (15, 0.16002946), (19, 0.26606792)]\n",
      "ilderVeronica [(4, 0.09181771), (5, 0.031463183), (6, 0.085675605), (10, 0.02530129), (11, 0.15234351), (13, 0.088709235), (14, 0.10522896), (15, 0.14780168), (19, 0.26299787)]\n",
      "llay_san [(0, 0.02292001), (4, 0.24380073), (6, 0.11107575), (11, 0.043499228), (13, 0.059356987), (14, 0.12741283), (15, 0.018064128), (19, 0.37275463)]\n",
      "rift [(0, 0.010819757), (4, 0.08043779), (5, 0.022855839), (6, 0.080701135), (10, 0.017451879), (11, 0.12504451), (13, 0.088367425), (14, 0.120850004), (15, 0.14641893), (16, 0.018527173), (19, 0.28847492)]\n",
      "arathonswift [(0, 0.014932449), (4, 0.08416859), (5, 0.03454228), (6, 0.06319199), (10, 0.02265637), (11, 0.13297425), (13, 0.08011042), (14, 0.1193233), (15, 0.15297373), (19, 0.29226822)]\n"
     ]
    }
   ],
   "source": [
    "for actor in person_network.nodes():\n",
    "    print(actor, person_network.nodes[actor]['topic_distribution'])"
   ],
   "metadata": {
    "collapsed": false,
    "pycharm": {
     "name": "#%%\n"
    }
   }
  },
  {
   "cell_type": "code",
   "execution_count": 671,
   "outputs": [],
   "source": [
    "from gensim.matutils import kullback_leibler"
   ],
   "metadata": {
    "collapsed": false,
    "pycharm": {
     "name": "#%%\n"
    }
   }
  },
  {
   "cell_type": "code",
   "execution_count": 672,
   "outputs": [],
   "source": [
    "def convert_to_prob(bow):\n",
    "    ps = []\n",
    "    for topic_no, topic_prob in bow:\n",
    "        ps.append(topic_prob)\n",
    "    return ps"
   ],
   "metadata": {
    "collapsed": false,
    "pycharm": {
     "name": "#%%\n"
    }
   }
  },
  {
   "cell_type": "code",
   "execution_count": 673,
   "outputs": [],
   "source": [
    "\n",
    "L = []\n",
    "for actor_1 in person_network.nodes():\n",
    "    p = person_network.nodes[actor_1]['topic_distribution']\n",
    "    p = convert_to_prob(p)\n",
    "    l = []\n",
    "    for actor_2 in person_network.nodes():\n",
    "        q = person_network.nodes[actor_2]['topic_distribution']\n",
    "        q = convert_to_prob(q)\n",
    "        if (len(p) != len(q)):\n",
    "            p = p[:min(len(p), len(q))]\n",
    "            q = q[:min(len(p), len(q))]\n",
    "        l.append(kullback_leibler(p, q))\n",
    "    L.append(l)\n",
    "M = np.array(L)"
   ],
   "metadata": {
    "collapsed": false,
    "pycharm": {
     "name": "#%%\n"
    }
   }
  },
  {
   "cell_type": "code",
   "execution_count": 674,
   "outputs": [
    {
     "data": {
      "text/plain": "<Figure size 432x288 with 2 Axes>",
      "image/png": "[encoded data removed]"
     },
     "metadata": {
      "needs_background": "light"
     },
     "output_type": "display_data"
    }
   ],
   "source": [
    "fig = plt.figure()\n",
    "div = pandas.DataFrame(M, columns = list(person_network.nodes()), index = list(person_network.nodes()))\n",
    "ax = sns.heatmap(div)\n",
    "plt.show()"
   ],
   "metadata": {
    "collapsed": false,
    "pycharm": {
     "name": "#%%\n"
    }
   }
  },
  {
   "cell_type": "code",
   "execution_count": 629,
   "outputs": [],
   "source": [],
   "metadata": {
    "collapsed": false,
    "pycharm": {
     "name": "#%%\n"
    }
   }
  },
  {
   "cell_type": "code",
   "execution_count": null,
   "outputs": [],
   "source": [],
   "metadata": {
    "collapsed": false,
    "pycharm": {
     "name": "#%%\n"
    }
   }
  }
 ],
 "metadata": {
  "anaconda-cloud": {},
  "kernelspec": {
   "display_name": "Python 3",
   "language": "python",
   "name": "python3"
  },
  "language_info": {
   "codemirror_mode": {
    "name": "ipython",
    "version": 3
   },
   "file_extension": ".py",
   "mimetype": "text/x-python",
   "name": "python",
   "nbconvert_exporter": "python",
   "pygments_lexer": "ipython3",
   "version": "3.7.6"
  }
 },
 "nbformat": 4,
 "nbformat_minor": 1
}